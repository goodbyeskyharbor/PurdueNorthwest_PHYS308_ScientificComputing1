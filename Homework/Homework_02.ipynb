{
  "cells": [
    {
      "cell_type": "markdown",
      "source": [
        "## Homework 2 - NumPy and MatPlotLib"
      ],
      "metadata": {
        "id": "ZjSnC5rkL9B1"
      }
    },
    {
      "cell_type": "markdown",
      "source": [
        "**Problem 1 - Array aggregation with particle data**:\n",
        "\n",
        "You are given a NumPy array containing data from a simulated particle collision. Each row represents a different particle, and the four columns represent its total energy E (in GeV) and its momentum components px, py, pz (in GeV/c).\n",
        "\n",
        "Your should use **axis aggregation** to analyze the event in the following ways:\n",
        "\n",
        "1. Calculate the total four-momentum of the event. This is done by summing the E, px, py, and pz columns for all particles. The result should be a 1D array with four elements: [total_E, total_px, total_py, total_pz].\n",
        "\n",
        "2. Using the total four-momentum from Task 1, calculate the invariant mass of event. The formula is: $M = \\sqrt{E_{tot}^2 - (p_{x,tot}^2 + p_{y,tot}^2 + p_{z,tot}^2)}$\n",
        "\n",
        "3. Find the particle with the highest transverse momentum (p_T). Transverse momentum is the momentum perpendicular to the beam line (the z-axis). The formula is: $p_T = \\sqrt{p_x^2 + p_y^2}$. Your final output for this task should be the value of the highest p_T and the index of the particle that has it.\n",
        "\n",
        "4.  Calculate the individual mass of each of the 10 particles. The formula for a single particle's mass is $m = \\sqrt{E^2 - (p_x^2 + p_y^2 + p_z^2)}$. The result should be a 1D array containing 10 mass values."
      ],
      "metadata": {
        "id": "SA0UuvtCHh5i"
      }
    },
    {
      "cell_type": "code",
      "source": [
        "import numpy as np\n",
        "\n",
        "# Data from a simulated particle collision\n",
        "# Shape: (10, 4) -> 10 particles, 4 properties [E, px, py, pz]\n",
        "particles = np.array([\n",
        "    [15.1,   8.9,  -1.2,  11.8],\n",
        "    [ 6.3,  -2.1,   5.5,   2.1],\n",
        "    [ 8.8,   3.3,   7.8,   1.5],\n",
        "    [ 2.9,   1.1,  -2.4,   1.1],\n",
        "    [12.1,  -9.8,   2.1,   6.5],\n",
        "    [ 4.5,   2.1,   0.9,   3.8],\n",
        "    [17.8,  -1.1, -15.1,   8.2],\n",
        "    [ 3.9,   0.5,   3.1,  -1.9],\n",
        "    [11.2,   8.2,  -6.8,   3.4],\n",
        "    [ 8.7,  -9.9,   6.0,   1.1]\n",
        "])\n",
        "\n",
        "#Solution to 1:\n",
        "\n",
        "def fourMoment(array2d):\n",
        "  return np.sum(array2d, axis=0)\n",
        "\n",
        "print(\"\\nPart 1 Solution: \\n\\nThe total four-momentum of the event is: \", fourMoment(particles))\n",
        "\n",
        "#Solution to 2:\n",
        "\n",
        "def invariantMassOfEvent(array):\n",
        "  return np.sqrt(np.clip(array[0]**2-array[1]**2-array[2]**2-array[3]**2, 0, None))\n",
        "\n",
        "print(\"\\nPart 2 Solution: \\n\\nThe invariant mass of event for the total four-momentum above is: \", invariantMassOfEvent(fourMoment(particles)))\n",
        "\n",
        "#Solution to 3:\n",
        "\n",
        "def maxTransMomentum(array2d):\n",
        "  trans_momentums = []\n",
        "\n",
        "  for row in array2d:\n",
        "    trans_momentums.append(np.sqrt(np.clip(row[1]**2+row[2]**2, 0, None)))\n",
        "\n",
        "  np_trans_momentums = np.array(trans_momentums)\n",
        "  max_trans_momentum = np_trans_momentums.max()\n",
        "\n",
        "  max_index = np.where(np_trans_momentums == max_trans_momentum)\n",
        "\n",
        "  return np.array([max_trans_momentum, max_index[0][0]])\n",
        "\n",
        "print(\"\\nPart 3 Solution: \\n\\nThe maximum tranverse momentum for the provided data is: \", maxTransMomentum(particles)[0], \" at index: \", maxTransMomentum(particles)[1])\n",
        "\n",
        "#Solution to 4:\n",
        "\n",
        "def individualParticleMasses(array2d):\n",
        "  temp_list = []\n",
        "\n",
        "  for row in array2d:\n",
        "    temp_list.append(invariantMassOfEvent(row))\n",
        "\n",
        "  return np.array(temp_list)\n",
        "\n",
        "print(\"\\nPart 4 Solution: \\n\\nThe individual particles masses are as follows:\\n\", individualParticleMasses(particles))"
      ],
      "metadata": {
        "id": "6rzLbpCdHhqi",
        "colab": {
          "base_uri": "https://localhost:8080/"
        },
        "outputId": "902ccc6d-02c9-49c7-9129-47b2e5adf985"
      },
      "execution_count": 51,
      "outputs": [
        {
          "output_type": "stream",
          "name": "stdout",
          "text": [
            "\n",
            "Part 1 Solution: \n",
            "\n",
            "The total four-momentum of the event is:  [91.3  1.2 -0.1 37.6]\n",
            "\n",
            "Part 2 Solution: \n",
            "\n",
            "The invariant mass of event for the total four-momentum above is:  83.18942240453411\n",
            "\n",
            "Part 3 Solution: \n",
            "\n",
            "The maximum tranverse momentum for the provided data is:  15.140013210033867  at index:  6.0\n",
            "\n",
            "Part 4 Solution: \n",
            "\n",
            "The individual particles masses are as follows:\n",
            " [2.84956137 0.78740079 1.86010752 0.47958315 1.92613603 0.76811457\n",
            " 4.51442134 1.3190906  0.63245553 0.        ]\n"
          ]
        }
      ]
    },
    {
      "cell_type": "markdown",
      "metadata": {
        "id": "NqaAyCm5-ZjS"
      },
      "source": [
        "**Problem 2 - Sunspot data - Calculating a moving average using numpy**\n",
        "\n",
        "The problem 2 statement (Newman 3.1) can be found in the link below. I also include some introductory information to help get you started:\n",
        "https://github.com/jdolen/PurdueNorthwest_PHYS308_ScientificComputing1/blob/master/Homework/Homework_02_Information.pdf\n",
        "\n",
        "Sunspot data can be found here:\n",
        "\n",
        "http://www-personal.umich.edu/~mejn/cp/data/sunspots.txt\n",
        "\n",
        "or here:\n",
        "\n",
        "https://github.com/jdolen/PurdueNorthwest_PHYS308_ScientificComputing1/blob/master/Data/sunspots.txt\n",
        "\n",
        "You can load the data with Numpy as follows:\n"
      ]
    },
    {
      "cell_type": "code",
      "execution_count": null,
      "metadata": {
        "id": "xf7cJibd-ZjU"
      },
      "outputs": [],
      "source": [
        "import numpy as np\n",
        "data = np.loadtxt(\"http://www-personal.umich.edu/~mejn/cp/data/stars.txt\",float)\n",
        "months = data[:,0] # number of months since January 1749\n",
        "Nspots = data[:,1] # number of sunspots in a given month"
      ]
    },
    {
      "cell_type": "code",
      "execution_count": null,
      "metadata": {
        "id": "S43e2nIu-ZjU",
        "outputId": "e0207665-c8b5-44bc-fce3-e7fe81a71882",
        "colab": {
          "base_uri": "https://localhost:8080/"
        }
      },
      "outputs": [
        {
          "output_type": "stream",
          "name": "stdout",
          "text": [
            "[15.73 17.01 15.86 15.98 16.73 10.19 16.56 17.99 15.   15.38]\n"
          ]
        }
      ],
      "source": [
        "print(Nspots[0:10])"
      ]
    },
    {
      "cell_type": "code",
      "execution_count": null,
      "metadata": {
        "id": "H0rjmi5F-ZjV"
      },
      "outputs": [],
      "source": []
    }
  ],
  "metadata": {
    "kernelspec": {
      "display_name": "Python 3",
      "language": "python",
      "name": "python3"
    },
    "language_info": {
      "codemirror_mode": {
        "name": "ipython",
        "version": 3
      },
      "file_extension": ".py",
      "mimetype": "text/x-python",
      "name": "python",
      "nbconvert_exporter": "python",
      "pygments_lexer": "ipython3",
      "version": "3.8.8"
    },
    "colab": {
      "provenance": []
    }
  },
  "nbformat": 4,
  "nbformat_minor": 0
}