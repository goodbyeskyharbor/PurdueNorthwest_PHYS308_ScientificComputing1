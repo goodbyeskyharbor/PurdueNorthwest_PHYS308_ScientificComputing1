{
  "cells": [
    {
      "cell_type": "markdown",
      "metadata": {
        "id": "GJIQP8mEb95I"
      },
      "source": [
        "# Project 1 - Classifying data from the MAGIC Gamma Ray Telescope                                    (by hand)"
      ]
    },
    {
      "cell_type": "markdown",
      "metadata": {
        "id": "EwScMhl2b95J"
      },
      "source": [
        "## Introduction\n",
        "\n",
        "The MAGIC (Major Atmospheric Gamma Imaging Cherenkov Telescopes) experiment is a stereoscopic system of two telescopes located in the Canary Islands off the coast of Africa. Each telescope has a diameter of 17 meters (the telescopes have a total area of 236 square meters) and they were built at an elevation of 7000 ft above sea level. You can view them on Google Maps [here](https://www.google.com/maps/place/MAGIC/@28.7610834,-17.8920331,764m/data=!3m1!1e3!4m13!1m7!3m6!1s0x0:0x0!2zMjjCsDQ1JzQzLjAiTiAxN8KwNTMnMjQuMCJX!3b1!8m2!3d28.761944!4d-17.89!3m4!1s0xc6bfa9d9eb2563f:0x5ca35b5e39bba274!8m2!3d28.7617134!4d-17.8906459?hl=en). The official websites for this experiment can be found [here](\n",
        "https://www.mpp.mpg.de/en/research/astroparticle-physics-and-cosmology/magic-and-cta-gamma-ray-telescopes/magic/) and [here](https://magic.mpp.mpg.de/).\n",
        "\n",
        "<img src=\"https://raw.githubusercontent.com/jdolen/PurdueNorthwest_PHYS308_ScientificComputing1/master/Images/MAGICtelescopes.jpg\" alt=\"Drawing\" style=\"width: 500px;\"/>\n",
        "\n",
        "While most telescopes are used to observe stars, galaxies, planets, and objects outside our atmosphere, the MAGIC experiment instead observes light produced in the Earth's atmosphere by cosmic rays. High energy particles striking the Earth's atmosphere (cosmic rays) produce showers of particles (also known as a particle cascade). The charged particles in these showers are superluminal (they travel faster than the speed of light in our atmosphere) and produce Cherenkov radiation. This light is then detected by the MAGIC telescopes.\n",
        "\n",
        "<img src=\"https://raw.githubusercontent.com/jdolen/PurdueNorthwest_PHYS308_ScientificComputing1/master/Images/CosmicRayShowerDetection.png\" alt=\"Drawing\" style=\"width: 500px;\"/>\n",
        "\n",
        "One single cosmic ray will produce a large shower of particles which will then produce a large front of Cherenkov light which then strikes the MAGIC telescopes. Each of these light detections is known as an \"event\". One particle shower will produce on the order of 100 Cherenkov photons per square meter within an area of 55000 square meters (130 m radius) all within a few nanoseconds. The Cherenkov light striking MAGIC's mirrors is reflected into hundreds of hexagonal photomultiplier detectors convert light into an electrical signal and measure the intensity of the light. The MAGIC camera can be seen [here](https://magic.mpp.mpg.de/newcomers/technical-implementation/camera/) and a typical MAGIC cosmic ray event detection is shown below:\n",
        "\n",
        "<img src=\"https://github.com/jdolen/PurdueNorthwest_PHYS308_ScientificComputing1/raw/master/Images/MAGIClight.jpg\" alt=\"Drawing\" style=\"width: 600px;\"/>\n",
        "\n",
        "MAGIC is specifically designed to study high energy gamma rays originating from extragalactic sources. High energy gamma rays hitting the earth's atmosphere produce cosmic ray showers, as do other types of high energy particles hitting our atmosphere. However, there are differences in the cherenkov light patterns from cosmic ray showers produced by gamma rays (see image below). The major goal of this project is to classify events observed by MAGIC as originating from either a gamma ray (signal) or a cosmic ray hadron (background cosmic rays origninating from protons and neutrons).\n",
        "\n",
        "<img src=\"https://github.com/jdolen/PurdueNorthwest_PHYS308_ScientificComputing1/raw/master/Images/CosmicRayShowerTypes.png\" alt=\"Drawing\" style=\"width: 500px;\"/>\n",
        "\n",
        "\n",
        "\n",
        "## Data\n",
        "\n",
        "We will access data from the MAGIC telescope and anayze it in order to better classify observed particles as being either gamma rays (signal) or neutrons (background).\n",
        "   \n",
        "The MAGIC experiment has made their data freely available for anybody to analyze. The data is currently hosted at the [UC Irvine Machine Learning Repository](https://archive.ics.uci.fAsymedu/ml/datasets/MAGIC+Gamma+Telescope).\n",
        "  \n",
        "The repository also contains a description of data and variables [here](https://archive.ics.uci.edu/ml/machine-learning-databases/magic/magic04.names). For more information please read:\n",
        "1. [Bock, R.k., et al. \"Methods for multidimensional event classification: a case study using images from\n",
        "a Cherenkov gamma-ray telescope\"](http://citeseerx.ist.psu.edu/viewdoc/download?doi=10.1.1.135.6914&rep=rep1&type=pdf)\n",
        "2. [Fegan, D. \"Gamma/Hadron seperation at TeV Energies\"](http://iopscience.iop.org/article/10.1088/0954-3899/23/9/004/pdf)\n",
        "\n",
        "As defined in the references above, the important variables which will be used to classify shower images are based on the characteristics of a typical elliptical shower shape:\n",
        "\n",
        "\n",
        "    1. fLength:  continuous  # major axis of ellipse [mm]\n",
        "    2. fWidth:   continuous  # minor axis of ellipse [mm]\n",
        "    3.  fSize:    continuous  # 10-log of sum of content of all pixels [in #phot]\n",
        "    4.  fConc:    continuous  # ratio of sum of two highest pixels over fSize  [ratio]\n",
        "    5.  fConc1:   continuous  # ratio of highest pixel over fSize  [ratio]\n",
        "    6.  fAsym:    continuous  # distance from highest pixel to center, projected onto major axis [mm]\n",
        "    7.  fM3Long:  continuous  # 3rd root of third moment along major axis  [mm]\n",
        "    8.  fM3Trans: continuous  # 3rd root of third moment along minor axis  [mm]\n",
        "    9.  fAlpha:   continuous  # angle of major axis with vector to origin [deg]\n",
        "    10.  fDist:    continuous  # distance from origin to center of ellipse [mm]\n",
        "    11.  class:    g,h         # gamma (signal), hadron (background)\n",
        "\n",
        "\n",
        "\n",
        "<img src=\"https://raw.githubusercontent.com/jdolen/PurdueNorthwest_PHYS308_ScientificComputing1/master/Images/MAGICshowerShape.png\" alt=\"Drawing\" style=\"width: 200px;\"/>\n",
        "\n",
        "The data provided has already been classified. This will allow us to test how succesful we are at classifying the data using only the shower shape variables. The data is labeled using the following classifications:\n",
        "\n",
        "   - g = gamma (signal):     12332 events\n",
        "   - h = hadron (background): 6688 events\n",
        "\n",
        "\n",
        "## Setup\n",
        "\n",
        "Here is a basic setup for accessing the data with pandas."
      ]
    },
    {
      "cell_type": "code",
      "execution_count": null,
      "metadata": {
        "id": "AWpcpEdAb95K"
      },
      "outputs": [],
      "source": [
        "import numpy as np\n",
        "import matplotlib.pyplot as plt\n",
        "import pandas as pd\n",
        "%matplotlib inline\n",
        "import seaborn as sns\n",
        "from scipy import stats, integrate"
      ]
    },
    {
      "cell_type": "code",
      "execution_count": null,
      "metadata": {
        "id": "W8sob5WJb95L"
      },
      "outputs": [],
      "source": [
        "sns.set_style(\"whitegrid\")\n",
        "sns.set_context(\"talk\")"
      ]
    },
    {
      "cell_type": "code",
      "execution_count": null,
      "metadata": {
        "id": "xelh85fWb95L"
      },
      "outputs": [],
      "source": [
        "# Setup data access\n",
        "data_path = 'https://archive.ics.uci.edu/ml/machine-learning-databases/magic/magic04.data'\n",
        "variable_names =['fLength',   'fWidth',  'fSize', 'fConc','fConc1', 'fAsym',\n",
        "                 'fM3Long', 'fM3Trans', 'fAlpha', 'fDist', 'class']\n",
        "\n",
        "# Read in the data and create a pandas dataframe with the proper variable names\n",
        "df = pd.read_csv(data_path, names=variable_names, na_values='?')"
      ]
    },
    {
      "cell_type": "code",
      "execution_count": null,
      "metadata": {
        "id": "ZuNUzrEpb95L",
        "outputId": "06597982-1b75-461f-934d-b26c04726f63"
      },
      "outputs": [
        {
          "data": {
            "text/html": [
              "<div>\n",
              "<style scoped>\n",
              "    .dataframe tbody tr th:only-of-type {\n",
              "        vertical-align: middle;\n",
              "    }\n",
              "\n",
              "    .dataframe tbody tr th {\n",
              "        vertical-align: top;\n",
              "    }\n",
              "\n",
              "    .dataframe thead th {\n",
              "        text-align: right;\n",
              "    }\n",
              "</style>\n",
              "<table border=\"1\" class=\"dataframe\">\n",
              "  <thead>\n",
              "    <tr style=\"text-align: right;\">\n",
              "      <th></th>\n",
              "      <th>fLength</th>\n",
              "      <th>fWidth</th>\n",
              "      <th>fSize</th>\n",
              "      <th>fConc</th>\n",
              "      <th>fConc1</th>\n",
              "      <th>fAsym</th>\n",
              "      <th>fM3Long</th>\n",
              "      <th>fM3Trans</th>\n",
              "      <th>fAlpha</th>\n",
              "      <th>fDist</th>\n",
              "      <th>class</th>\n",
              "    </tr>\n",
              "  </thead>\n",
              "  <tbody>\n",
              "    <tr>\n",
              "      <th>0</th>\n",
              "      <td>28.7967</td>\n",
              "      <td>16.0021</td>\n",
              "      <td>2.6449</td>\n",
              "      <td>0.3918</td>\n",
              "      <td>0.1982</td>\n",
              "      <td>27.7004</td>\n",
              "      <td>22.0110</td>\n",
              "      <td>-8.2027</td>\n",
              "      <td>40.0920</td>\n",
              "      <td>81.8828</td>\n",
              "      <td>g</td>\n",
              "    </tr>\n",
              "    <tr>\n",
              "      <th>1</th>\n",
              "      <td>31.6036</td>\n",
              "      <td>11.7235</td>\n",
              "      <td>2.5185</td>\n",
              "      <td>0.5303</td>\n",
              "      <td>0.3773</td>\n",
              "      <td>26.2722</td>\n",
              "      <td>23.8238</td>\n",
              "      <td>-9.9574</td>\n",
              "      <td>6.3609</td>\n",
              "      <td>205.2610</td>\n",
              "      <td>g</td>\n",
              "    </tr>\n",
              "    <tr>\n",
              "      <th>2</th>\n",
              "      <td>162.0520</td>\n",
              "      <td>136.0310</td>\n",
              "      <td>4.0612</td>\n",
              "      <td>0.0374</td>\n",
              "      <td>0.0187</td>\n",
              "      <td>116.7410</td>\n",
              "      <td>-64.8580</td>\n",
              "      <td>-45.2160</td>\n",
              "      <td>76.9600</td>\n",
              "      <td>256.7880</td>\n",
              "      <td>g</td>\n",
              "    </tr>\n",
              "    <tr>\n",
              "      <th>3</th>\n",
              "      <td>23.8172</td>\n",
              "      <td>9.5728</td>\n",
              "      <td>2.3385</td>\n",
              "      <td>0.6147</td>\n",
              "      <td>0.3922</td>\n",
              "      <td>27.2107</td>\n",
              "      <td>-6.4633</td>\n",
              "      <td>-7.1513</td>\n",
              "      <td>10.4490</td>\n",
              "      <td>116.7370</td>\n",
              "      <td>g</td>\n",
              "    </tr>\n",
              "    <tr>\n",
              "      <th>4</th>\n",
              "      <td>75.1362</td>\n",
              "      <td>30.9205</td>\n",
              "      <td>3.1611</td>\n",
              "      <td>0.3168</td>\n",
              "      <td>0.1832</td>\n",
              "      <td>-5.5277</td>\n",
              "      <td>28.5525</td>\n",
              "      <td>21.8393</td>\n",
              "      <td>4.6480</td>\n",
              "      <td>356.4620</td>\n",
              "      <td>g</td>\n",
              "    </tr>\n",
              "    <tr>\n",
              "      <th>5</th>\n",
              "      <td>51.6240</td>\n",
              "      <td>21.1502</td>\n",
              "      <td>2.9085</td>\n",
              "      <td>0.2420</td>\n",
              "      <td>0.1340</td>\n",
              "      <td>50.8761</td>\n",
              "      <td>43.1887</td>\n",
              "      <td>9.8145</td>\n",
              "      <td>3.6130</td>\n",
              "      <td>238.0980</td>\n",
              "      <td>g</td>\n",
              "    </tr>\n",
              "    <tr>\n",
              "      <th>6</th>\n",
              "      <td>48.2468</td>\n",
              "      <td>17.3565</td>\n",
              "      <td>3.0332</td>\n",
              "      <td>0.2529</td>\n",
              "      <td>0.1515</td>\n",
              "      <td>8.5730</td>\n",
              "      <td>38.0957</td>\n",
              "      <td>10.5868</td>\n",
              "      <td>4.7920</td>\n",
              "      <td>219.0870</td>\n",
              "      <td>g</td>\n",
              "    </tr>\n",
              "    <tr>\n",
              "      <th>7</th>\n",
              "      <td>26.7897</td>\n",
              "      <td>13.7595</td>\n",
              "      <td>2.5521</td>\n",
              "      <td>0.4236</td>\n",
              "      <td>0.2174</td>\n",
              "      <td>29.6339</td>\n",
              "      <td>20.4560</td>\n",
              "      <td>-2.9292</td>\n",
              "      <td>0.8120</td>\n",
              "      <td>237.1340</td>\n",
              "      <td>g</td>\n",
              "    </tr>\n",
              "    <tr>\n",
              "      <th>8</th>\n",
              "      <td>96.2327</td>\n",
              "      <td>46.5165</td>\n",
              "      <td>4.1540</td>\n",
              "      <td>0.0779</td>\n",
              "      <td>0.0390</td>\n",
              "      <td>110.3550</td>\n",
              "      <td>85.0486</td>\n",
              "      <td>43.1844</td>\n",
              "      <td>4.8540</td>\n",
              "      <td>248.2260</td>\n",
              "      <td>g</td>\n",
              "    </tr>\n",
              "    <tr>\n",
              "      <th>9</th>\n",
              "      <td>46.7619</td>\n",
              "      <td>15.1993</td>\n",
              "      <td>2.5786</td>\n",
              "      <td>0.3377</td>\n",
              "      <td>0.1913</td>\n",
              "      <td>24.7548</td>\n",
              "      <td>43.8771</td>\n",
              "      <td>-6.6812</td>\n",
              "      <td>7.8750</td>\n",
              "      <td>102.2510</td>\n",
              "      <td>g</td>\n",
              "    </tr>\n",
              "  </tbody>\n",
              "</table>\n",
              "</div>"
            ],
            "text/plain": [
              "    fLength    fWidth   fSize   fConc  fConc1     fAsym  fM3Long  fM3Trans  \\\n",
              "0   28.7967   16.0021  2.6449  0.3918  0.1982   27.7004  22.0110   -8.2027   \n",
              "1   31.6036   11.7235  2.5185  0.5303  0.3773   26.2722  23.8238   -9.9574   \n",
              "2  162.0520  136.0310  4.0612  0.0374  0.0187  116.7410 -64.8580  -45.2160   \n",
              "3   23.8172    9.5728  2.3385  0.6147  0.3922   27.2107  -6.4633   -7.1513   \n",
              "4   75.1362   30.9205  3.1611  0.3168  0.1832   -5.5277  28.5525   21.8393   \n",
              "5   51.6240   21.1502  2.9085  0.2420  0.1340   50.8761  43.1887    9.8145   \n",
              "6   48.2468   17.3565  3.0332  0.2529  0.1515    8.5730  38.0957   10.5868   \n",
              "7   26.7897   13.7595  2.5521  0.4236  0.2174   29.6339  20.4560   -2.9292   \n",
              "8   96.2327   46.5165  4.1540  0.0779  0.0390  110.3550  85.0486   43.1844   \n",
              "9   46.7619   15.1993  2.5786  0.3377  0.1913   24.7548  43.8771   -6.6812   \n",
              "\n",
              "    fAlpha     fDist class  \n",
              "0  40.0920   81.8828     g  \n",
              "1   6.3609  205.2610     g  \n",
              "2  76.9600  256.7880     g  \n",
              "3  10.4490  116.7370     g  \n",
              "4   4.6480  356.4620     g  \n",
              "5   3.6130  238.0980     g  \n",
              "6   4.7920  219.0870     g  \n",
              "7   0.8120  237.1340     g  \n",
              "8   4.8540  248.2260     g  \n",
              "9   7.8750  102.2510     g  "
            ]
          },
          "execution_count": 19,
          "metadata": {},
          "output_type": "execute_result"
        }
      ],
      "source": [
        "df.head(10)"
      ]
    },
    {
      "cell_type": "code",
      "execution_count": null,
      "metadata": {
        "id": "63oht_CVb95M",
        "outputId": "07eb47f5-ebac-4626-a2e9-2e703c3188ef"
      },
      "outputs": [
        {
          "data": {
            "text/html": [
              "<div>\n",
              "<style scoped>\n",
              "    .dataframe tbody tr th:only-of-type {\n",
              "        vertical-align: middle;\n",
              "    }\n",
              "\n",
              "    .dataframe tbody tr th {\n",
              "        vertical-align: top;\n",
              "    }\n",
              "\n",
              "    .dataframe thead th {\n",
              "        text-align: right;\n",
              "    }\n",
              "</style>\n",
              "<table border=\"1\" class=\"dataframe\">\n",
              "  <thead>\n",
              "    <tr style=\"text-align: right;\">\n",
              "      <th></th>\n",
              "      <th>fLength</th>\n",
              "      <th>fWidth</th>\n",
              "      <th>fSize</th>\n",
              "      <th>fConc</th>\n",
              "      <th>fConc1</th>\n",
              "      <th>fAsym</th>\n",
              "      <th>fM3Long</th>\n",
              "      <th>fM3Trans</th>\n",
              "      <th>fAlpha</th>\n",
              "      <th>fDist</th>\n",
              "      <th>class</th>\n",
              "    </tr>\n",
              "  </thead>\n",
              "  <tbody>\n",
              "    <tr>\n",
              "      <th>19010</th>\n",
              "      <td>32.4902</td>\n",
              "      <td>10.6723</td>\n",
              "      <td>2.4742</td>\n",
              "      <td>0.4664</td>\n",
              "      <td>0.2735</td>\n",
              "      <td>-27.0097</td>\n",
              "      <td>-21.1687</td>\n",
              "      <td>8.4813</td>\n",
              "      <td>69.1730</td>\n",
              "      <td>120.6680</td>\n",
              "      <td>h</td>\n",
              "    </tr>\n",
              "    <tr>\n",
              "      <th>19011</th>\n",
              "      <td>79.5528</td>\n",
              "      <td>44.9929</td>\n",
              "      <td>3.5488</td>\n",
              "      <td>0.1656</td>\n",
              "      <td>0.0900</td>\n",
              "      <td>-39.6213</td>\n",
              "      <td>53.7866</td>\n",
              "      <td>-30.0054</td>\n",
              "      <td>15.8075</td>\n",
              "      <td>311.5680</td>\n",
              "      <td>h</td>\n",
              "    </tr>\n",
              "    <tr>\n",
              "      <th>19012</th>\n",
              "      <td>31.8373</td>\n",
              "      <td>13.8734</td>\n",
              "      <td>2.8251</td>\n",
              "      <td>0.4169</td>\n",
              "      <td>0.1988</td>\n",
              "      <td>-16.4919</td>\n",
              "      <td>-27.1448</td>\n",
              "      <td>11.1098</td>\n",
              "      <td>11.3663</td>\n",
              "      <td>100.0566</td>\n",
              "      <td>h</td>\n",
              "    </tr>\n",
              "    <tr>\n",
              "      <th>19013</th>\n",
              "      <td>182.5003</td>\n",
              "      <td>76.5568</td>\n",
              "      <td>3.6872</td>\n",
              "      <td>0.1123</td>\n",
              "      <td>0.0666</td>\n",
              "      <td>192.2675</td>\n",
              "      <td>93.0302</td>\n",
              "      <td>-62.6192</td>\n",
              "      <td>82.1691</td>\n",
              "      <td>283.4731</td>\n",
              "      <td>h</td>\n",
              "    </tr>\n",
              "    <tr>\n",
              "      <th>19014</th>\n",
              "      <td>43.2980</td>\n",
              "      <td>17.3545</td>\n",
              "      <td>2.8307</td>\n",
              "      <td>0.2877</td>\n",
              "      <td>0.1646</td>\n",
              "      <td>-60.1842</td>\n",
              "      <td>-33.8513</td>\n",
              "      <td>-3.6545</td>\n",
              "      <td>78.4099</td>\n",
              "      <td>224.8299</td>\n",
              "      <td>h</td>\n",
              "    </tr>\n",
              "    <tr>\n",
              "      <th>19015</th>\n",
              "      <td>21.3846</td>\n",
              "      <td>10.9170</td>\n",
              "      <td>2.6161</td>\n",
              "      <td>0.5857</td>\n",
              "      <td>0.3934</td>\n",
              "      <td>15.2618</td>\n",
              "      <td>11.5245</td>\n",
              "      <td>2.8766</td>\n",
              "      <td>2.4229</td>\n",
              "      <td>106.8258</td>\n",
              "      <td>h</td>\n",
              "    </tr>\n",
              "    <tr>\n",
              "      <th>19016</th>\n",
              "      <td>28.9452</td>\n",
              "      <td>6.7020</td>\n",
              "      <td>2.2672</td>\n",
              "      <td>0.5351</td>\n",
              "      <td>0.2784</td>\n",
              "      <td>37.0816</td>\n",
              "      <td>13.1853</td>\n",
              "      <td>-2.9632</td>\n",
              "      <td>86.7975</td>\n",
              "      <td>247.4560</td>\n",
              "      <td>h</td>\n",
              "    </tr>\n",
              "    <tr>\n",
              "      <th>19017</th>\n",
              "      <td>75.4455</td>\n",
              "      <td>47.5305</td>\n",
              "      <td>3.4483</td>\n",
              "      <td>0.1417</td>\n",
              "      <td>0.0549</td>\n",
              "      <td>-9.3561</td>\n",
              "      <td>41.0562</td>\n",
              "      <td>-9.4662</td>\n",
              "      <td>30.2987</td>\n",
              "      <td>256.5166</td>\n",
              "      <td>h</td>\n",
              "    </tr>\n",
              "    <tr>\n",
              "      <th>19018</th>\n",
              "      <td>120.5135</td>\n",
              "      <td>76.9018</td>\n",
              "      <td>3.9939</td>\n",
              "      <td>0.0944</td>\n",
              "      <td>0.0683</td>\n",
              "      <td>5.8043</td>\n",
              "      <td>-93.5224</td>\n",
              "      <td>-63.8389</td>\n",
              "      <td>84.6874</td>\n",
              "      <td>408.3166</td>\n",
              "      <td>h</td>\n",
              "    </tr>\n",
              "    <tr>\n",
              "      <th>19019</th>\n",
              "      <td>187.1814</td>\n",
              "      <td>53.0014</td>\n",
              "      <td>3.2093</td>\n",
              "      <td>0.2876</td>\n",
              "      <td>0.1539</td>\n",
              "      <td>-167.3125</td>\n",
              "      <td>-168.4558</td>\n",
              "      <td>31.4755</td>\n",
              "      <td>52.7310</td>\n",
              "      <td>272.3174</td>\n",
              "      <td>h</td>\n",
              "    </tr>\n",
              "  </tbody>\n",
              "</table>\n",
              "</div>"
            ],
            "text/plain": [
              "        fLength   fWidth   fSize   fConc  fConc1     fAsym   fM3Long  \\\n",
              "19010   32.4902  10.6723  2.4742  0.4664  0.2735  -27.0097  -21.1687   \n",
              "19011   79.5528  44.9929  3.5488  0.1656  0.0900  -39.6213   53.7866   \n",
              "19012   31.8373  13.8734  2.8251  0.4169  0.1988  -16.4919  -27.1448   \n",
              "19013  182.5003  76.5568  3.6872  0.1123  0.0666  192.2675   93.0302   \n",
              "19014   43.2980  17.3545  2.8307  0.2877  0.1646  -60.1842  -33.8513   \n",
              "19015   21.3846  10.9170  2.6161  0.5857  0.3934   15.2618   11.5245   \n",
              "19016   28.9452   6.7020  2.2672  0.5351  0.2784   37.0816   13.1853   \n",
              "19017   75.4455  47.5305  3.4483  0.1417  0.0549   -9.3561   41.0562   \n",
              "19018  120.5135  76.9018  3.9939  0.0944  0.0683    5.8043  -93.5224   \n",
              "19019  187.1814  53.0014  3.2093  0.2876  0.1539 -167.3125 -168.4558   \n",
              "\n",
              "       fM3Trans   fAlpha     fDist class  \n",
              "19010    8.4813  69.1730  120.6680     h  \n",
              "19011  -30.0054  15.8075  311.5680     h  \n",
              "19012   11.1098  11.3663  100.0566     h  \n",
              "19013  -62.6192  82.1691  283.4731     h  \n",
              "19014   -3.6545  78.4099  224.8299     h  \n",
              "19015    2.8766   2.4229  106.8258     h  \n",
              "19016   -2.9632  86.7975  247.4560     h  \n",
              "19017   -9.4662  30.2987  256.5166     h  \n",
              "19018  -63.8389  84.6874  408.3166     h  \n",
              "19019   31.4755  52.7310  272.3174     h  "
            ]
          },
          "execution_count": 6,
          "metadata": {},
          "output_type": "execute_result"
        }
      ],
      "source": [
        "df.tail(10)"
      ]
    },
    {
      "cell_type": "code",
      "execution_count": null,
      "metadata": {
        "id": "F7TTfhrWb95M"
      },
      "outputs": [],
      "source": [
        "# Add a gamma boolean column\n",
        "df.loc[df['class'] == 'g', 'isGamma'] = True\n",
        "df.loc[df['class'] == 'h', 'isGamma'] = False"
      ]
    },
    {
      "cell_type": "code",
      "execution_count": null,
      "metadata": {
        "id": "bHfbo12xb95M"
      },
      "outputs": [],
      "source": [
        "# Add a hadron boolean column\n",
        "df.loc[df['class'] == 'h', 'isHadron'] = True\n",
        "df.loc[df['class'] == 'g', 'isHadron'] = False"
      ]
    },
    {
      "cell_type": "code",
      "execution_count": null,
      "metadata": {
        "id": "jDuETndWb95M",
        "outputId": "229df896-8fd6-436b-ade6-2b9dcd8c09cb"
      },
      "outputs": [
        {
          "data": {
            "text/html": [
              "<div>\n",
              "<style scoped>\n",
              "    .dataframe tbody tr th:only-of-type {\n",
              "        vertical-align: middle;\n",
              "    }\n",
              "\n",
              "    .dataframe tbody tr th {\n",
              "        vertical-align: top;\n",
              "    }\n",
              "\n",
              "    .dataframe thead th {\n",
              "        text-align: right;\n",
              "    }\n",
              "</style>\n",
              "<table border=\"1\" class=\"dataframe\">\n",
              "  <thead>\n",
              "    <tr style=\"text-align: right;\">\n",
              "      <th></th>\n",
              "      <th>fLength</th>\n",
              "      <th>fWidth</th>\n",
              "      <th>fSize</th>\n",
              "      <th>fConc</th>\n",
              "      <th>fConc1</th>\n",
              "      <th>fAsym</th>\n",
              "      <th>fM3Long</th>\n",
              "      <th>fM3Trans</th>\n",
              "      <th>fAlpha</th>\n",
              "      <th>fDist</th>\n",
              "      <th>class</th>\n",
              "      <th>isGamma</th>\n",
              "      <th>isHadron</th>\n",
              "    </tr>\n",
              "  </thead>\n",
              "  <tbody>\n",
              "    <tr>\n",
              "      <th>0</th>\n",
              "      <td>28.7967</td>\n",
              "      <td>16.0021</td>\n",
              "      <td>2.6449</td>\n",
              "      <td>0.3918</td>\n",
              "      <td>0.1982</td>\n",
              "      <td>27.7004</td>\n",
              "      <td>22.0110</td>\n",
              "      <td>-8.2027</td>\n",
              "      <td>40.0920</td>\n",
              "      <td>81.8828</td>\n",
              "      <td>g</td>\n",
              "      <td>True</td>\n",
              "      <td>False</td>\n",
              "    </tr>\n",
              "    <tr>\n",
              "      <th>1</th>\n",
              "      <td>31.6036</td>\n",
              "      <td>11.7235</td>\n",
              "      <td>2.5185</td>\n",
              "      <td>0.5303</td>\n",
              "      <td>0.3773</td>\n",
              "      <td>26.2722</td>\n",
              "      <td>23.8238</td>\n",
              "      <td>-9.9574</td>\n",
              "      <td>6.3609</td>\n",
              "      <td>205.2610</td>\n",
              "      <td>g</td>\n",
              "      <td>True</td>\n",
              "      <td>False</td>\n",
              "    </tr>\n",
              "    <tr>\n",
              "      <th>2</th>\n",
              "      <td>162.0520</td>\n",
              "      <td>136.0310</td>\n",
              "      <td>4.0612</td>\n",
              "      <td>0.0374</td>\n",
              "      <td>0.0187</td>\n",
              "      <td>116.7410</td>\n",
              "      <td>-64.8580</td>\n",
              "      <td>-45.2160</td>\n",
              "      <td>76.9600</td>\n",
              "      <td>256.7880</td>\n",
              "      <td>g</td>\n",
              "      <td>True</td>\n",
              "      <td>False</td>\n",
              "    </tr>\n",
              "    <tr>\n",
              "      <th>3</th>\n",
              "      <td>23.8172</td>\n",
              "      <td>9.5728</td>\n",
              "      <td>2.3385</td>\n",
              "      <td>0.6147</td>\n",
              "      <td>0.3922</td>\n",
              "      <td>27.2107</td>\n",
              "      <td>-6.4633</td>\n",
              "      <td>-7.1513</td>\n",
              "      <td>10.4490</td>\n",
              "      <td>116.7370</td>\n",
              "      <td>g</td>\n",
              "      <td>True</td>\n",
              "      <td>False</td>\n",
              "    </tr>\n",
              "    <tr>\n",
              "      <th>4</th>\n",
              "      <td>75.1362</td>\n",
              "      <td>30.9205</td>\n",
              "      <td>3.1611</td>\n",
              "      <td>0.3168</td>\n",
              "      <td>0.1832</td>\n",
              "      <td>-5.5277</td>\n",
              "      <td>28.5525</td>\n",
              "      <td>21.8393</td>\n",
              "      <td>4.6480</td>\n",
              "      <td>356.4620</td>\n",
              "      <td>g</td>\n",
              "      <td>True</td>\n",
              "      <td>False</td>\n",
              "    </tr>\n",
              "  </tbody>\n",
              "</table>\n",
              "</div>"
            ],
            "text/plain": [
              "    fLength    fWidth   fSize   fConc  fConc1     fAsym  fM3Long  fM3Trans  \\\n",
              "0   28.7967   16.0021  2.6449  0.3918  0.1982   27.7004  22.0110   -8.2027   \n",
              "1   31.6036   11.7235  2.5185  0.5303  0.3773   26.2722  23.8238   -9.9574   \n",
              "2  162.0520  136.0310  4.0612  0.0374  0.0187  116.7410 -64.8580  -45.2160   \n",
              "3   23.8172    9.5728  2.3385  0.6147  0.3922   27.2107  -6.4633   -7.1513   \n",
              "4   75.1362   30.9205  3.1611  0.3168  0.1832   -5.5277  28.5525   21.8393   \n",
              "\n",
              "    fAlpha     fDist class isGamma isHadron  \n",
              "0  40.0920   81.8828     g    True    False  \n",
              "1   6.3609  205.2610     g    True    False  \n",
              "2  76.9600  256.7880     g    True    False  \n",
              "3  10.4490  116.7370     g    True    False  \n",
              "4   4.6480  356.4620     g    True    False  "
            ]
          },
          "execution_count": 9,
          "metadata": {},
          "output_type": "execute_result"
        }
      ],
      "source": [
        "df.head()"
      ]
    },
    {
      "cell_type": "code",
      "execution_count": null,
      "metadata": {
        "id": "-hgh4J3Ob95M",
        "outputId": "43276e2b-e744-4a20-c8bf-c71f0d3c26de"
      },
      "outputs": [
        {
          "data": {
            "text/html": [
              "<div>\n",
              "<style scoped>\n",
              "    .dataframe tbody tr th:only-of-type {\n",
              "        vertical-align: middle;\n",
              "    }\n",
              "\n",
              "    .dataframe tbody tr th {\n",
              "        vertical-align: top;\n",
              "    }\n",
              "\n",
              "    .dataframe thead th {\n",
              "        text-align: right;\n",
              "    }\n",
              "</style>\n",
              "<table border=\"1\" class=\"dataframe\">\n",
              "  <thead>\n",
              "    <tr style=\"text-align: right;\">\n",
              "      <th></th>\n",
              "      <th>fLength</th>\n",
              "      <th>fWidth</th>\n",
              "      <th>fSize</th>\n",
              "      <th>fConc</th>\n",
              "      <th>fConc1</th>\n",
              "      <th>fAsym</th>\n",
              "      <th>fM3Long</th>\n",
              "      <th>fM3Trans</th>\n",
              "      <th>fAlpha</th>\n",
              "      <th>fDist</th>\n",
              "      <th>class</th>\n",
              "      <th>isGamma</th>\n",
              "      <th>isHadron</th>\n",
              "    </tr>\n",
              "  </thead>\n",
              "  <tbody>\n",
              "    <tr>\n",
              "      <th>19015</th>\n",
              "      <td>21.3846</td>\n",
              "      <td>10.9170</td>\n",
              "      <td>2.6161</td>\n",
              "      <td>0.5857</td>\n",
              "      <td>0.3934</td>\n",
              "      <td>15.2618</td>\n",
              "      <td>11.5245</td>\n",
              "      <td>2.8766</td>\n",
              "      <td>2.4229</td>\n",
              "      <td>106.8258</td>\n",
              "      <td>h</td>\n",
              "      <td>False</td>\n",
              "      <td>True</td>\n",
              "    </tr>\n",
              "    <tr>\n",
              "      <th>19016</th>\n",
              "      <td>28.9452</td>\n",
              "      <td>6.7020</td>\n",
              "      <td>2.2672</td>\n",
              "      <td>0.5351</td>\n",
              "      <td>0.2784</td>\n",
              "      <td>37.0816</td>\n",
              "      <td>13.1853</td>\n",
              "      <td>-2.9632</td>\n",
              "      <td>86.7975</td>\n",
              "      <td>247.4560</td>\n",
              "      <td>h</td>\n",
              "      <td>False</td>\n",
              "      <td>True</td>\n",
              "    </tr>\n",
              "    <tr>\n",
              "      <th>19017</th>\n",
              "      <td>75.4455</td>\n",
              "      <td>47.5305</td>\n",
              "      <td>3.4483</td>\n",
              "      <td>0.1417</td>\n",
              "      <td>0.0549</td>\n",
              "      <td>-9.3561</td>\n",
              "      <td>41.0562</td>\n",
              "      <td>-9.4662</td>\n",
              "      <td>30.2987</td>\n",
              "      <td>256.5166</td>\n",
              "      <td>h</td>\n",
              "      <td>False</td>\n",
              "      <td>True</td>\n",
              "    </tr>\n",
              "    <tr>\n",
              "      <th>19018</th>\n",
              "      <td>120.5135</td>\n",
              "      <td>76.9018</td>\n",
              "      <td>3.9939</td>\n",
              "      <td>0.0944</td>\n",
              "      <td>0.0683</td>\n",
              "      <td>5.8043</td>\n",
              "      <td>-93.5224</td>\n",
              "      <td>-63.8389</td>\n",
              "      <td>84.6874</td>\n",
              "      <td>408.3166</td>\n",
              "      <td>h</td>\n",
              "      <td>False</td>\n",
              "      <td>True</td>\n",
              "    </tr>\n",
              "    <tr>\n",
              "      <th>19019</th>\n",
              "      <td>187.1814</td>\n",
              "      <td>53.0014</td>\n",
              "      <td>3.2093</td>\n",
              "      <td>0.2876</td>\n",
              "      <td>0.1539</td>\n",
              "      <td>-167.3125</td>\n",
              "      <td>-168.4558</td>\n",
              "      <td>31.4755</td>\n",
              "      <td>52.7310</td>\n",
              "      <td>272.3174</td>\n",
              "      <td>h</td>\n",
              "      <td>False</td>\n",
              "      <td>True</td>\n",
              "    </tr>\n",
              "  </tbody>\n",
              "</table>\n",
              "</div>"
            ],
            "text/plain": [
              "        fLength   fWidth   fSize   fConc  fConc1     fAsym   fM3Long  \\\n",
              "19015   21.3846  10.9170  2.6161  0.5857  0.3934   15.2618   11.5245   \n",
              "19016   28.9452   6.7020  2.2672  0.5351  0.2784   37.0816   13.1853   \n",
              "19017   75.4455  47.5305  3.4483  0.1417  0.0549   -9.3561   41.0562   \n",
              "19018  120.5135  76.9018  3.9939  0.0944  0.0683    5.8043  -93.5224   \n",
              "19019  187.1814  53.0014  3.2093  0.2876  0.1539 -167.3125 -168.4558   \n",
              "\n",
              "       fM3Trans   fAlpha     fDist class isGamma isHadron  \n",
              "19015    2.8766   2.4229  106.8258     h   False     True  \n",
              "19016   -2.9632  86.7975  247.4560     h   False     True  \n",
              "19017   -9.4662  30.2987  256.5166     h   False     True  \n",
              "19018  -63.8389  84.6874  408.3166     h   False     True  \n",
              "19019   31.4755  52.7310  272.3174     h   False     True  "
            ]
          },
          "execution_count": 10,
          "metadata": {},
          "output_type": "execute_result"
        }
      ],
      "source": [
        "df.tail()"
      ]
    },
    {
      "cell_type": "code",
      "execution_count": null,
      "metadata": {
        "id": "kZbMUD6fb95M"
      },
      "outputs": [],
      "source": [
        "# Create a new data frame with just gammas\n",
        "df_gammas  = df[df['isGamma'] == True]\n",
        "\n",
        "# Create a new data frame with just hadrons\n",
        "df_hadrons = df[df['isHadron'] == True]"
      ]
    },
    {
      "cell_type": "code",
      "execution_count": null,
      "metadata": {
        "id": "jUQqRLlSb95N",
        "outputId": "869fcecb-3ca2-40d8-b282-4ce33d5fddf4"
      },
      "outputs": [
        {
          "data": {
            "text/html": [
              "<div>\n",
              "<style scoped>\n",
              "    .dataframe tbody tr th:only-of-type {\n",
              "        vertical-align: middle;\n",
              "    }\n",
              "\n",
              "    .dataframe tbody tr th {\n",
              "        vertical-align: top;\n",
              "    }\n",
              "\n",
              "    .dataframe thead th {\n",
              "        text-align: right;\n",
              "    }\n",
              "</style>\n",
              "<table border=\"1\" class=\"dataframe\">\n",
              "  <thead>\n",
              "    <tr style=\"text-align: right;\">\n",
              "      <th></th>\n",
              "      <th>fLength</th>\n",
              "      <th>fWidth</th>\n",
              "      <th>fSize</th>\n",
              "      <th>fConc</th>\n",
              "      <th>fConc1</th>\n",
              "      <th>fAsym</th>\n",
              "      <th>fM3Long</th>\n",
              "      <th>fM3Trans</th>\n",
              "      <th>fAlpha</th>\n",
              "      <th>fDist</th>\n",
              "      <th>class</th>\n",
              "      <th>isGamma</th>\n",
              "      <th>isHadron</th>\n",
              "    </tr>\n",
              "  </thead>\n",
              "  <tbody>\n",
              "    <tr>\n",
              "      <th>12332</th>\n",
              "      <td>93.7035</td>\n",
              "      <td>37.9432</td>\n",
              "      <td>3.1454</td>\n",
              "      <td>0.1680</td>\n",
              "      <td>0.1011</td>\n",
              "      <td>53.2566</td>\n",
              "      <td>89.0566</td>\n",
              "      <td>11.8175</td>\n",
              "      <td>14.1224</td>\n",
              "      <td>231.9028</td>\n",
              "      <td>h</td>\n",
              "      <td>False</td>\n",
              "      <td>True</td>\n",
              "    </tr>\n",
              "    <tr>\n",
              "      <th>12333</th>\n",
              "      <td>102.0005</td>\n",
              "      <td>22.0017</td>\n",
              "      <td>3.3161</td>\n",
              "      <td>0.1064</td>\n",
              "      <td>0.0724</td>\n",
              "      <td>-54.0862</td>\n",
              "      <td>43.0553</td>\n",
              "      <td>-15.0647</td>\n",
              "      <td>88.4636</td>\n",
              "      <td>274.9392</td>\n",
              "      <td>h</td>\n",
              "      <td>False</td>\n",
              "      <td>True</td>\n",
              "    </tr>\n",
              "    <tr>\n",
              "      <th>12334</th>\n",
              "      <td>100.2775</td>\n",
              "      <td>21.8784</td>\n",
              "      <td>3.1100</td>\n",
              "      <td>0.3120</td>\n",
              "      <td>0.1446</td>\n",
              "      <td>-48.1834</td>\n",
              "      <td>57.6547</td>\n",
              "      <td>-9.6341</td>\n",
              "      <td>20.7848</td>\n",
              "      <td>346.4330</td>\n",
              "      <td>h</td>\n",
              "      <td>False</td>\n",
              "      <td>True</td>\n",
              "    </tr>\n",
              "    <tr>\n",
              "      <th>12335</th>\n",
              "      <td>91.6558</td>\n",
              "      <td>18.8293</td>\n",
              "      <td>2.7097</td>\n",
              "      <td>0.4386</td>\n",
              "      <td>0.3420</td>\n",
              "      <td>-52.6841</td>\n",
              "      <td>-97.8373</td>\n",
              "      <td>-17.0955</td>\n",
              "      <td>63.8834</td>\n",
              "      <td>130.7998</td>\n",
              "      <td>h</td>\n",
              "      <td>False</td>\n",
              "      <td>True</td>\n",
              "    </tr>\n",
              "    <tr>\n",
              "      <th>12336</th>\n",
              "      <td>38.0195</td>\n",
              "      <td>12.6736</td>\n",
              "      <td>2.8747</td>\n",
              "      <td>0.4084</td>\n",
              "      <td>0.1928</td>\n",
              "      <td>-51.4840</td>\n",
              "      <td>8.3471</td>\n",
              "      <td>7.9620</td>\n",
              "      <td>24.5402</td>\n",
              "      <td>163.8674</td>\n",
              "      <td>h</td>\n",
              "      <td>False</td>\n",
              "      <td>True</td>\n",
              "    </tr>\n",
              "  </tbody>\n",
              "</table>\n",
              "</div>"
            ],
            "text/plain": [
              "        fLength   fWidth   fSize   fConc  fConc1    fAsym  fM3Long  fM3Trans  \\\n",
              "12332   93.7035  37.9432  3.1454  0.1680  0.1011  53.2566  89.0566   11.8175   \n",
              "12333  102.0005  22.0017  3.3161  0.1064  0.0724 -54.0862  43.0553  -15.0647   \n",
              "12334  100.2775  21.8784  3.1100  0.3120  0.1446 -48.1834  57.6547   -9.6341   \n",
              "12335   91.6558  18.8293  2.7097  0.4386  0.3420 -52.6841 -97.8373  -17.0955   \n",
              "12336   38.0195  12.6736  2.8747  0.4084  0.1928 -51.4840   8.3471    7.9620   \n",
              "\n",
              "        fAlpha     fDist class isGamma isHadron  \n",
              "12332  14.1224  231.9028     h   False     True  \n",
              "12333  88.4636  274.9392     h   False     True  \n",
              "12334  20.7848  346.4330     h   False     True  \n",
              "12335  63.8834  130.7998     h   False     True  \n",
              "12336  24.5402  163.8674     h   False     True  "
            ]
          },
          "execution_count": 12,
          "metadata": {},
          "output_type": "execute_result"
        }
      ],
      "source": [
        "df_hadrons.head()"
      ]
    },
    {
      "cell_type": "markdown",
      "metadata": {
        "id": "Xnso4G0Kb95N"
      },
      "source": [
        "The stored variables look like this for the signal (gamma ray photons):"
      ]
    },
    {
      "cell_type": "code",
      "execution_count": null,
      "metadata": {
        "id": "gSP-rvFQb95N",
        "outputId": "32f39365-5109-4233-cfac-3e39745b3ced"
      },
      "outputs": [
        {
          "data": {
            "image/png": "[encoded data removed]",
            "text/plain": [
              "<Figure size 1296x1008 with 12 Axes>"
            ]
          },
          "metadata": {},
          "output_type": "display_data"
        }
      ],
      "source": [
        "plt.rcParams['figure.figsize'] = 18, 14\n",
        "df_gammas.hist(color=\"red\")\n",
        "plt.show()"
      ]
    },
    {
      "cell_type": "markdown",
      "metadata": {
        "id": "12oGZ0SVb95N"
      },
      "source": [
        "The stored variables look like this for the background (cosmic ray hadrons):"
      ]
    },
    {
      "cell_type": "code",
      "execution_count": null,
      "metadata": {
        "id": "ym_Li3uvb95N",
        "outputId": "79fa9f75-db57-4b6b-edae-fd0233c77097"
      },
      "outputs": [
        {
          "data": {
            "image/png": "[encoded data removed]",
            "text/plain": [
              "<Figure size 1296x1008 with 12 Axes>"
            ]
          },
          "metadata": {},
          "output_type": "display_data"
        }
      ],
      "source": [
        "plt.rcParams['figure.figsize'] = 18,14\n",
        "df_hadrons.hist(color=\"blue\")\n",
        "plt.show()"
      ]
    },
    {
      "cell_type": "markdown",
      "metadata": {
        "id": "LqIa78nwb95N"
      },
      "source": [
        "Some additional helpful notes. First, below is an example of plotting one of the variables as a 1D histogram for both signal and background on one plot using Matplotlib. Note that I am setting the number of bins and range by hand in order to control the bin size."
      ]
    },
    {
      "cell_type": "code",
      "execution_count": null,
      "metadata": {
        "id": "x6JHx7-Ub95N",
        "outputId": "eeee52bd-1b2c-4465-a1d0-2529ab97370b"
      },
      "outputs": [
        {
          "data": {
            "text/plain": [
              "<matplotlib.legend.Legend at 0x7fc3174cdd30>"
            ]
          },
          "execution_count": 35,
          "metadata": {},
          "output_type": "execute_result"
        },
        {
          "data": {
            "image/png": "[encoded data removed]",
            "text/plain": [
              "<Figure size 576x432 with 1 Axes>"
            ]
          },
          "metadata": {},
          "output_type": "display_data"
        }
      ],
      "source": [
        "plt.rcParams['figure.figsize'] = 8, 6\n",
        "plt.hist(df_gammas[\"fAsym\"], bins=25, range=(0,100), density=False, histtype='step', lw=3, color = \"red\", label=\"Gammas (signal)\")\n",
        "plt.hist(df_hadrons[\"fAsym\"], bins=25, range=(0,100), density=False, histtype='step', lw=3, color = \"blue\", label=\"Hadrons (background)\")\n",
        "plt.xlabel(\"fAsym\")\n",
        "plt.ylabel(\"Number of entries\")\n",
        "plt.legend(loc='upper right')"
      ]
    },
    {
      "cell_type": "markdown",
      "metadata": {
        "id": "TD7_301xb95O"
      },
      "source": [
        "We can note that our sample of gammas has more entries than hadrons. In order to compare shapes and ignore overall normalization differences we can set the density flag to True. This will normalize both histograms to have an area of 1. It is often useful to make two plots for each variable, one normalized and one un-normalized."
      ]
    },
    {
      "cell_type": "code",
      "execution_count": null,
      "metadata": {
        "id": "JWCf-zGKb95O",
        "outputId": "7ade48b9-1a35-4bb3-a2b0-398d343b4acf"
      },
      "outputs": [
        {
          "data": {
            "text/plain": [
              "<matplotlib.legend.Legend at 0x7fc31266adc0>"
            ]
          },
          "execution_count": 42,
          "metadata": {},
          "output_type": "execute_result"
        },
        {
          "data": {
            "image/png": "[encoded data removed]",
            "text/plain": [
              "<Figure size 576x432 with 1 Axes>"
            ]
          },
          "metadata": {},
          "output_type": "display_data"
        }
      ],
      "source": [
        "plt.rcParams['figure.figsize'] = 8, 6\n",
        "plt.hist(df_gammas[\"fAsym\"], bins=25, range=(0,100), density=True, histtype='step', lw=3, color = \"red\", label=\"Gammas (signal)\")\n",
        "plt.hist(df_hadrons[\"fAsym\"], bins=25, range=(0,100), density=True, histtype='step', lw=3, color = \"blue\", label=\"Hadrons (background)\")\n",
        "plt.xlabel(\"fAsym\")\n",
        "plt.ylabel(\"Fraction of entries\")\n",
        "plt.legend(loc='upper right')"
      ]
    },
    {
      "cell_type": "markdown",
      "metadata": {
        "collapsed": true,
        "id": "TKmoEErTb95O"
      },
      "source": [
        "In addition to making the plot, the histogram objects also returns three helpful arrays. We can modify our code slightly to access these arrays. This will be necessary when completing the project. Here is an example:"
      ]
    },
    {
      "cell_type": "code",
      "execution_count": null,
      "metadata": {
        "id": "DGRIHDg5b95O",
        "outputId": "148ccb2e-458c-4b5b-d870-21846106c7bc"
      },
      "outputs": [
        {
          "data": {
            "text/plain": [
              "<matplotlib.legend.Legend at 0x7fc2f87cfd30>"
            ]
          },
          "execution_count": 38,
          "metadata": {},
          "output_type": "execute_result"
        },
        {
          "data": {
            "image/png": "[encoded data removed]",
            "text/plain": [
              "<Figure size 576x432 with 1 Axes>"
            ]
          },
          "metadata": {},
          "output_type": "display_data"
        }
      ],
      "source": [
        "plt.rcParams['figure.figsize'] = 8, 6\n",
        "g_fAsym_n, g_fAsym_bins, g_fAsym_patches  = plt.hist(df_gammas[\"fAsym\"], bins=25, range=(0,100), density=False, histtype='step', lw=3, color = \"red\", label=\"Gammas (signal)\")\n",
        "h_fAsym_n, h_fAsym_bins, h_fAsym_patches  = plt.hist(df_hadrons[\"fAsym\"], bins=25, range=(0,100), density=False, histtype='step', lw=3, color = \"blue\", label=\"Hadrons (background)\")\n",
        "plt.xlabel(\"fAsym\")\n",
        "plt.ylabel(\"Number of entries\")\n",
        "plt.legend(loc='upper right')"
      ]
    },
    {
      "cell_type": "markdown",
      "metadata": {
        "id": "gq1gVO3Pb95O"
      },
      "source": [
        "You can see that the plot looks the same, but we now also have useful arrays:"
      ]
    },
    {
      "cell_type": "code",
      "execution_count": null,
      "metadata": {
        "id": "Z4iXdXP3b95O",
        "outputId": "a7664d44-4bcf-4e04-a845-f33cfd8824c7"
      },
      "outputs": [
        {
          "data": {
            "text/plain": [
              "array([789., 596., 593., 859., 609., 693., 548., 429., 344., 312., 231.,\n",
              "       233., 190., 157., 153.,  95.,  86.,  83.,  59.,  48.,  55.,  35.,\n",
              "        27.,  31.,  27.])"
            ]
          },
          "execution_count": 39,
          "metadata": {},
          "output_type": "execute_result"
        }
      ],
      "source": [
        "# The first array contains the number of entries in each bin.\n",
        "g_fAsym_n"
      ]
    },
    {
      "cell_type": "code",
      "execution_count": null,
      "metadata": {
        "id": "XGdKE4pnb95O",
        "outputId": "aaf30375-3c62-407b-ad66-150c2289789d"
      },
      "outputs": [
        {
          "data": {
            "text/plain": [
              "array([  0.,   4.,   8.,  12.,  16.,  20.,  24.,  28.,  32.,  36.,  40.,\n",
              "        44.,  48.,  52.,  56.,  60.,  64.,  68.,  72.,  76.,  80.,  84.,\n",
              "        88.,  92.,  96., 100.])"
            ]
          },
          "execution_count": 40,
          "metadata": {},
          "output_type": "execute_result"
        }
      ],
      "source": [
        "# The second array contains the locations of the bin edges\n",
        "g_fAsym_bins"
      ]
    },
    {
      "cell_type": "markdown",
      "metadata": {
        "id": "7iaCPNtHb95O"
      },
      "source": [
        "## Project Expectations:\n",
        "\n",
        "1. Use Jupyter notebooks (either with Anaconda or Google Colab) both as a tool for analyzing data and for presenting your methodology and results. Use Jupyter Markdown cells to explain what you are doing before each step and to comment on results.\n",
        "1. Make sure your plots have proper axis labels. If you are plotting multiple curves or histograms on the same plot, make sure you include a legend."
      ]
    },
    {
      "cell_type": "markdown",
      "metadata": {
        "id": "1K2r61S1b95O"
      },
      "source": [
        "## Project Steps:"
      ]
    },
    {
      "cell_type": "markdown",
      "metadata": {
        "id": "SjEXe0Ixb95O"
      },
      "source": [
        "### Part 1\n",
        "\n",
        "Make normalized 1-D histograms comparing variable distributions for signal (gamma) and background (hadron) events. Do this for all 10 variables. Experiment with modifying the number of bins to improve your ability to visualize the data. You may want to consider automating this (loop over each variable)."
      ]
    },
    {
      "cell_type": "code",
      "execution_count": null,
      "metadata": {
        "id": "RR9HK3G7b95O"
      },
      "outputs": [],
      "source": []
    },
    {
      "cell_type": "markdown",
      "metadata": {
        "id": "_HRzXzEPb95O"
      },
      "source": [
        "### Part 2\n",
        "\n",
        "For each variable, determine a selection you could make which would increase the signal to background ratio (this is also known as a \"cut\" or \"threshold\" or \"rule\"). For example, in the lecture slides we selected A>0.5 for a made-up variable. This cut removed a lot of background while still keeping most of the signal:\n",
        "\n",
        "<img src=\"https://github.com/jdolen/PurdueNorthwest_PHYS308_ScientificComputing1/raw/master/Images/Classification.png\" alt=\"Drawing\" style=\"width: 300px;\"/>\n",
        "\n",
        "Determine this selection \"by eye\" by looking at your histograms from Part 1. Your selection could be a simple greater than or less then, or it could be a more complicated cut ($A<0.4$ and $A> 0.9$).\n",
        "\n",
        "Make a table in markdown containing each variable and the corresponding cut. Next, given these selections, calculate the \"signal efficiency\" and the \"background misidentification rate\" for each variable and include these as columns in your table.\n",
        "\n",
        "* Define \"signal efficiency\" = number of signal events remaining after making your cut divided by the total number of signal events. This represents the rate at which you would correctly classify signal events as being signal using your cut.\n",
        "* Define \"background misidentification rate\" = number of background events remaining after making your cut divided by the total number of background events. This represents the rate at which you would mis-classify background events as being signal using your cut.\n",
        "\n",
        "There a few ways that one could calculate efficiency. One could use numpy or pandas methods, or one could use a loop, or one could use the actual histogram object. For example, one could use the bin count array from the matplotlib histogram object. You can choose any method (or experiment with multiple methods).\n"
      ]
    },
    {
      "cell_type": "code",
      "execution_count": null,
      "metadata": {
        "id": "kIWSODcdb95P"
      },
      "outputs": [],
      "source": []
    },
    {
      "cell_type": "markdown",
      "metadata": {
        "id": "E6l75Jl3b95P"
      },
      "source": [
        "### Part 3\n",
        "\n",
        "\n",
        "For each pair of variables, calculate the Pearson Correlation Coefficient between those two variables using signal events and plot the result. Plot your correlation coefficients as a heatmap. See this [link](https://levelup.gitconnected.com/pearson-coefficient-of-correlation-using-pandas-ca68ce678c04) as an example. If you prefer, you can also do this calculation by-hand isntead of using pandas tools."
      ]
    },
    {
      "cell_type": "code",
      "execution_count": null,
      "metadata": {
        "id": "19nHg6n1b95P"
      },
      "outputs": [],
      "source": []
    },
    {
      "cell_type": "markdown",
      "metadata": {
        "id": "0t8NFDhrb95P"
      },
      "source": [
        "### Part 4\n",
        "\n",
        "Make 2-D scatter plots comparing variable distributions for signal (gamma) and background (hadron) events. Choose four variables that you think will have good discrimination power. Plot all combinations of those variables (A vs B, A vs C, A vs D, B vs C, B vs D, C vs D) as 2-D scatter plots."
      ]
    },
    {
      "cell_type": "code",
      "execution_count": null,
      "metadata": {
        "id": "0XjStX0zb95P"
      },
      "outputs": [],
      "source": []
    },
    {
      "cell_type": "markdown",
      "metadata": {
        "id": "ens-MPNCb95P"
      },
      "source": [
        "### Part 5\n",
        "\n",
        "Look at your plots from Part 4 and pick one for which you can make a 2D cut (cut in both variables) in order to select signal and remove background. Perform this cut and calculate the signal efficiency and mis-identification rate. Add this to your table from Part 2.\n"
      ]
    },
    {
      "cell_type": "code",
      "execution_count": null,
      "metadata": {
        "id": "9du7ShRib95P"
      },
      "outputs": [],
      "source": []
    },
    {
      "cell_type": "markdown",
      "metadata": {
        "id": "7kNkALGib95P"
      },
      "source": [
        "### Part 6\n",
        "\n",
        "For the two variables you selected in Part 5, plot a 2-D heatmaps as a function of the two variables (do this separately for signal and background)."
      ]
    },
    {
      "cell_type": "code",
      "execution_count": null,
      "metadata": {
        "id": "3sdOOE6Cb95Z"
      },
      "outputs": [],
      "source": []
    },
    {
      "cell_type": "markdown",
      "metadata": {
        "id": "W2d9snMpb95Z"
      },
      "source": [
        "### Part 7\n",
        "\n",
        "Create a ROC curve for each of the four variables you selected in Part 4. Make one plot with four ROC curves comparing the separation power of the four variables you chose above. As described in the Class 1 lecture, a ROC curve is defined as follows:\n",
        "\n",
        "* A ROC curve is a plot of background misidentication rate (mis-ID rate) as a function of signal efficiency (see definitions above). For a single cut, you can calculate one value of mis-ID rate and one efficiency value (this corresponds to a single dot on a ROC cuve). In order to make the curve, you must vary your cut.\n",
        "* Using the example plot from the lecture, one could calculate the signal and efficiency and mis-ID rate seperately for different cuts ($A>0.0$ , $A>0.1$ , $A>0.2$ , $A>0.3$ , $A>0.4$ , $A>0.5$ , $A>0.6$ , $A>0.7$ , $A>0.8$ , $A>0.9$ , $A>1.0$) and plot one point on the ROC curve for each cut.  \n",
        "\n",
        "<img src=\"https://github.com/jdolen/PurdueNorthwest_PHYS308_ScientificComputing1/raw/master/Images/Classification.png\" alt=\"Drawing\" style=\"width: 300px;\"/>"
      ]
    },
    {
      "cell_type": "code",
      "execution_count": null,
      "metadata": {
        "id": "YZEQUD-Nb95a"
      },
      "outputs": [],
      "source": []
    },
    {
      "cell_type": "markdown",
      "metadata": {
        "id": "-YJJnDE1b95a"
      },
      "source": [
        "### Part 8\n",
        "\n",
        "Again choose the two variables you selected in part 5. Make a ROC plot by varying your cut on both of these  variables (simple box cuts). Define efficiency and mis-ID rate in the same way as before, but this time require that the event pass two cuts instead of one. Vary both of these cuts and plot signal efficiency and mis-ID rate for each combination of cuts. Compare your \"2 variable ROC curve\" to the 1 variable ROC curves from Part 7"
      ]
    },
    {
      "cell_type": "code",
      "source": [],
      "metadata": {
        "id": "zkAlJYCncbxZ"
      },
      "execution_count": null,
      "outputs": []
    }
  ],
  "metadata": {
    "kernelspec": {
      "display_name": "Python 3",
      "language": "python",
      "name": "python3"
    },
    "language_info": {
      "codemirror_mode": {
        "name": "ipython",
        "version": 3
      },
      "file_extension": ".py",
      "mimetype": "text/x-python",
      "name": "python",
      "nbconvert_exporter": "python",
      "pygments_lexer": "ipython3",
      "version": "3.8.8"
    },
    "colab": {
      "provenance": []
    }
  },
  "nbformat": 4,
  "nbformat_minor": 0
}