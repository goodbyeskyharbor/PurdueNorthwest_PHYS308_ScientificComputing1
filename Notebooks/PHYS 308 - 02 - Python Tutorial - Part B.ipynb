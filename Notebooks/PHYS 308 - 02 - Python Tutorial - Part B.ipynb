{
  "cells": [
    {
      "cell_type": "markdown",
      "metadata": {
        "id": "FtEorn49HCuB"
      },
      "source": [
        "# PHYS 308 - Notebook 02 - Python Tutorial - Part B\n",
        "\n",
        "\n",
        "Interactive learning notebook developed by J. Dolen for PHYS 308 at Purdue University Northwest\n",
        "\n",
        "## Introduction\n",
        "\n",
        "In Noteboook 01 we already covered:\n",
        "* Variable assignment (automatically create an int/float/string object and assign it a value)\n",
        "* Printing information to the screen\n",
        "* Requesting input from the user\n",
        "* Arithmetic (built in math operations)\n",
        "* Variable modifiers (x+=1)\n",
        "\n",
        "Today we will cover\n",
        "* The math package (use this as an introduction to packages and modules)\n",
        "* Lists\n",
        "* if statements\n",
        "* While loops\n",
        "* for loops\n",
        "* Functions"
      ]
    },
    {
      "cell_type": "markdown",
      "metadata": {
        "id": "vKQKtwh7HCuC"
      },
      "source": [
        "## The math package"
      ]
    },
    {
      "cell_type": "markdown",
      "source": [
        "Lets try to use typical math functions:"
      ],
      "metadata": {
        "id": "CLf71BxcHJPK"
      }
    },
    {
      "cell_type": "code",
      "execution_count": null,
      "metadata": {
        "id": "H5UppwTlHCuC",
        "outputId": "10cdc14a-9cc9-407e-ab36-e5707e1c1a04"
      },
      "outputs": [
        {
          "ename": "NameError",
          "evalue": "name 'log' is not defined",
          "output_type": "error",
          "traceback": [
            "\u001b[0;31m---------------------------------------------------------------------------\u001b[0m",
            "\u001b[0;31mNameError\u001b[0m                                 Traceback (most recent call last)",
            "\u001b[0;32m<ipython-input-1-64a871521861>\u001b[0m in \u001b[0;36m<module>\u001b[0;34m\u001b[0m\n\u001b[0;32m----> 1\u001b[0;31m \u001b[0mlog\u001b[0m\u001b[0;34m(\u001b[0m\u001b[0;36m100\u001b[0m\u001b[0;34m)\u001b[0m\u001b[0;34m\u001b[0m\u001b[0;34m\u001b[0m\u001b[0m\n\u001b[0m",
            "\u001b[0;31mNameError\u001b[0m: name 'log' is not defined"
          ]
        }
      ],
      "source": [
        "log(100)"
      ]
    },
    {
      "cell_type": "markdown",
      "metadata": {
        "id": "E3bB_ydcHCuC"
      },
      "source": [
        "\n",
        "Oops it didn't work. Python's core is designed to be as simple and efficient as possible. While some functions like `print()` are **built-in functions**, that is, they are part of Python's core functionality, other functions must be imported from other modules.\n",
        "\n",
        "Outside of its core, Python includes a **Standard Library**, a collection of modules that comes with every installation of Python, each of which contains many useful functions. These are easy to use because they are already installed with Python. In other cases you may need to install a separate Python **third-party package** in order to access a given function.\n",
        "\n",
        "The `log()` function, for example, must be imported from the `math` module which exists in the Standard Library.\n",
        "\n",
        "The math module is documented here: https://docs.python.org/3.12/library/math.html\n",
        "\n",
        "We can import just one function from a module using the syntax:\n",
        "\n",
        "`from module import function`"
      ]
    },
    {
      "cell_type": "code",
      "execution_count": null,
      "metadata": {
        "id": "pzv2EaOUHCuC"
      },
      "outputs": [],
      "source": [
        "from math import log   # from the math package, import the log function"
      ]
    },
    {
      "cell_type": "code",
      "execution_count": null,
      "metadata": {
        "id": "HNZk2Y3NHCuC",
        "outputId": "e0c43172-26be-4f30-b3c8-97a48482e6aa",
        "colab": {
          "base_uri": "https://localhost:8080/"
        }
      },
      "outputs": [
        {
          "output_type": "execute_result",
          "data": {
            "text/plain": [
              "4.605170185988092"
            ]
          },
          "metadata": {},
          "execution_count": 4
        }
      ],
      "source": [
        "log(100)"
      ]
    },
    {
      "cell_type": "markdown",
      "source": [
        "As you can see, when you call `log()` with just one argument *x* like `log(x)`, it calculates the natural logarithm of x (base *e*).\n",
        "\n",
        "Look up the documentation for `math` linked above.  You can see that you can also change the base of `log()` by passing a second argument:"
      ],
      "metadata": {
        "id": "Dgdf8pxylOyb"
      }
    },
    {
      "cell_type": "code",
      "source": [
        "log(100,10)"
      ],
      "metadata": {
        "id": "cXH056QCmGVf",
        "outputId": "64dfdff6-ff3b-4583-b00d-ee4a0da2748b",
        "colab": {
          "base_uri": "https://localhost:8080/"
        }
      },
      "execution_count": null,
      "outputs": [
        {
          "output_type": "execute_result",
          "data": {
            "text/plain": [
              "2.0"
            ]
          },
          "metadata": {},
          "execution_count": 5
        }
      ]
    },
    {
      "cell_type": "markdown",
      "source": [
        "Base 10 is so common that there is a separate function for base 10 log. This is also slightly faster."
      ],
      "metadata": {
        "id": "yeQwXXq7mLLL"
      }
    },
    {
      "cell_type": "code",
      "execution_count": null,
      "metadata": {
        "id": "ejCiZowYHCuC"
      },
      "outputs": [],
      "source": [
        "from math import log10  # from the math package, import the log base 10 function"
      ]
    },
    {
      "cell_type": "code",
      "execution_count": null,
      "metadata": {
        "id": "Wd-GeLcYHCuD",
        "outputId": "2bfb776b-5278-4148-cb00-2e3ef258f018",
        "colab": {
          "base_uri": "https://localhost:8080/"
        }
      },
      "outputs": [
        {
          "output_type": "execute_result",
          "data": {
            "text/plain": [
              "2.0"
            ]
          },
          "metadata": {},
          "execution_count": 9
        }
      ],
      "source": [
        "log10(100)"
      ]
    },
    {
      "cell_type": "markdown",
      "source": [
        "The same is true for a base 2 log:"
      ],
      "metadata": {
        "id": "IR76Mgp6nlOa"
      }
    },
    {
      "cell_type": "code",
      "source": [
        "from math import log2"
      ],
      "metadata": {
        "id": "RuqHCn4Dnin_"
      },
      "execution_count": null,
      "outputs": []
    },
    {
      "cell_type": "code",
      "source": [
        "log2(16)"
      ],
      "metadata": {
        "id": "24iy_CjKnoSH",
        "outputId": "f2d24507-b0d4-4bce-b02c-91e15933ec96",
        "colab": {
          "base_uri": "https://localhost:8080/"
        }
      },
      "execution_count": null,
      "outputs": [
        {
          "output_type": "execute_result",
          "data": {
            "text/plain": [
              "4.0"
            ]
          },
          "metadata": {},
          "execution_count": 21
        }
      ]
    },
    {
      "cell_type": "markdown",
      "source": [
        "As you know, the lograithm of a negative number is undefined for real numbers. Python handles this by giving you a \"math domain error\":\n"
      ],
      "metadata": {
        "id": "pppRtuq5ny4N"
      }
    },
    {
      "cell_type": "code",
      "execution_count": null,
      "metadata": {
        "id": "OnhPZmAZHCuD",
        "outputId": "89eaf2f0-45fd-4f51-d284-d6cc3bb55715",
        "colab": {
          "base_uri": "https://localhost:8080/",
          "height": 176
        }
      },
      "outputs": [
        {
          "output_type": "error",
          "ename": "ValueError",
          "evalue": "math domain error",
          "traceback": [
            "\u001b[0;31m---------------------------------------------------------------------------\u001b[0m",
            "\u001b[0;31mValueError\u001b[0m                                Traceback (most recent call last)",
            "\u001b[0;32m/tmp/ipython-input-2973841485.py\u001b[0m in \u001b[0;36m<cell line: 0>\u001b[0;34m()\u001b[0m\n\u001b[0;32m----> 1\u001b[0;31m \u001b[0mlog\u001b[0m\u001b[0;34m(\u001b[0m\u001b[0;34m-\u001b[0m\u001b[0;36m39\u001b[0m\u001b[0;34m)\u001b[0m\u001b[0;34m\u001b[0m\u001b[0;34m\u001b[0m\u001b[0m\n\u001b[0m",
            "\u001b[0;31mValueError\u001b[0m: math domain error"
          ]
        }
      ],
      "source": [
        "log(-39)"
      ]
    },
    {
      "cell_type": "markdown",
      "source": [
        "Good programming practice involves protecting your code from accidentally trying to take the log of a negative nymber by anticipating this and adding in a guard clause. We haven't learned `if` statements yet, but here is an example of how we could do that:"
      ],
      "metadata": {
        "id": "9V25oojpoFAR"
      }
    },
    {
      "cell_type": "code",
      "source": [
        "number = -39\n",
        "\n",
        "if number > 0:\n",
        "    print(math.log(number))\n",
        "else:\n",
        "    print(\"Error: Cannot calculate the logarithm of a non-positive number\")"
      ],
      "metadata": {
        "id": "bYkvG8RkoErL"
      },
      "execution_count": null,
      "outputs": []
    },
    {
      "cell_type": "markdown",
      "source": [
        "This is known as defensive programming."
      ],
      "metadata": {
        "id": "Dz7v2knrp6zT"
      }
    },
    {
      "cell_type": "markdown",
      "source": [
        "There are lots of other useful functions in the mass package like `sin()`, `cos()`, and `tan()`. We can import these individually in one line.\n",
        "\n",
        "There are also some constants like `pi`"
      ],
      "metadata": {
        "id": "eqit_9rWmcwb"
      }
    },
    {
      "cell_type": "code",
      "execution_count": null,
      "metadata": {
        "id": "FzmEv7O7HCuD",
        "outputId": "fba39e2c-4949-40f7-b7b1-8620734ac016",
        "colab": {
          "base_uri": "https://localhost:8080/"
        }
      },
      "outputs": [
        {
          "output_type": "stream",
          "name": "stdout",
          "text": [
            "3.141592653589793\n"
          ]
        }
      ],
      "source": [
        "from math import sin, cos, tan  # from the math package, import sine, cosine, tangent functions\n",
        "from math import pi             # import the variable pi\n",
        "print(pi)"
      ]
    },
    {
      "cell_type": "markdown",
      "source": [
        "Note that trig functions in Python expect the argument to be in radians:"
      ],
      "metadata": {
        "id": "GaZlsjd5m1TN"
      }
    },
    {
      "cell_type": "code",
      "execution_count": null,
      "metadata": {
        "id": "UDuwWTnEHCuD",
        "outputId": "6004da52-dc4b-4644-9594-96b68916fb63",
        "colab": {
          "base_uri": "https://localhost:8080/"
        }
      },
      "outputs": [
        {
          "output_type": "execute_result",
          "data": {
            "text/plain": [
              "0.8939966636005579"
            ]
          },
          "metadata": {},
          "execution_count": 12
        }
      ],
      "source": [
        "sin(90)  #sin expects radians"
      ]
    },
    {
      "cell_type": "code",
      "execution_count": null,
      "metadata": {
        "id": "2NKgN8fcHCuD",
        "outputId": "d4ea7cfe-0529-441b-d58c-ef2aabb615a3",
        "colab": {
          "base_uri": "https://localhost:8080/"
        }
      },
      "outputs": [
        {
          "output_type": "execute_result",
          "data": {
            "text/plain": [
              "1.0"
            ]
          },
          "metadata": {},
          "execution_count": 13
        }
      ],
      "source": [
        "sin(pi/2) # argument in radians"
      ]
    },
    {
      "cell_type": "markdown",
      "source": [
        "Luckily `math` also contains useful functions to convert degrees to radians and vice versa:"
      ],
      "metadata": {
        "id": "lfAKodyim-nk"
      }
    },
    {
      "cell_type": "code",
      "execution_count": null,
      "metadata": {
        "id": "IOLO9cCFHCuD"
      },
      "outputs": [],
      "source": [
        "# There are also functions to convert to degrees or radians\n",
        "from math import degrees, radians"
      ]
    },
    {
      "cell_type": "code",
      "execution_count": null,
      "metadata": {
        "scrolled": true,
        "id": "s553MfbbHCuD",
        "outputId": "288e111d-1703-4ef2-bf3d-060396cdfb5e",
        "colab": {
          "base_uri": "https://localhost:8080/"
        }
      },
      "outputs": [
        {
          "output_type": "execute_result",
          "data": {
            "text/plain": [
              "90.0"
            ]
          },
          "metadata": {},
          "execution_count": 15
        }
      ],
      "source": [
        "degrees(pi/2) # convert radians to degrees"
      ]
    },
    {
      "cell_type": "code",
      "execution_count": null,
      "metadata": {
        "id": "c72Y1cuWHCuD",
        "outputId": "a15fbb8f-83e7-442b-c82c-2d458f38eb7e",
        "colab": {
          "base_uri": "https://localhost:8080/"
        }
      },
      "outputs": [
        {
          "output_type": "execute_result",
          "data": {
            "text/plain": [
              "3.141592653589793"
            ]
          },
          "metadata": {},
          "execution_count": 16
        }
      ],
      "source": [
        "radians(180) # Convert x degrees to radians"
      ]
    },
    {
      "cell_type": "code",
      "execution_count": null,
      "metadata": {
        "id": "4qmoUhadHCuD",
        "outputId": "971c32cb-988a-4dff-86ba-f240d6bb6376",
        "colab": {
          "base_uri": "https://localhost:8080/"
        }
      },
      "outputs": [
        {
          "output_type": "stream",
          "name": "stdout",
          "text": [
            "1.5707963267948966\n"
          ]
        }
      ],
      "source": [
        "# You can always do the conversion by hand instead\n",
        "deg = 90\n",
        "rad = deg*pi/180\n",
        "print(rad)"
      ]
    },
    {
      "cell_type": "markdown",
      "source": [
        "You can raise a number to some power in Python using the notation `4**2` or take a square root using the notation `4**(1/2)`. Notice you don't need the math module to do this."
      ],
      "metadata": {
        "id": "P2hiSWKmqU6k"
      }
    },
    {
      "cell_type": "code",
      "source": [
        "4**2"
      ],
      "metadata": {
        "id": "M1oRx9LjqqrX",
        "outputId": "d881a2d3-bb51-4b2d-ebcb-73089fff4d57",
        "colab": {
          "base_uri": "https://localhost:8080/"
        }
      },
      "execution_count": null,
      "outputs": [
        {
          "output_type": "execute_result",
          "data": {
            "text/plain": [
              "16"
            ]
          },
          "metadata": {},
          "execution_count": 23
        }
      ]
    },
    {
      "cell_type": "code",
      "source": [
        "4**(1/2)"
      ],
      "metadata": {
        "id": "625NJoIVqsWQ",
        "outputId": "5d0e5cf8-8934-4bec-f054-17c675a9d6ed",
        "colab": {
          "base_uri": "https://localhost:8080/"
        }
      },
      "execution_count": null,
      "outputs": [
        {
          "output_type": "execute_result",
          "data": {
            "text/plain": [
              "2.0"
            ]
          },
          "metadata": {},
          "execution_count": 24
        }
      ]
    },
    {
      "cell_type": "markdown",
      "source": [
        "Still, the math module contains dedicated functions to perform these operations. These are more optimized and often faster."
      ],
      "metadata": {
        "id": "tqnovurfquiv"
      }
    },
    {
      "cell_type": "code",
      "execution_count": null,
      "metadata": {
        "id": "7pnh8nyGHCuD"
      },
      "outputs": [],
      "source": [
        "# you don't need the math package to do sqrt and pow, but the math functions are faster\n",
        "from math import sqrt, pow"
      ]
    },
    {
      "cell_type": "code",
      "execution_count": null,
      "metadata": {
        "id": "lH14LlzeHCuD",
        "outputId": "f5c44d83-1a3a-41db-c420-f1b438180f09",
        "colab": {
          "base_uri": "https://localhost:8080/"
        }
      },
      "outputs": [
        {
          "output_type": "stream",
          "name": "stdout",
          "text": [
            "20.25 20.25\n"
          ]
        }
      ],
      "source": [
        "x=4.5**2 ## Built-in raising something to the 2nd power\n",
        "y=pow(4.5,2) ## Using the math package and the function pow to raise something to the 2nd power\n",
        "print(x,y)"
      ]
    },
    {
      "cell_type": "code",
      "execution_count": null,
      "metadata": {
        "id": "Q_vBPTuiHCuD",
        "outputId": "d8dad104-64dc-44e0-9160-ed040350200d",
        "colab": {
          "base_uri": "https://localhost:8080/"
        }
      },
      "outputs": [
        {
          "output_type": "stream",
          "name": "stdout",
          "text": [
            "2.23606797749979 2.23606797749979\n"
          ]
        }
      ],
      "source": [
        "x=5**(1/2)\n",
        "y=sqrt(5)\n",
        "print(x,y)"
      ]
    },
    {
      "cell_type": "code",
      "execution_count": null,
      "metadata": {
        "id": "pJJ6uIBYHCuD"
      },
      "outputs": [],
      "source": [
        "# There is also an exponential function and the constant e\n",
        "from math import exp, e"
      ]
    },
    {
      "cell_type": "code",
      "execution_count": null,
      "metadata": {
        "id": "Y7X3ShgbHCuD",
        "outputId": "9f65539e-d501-4cb2-8d4b-55e4ac4382c7",
        "colab": {
          "base_uri": "https://localhost:8080/"
        }
      },
      "outputs": [
        {
          "output_type": "stream",
          "name": "stdout",
          "text": [
            "2.718281828459045\n"
          ]
        }
      ],
      "source": [
        "print(e)"
      ]
    },
    {
      "cell_type": "code",
      "execution_count": null,
      "metadata": {
        "id": "VWfgeC2sHCuD",
        "outputId": "2194aa20-50a8-444f-f3b0-efc187b0c428",
        "colab": {
          "base_uri": "https://localhost:8080/"
        }
      },
      "outputs": [
        {
          "output_type": "execute_result",
          "data": {
            "text/plain": [
              "7.38905609893065"
            ]
          },
          "metadata": {},
          "execution_count": 30
        }
      ],
      "source": [
        "exp(2)  #  e**2"
      ]
    },
    {
      "cell_type": "code",
      "execution_count": null,
      "metadata": {
        "id": "bTY3qQtlHCuD"
      },
      "outputs": [],
      "source": [
        "from math import fabs, factorial"
      ]
    },
    {
      "cell_type": "code",
      "execution_count": null,
      "metadata": {
        "id": "jo7gSDxoHCuD",
        "outputId": "32c89c9a-fc36-40bd-fe8b-3aa043ab87fc",
        "colab": {
          "base_uri": "https://localhost:8080/"
        }
      },
      "outputs": [
        {
          "output_type": "execute_result",
          "data": {
            "text/plain": [
              "6"
            ]
          },
          "metadata": {},
          "execution_count": 32
        }
      ],
      "source": [
        "factorial(3)  # Automatically calculates 3*2*1 = 6"
      ]
    },
    {
      "cell_type": "code",
      "execution_count": null,
      "metadata": {
        "id": "xe1XeST-HCuE",
        "outputId": "6499e8c6-db9a-4b5f-b0c1-fe44ad68fdb2",
        "colab": {
          "base_uri": "https://localhost:8080/"
        }
      },
      "outputs": [
        {
          "output_type": "execute_result",
          "data": {
            "text/plain": [
              "5.0"
            ]
          },
          "metadata": {},
          "execution_count": 33
        }
      ],
      "source": [
        "fabs(-5) # Find the absolute value"
      ]
    },
    {
      "cell_type": "code",
      "execution_count": null,
      "metadata": {
        "id": "TJZLZ6rWHCuE"
      },
      "outputs": [],
      "source": [
        "from math import factorial as fact # you can change the name on import"
      ]
    },
    {
      "cell_type": "code",
      "execution_count": null,
      "metadata": {
        "id": "mKlvaUoSHCuE",
        "outputId": "2a1d2bf7-157f-4e7e-e502-464219d57407",
        "colab": {
          "base_uri": "https://localhost:8080/"
        }
      },
      "outputs": [
        {
          "output_type": "execute_result",
          "data": {
            "text/plain": [
              "24"
            ]
          },
          "metadata": {},
          "execution_count": 35
        }
      ],
      "source": [
        "fact(4)"
      ]
    },
    {
      "cell_type": "markdown",
      "metadata": {
        "id": "alKzkHwwHCuE"
      },
      "source": [
        "You don't have to import each function individually. You can do them all at once with *. This is generally not advised - another package may have a funciton with the same name as one of the ones you imported and this could cause problems. We can still try it:"
      ]
    },
    {
      "cell_type": "code",
      "execution_count": null,
      "metadata": {
        "id": "j0vLcfYaHCuE"
      },
      "outputs": [],
      "source": [
        "from math import *"
      ]
    },
    {
      "cell_type": "code",
      "execution_count": null,
      "metadata": {
        "id": "RwEUZ9m-HCuE",
        "outputId": "132e6893-9bc6-41ca-8dd8-e421961c8405"
      },
      "outputs": [
        {
          "data": {
            "text/plain": [
              "1.2626272556789115"
            ]
          },
          "execution_count": 28,
          "metadata": {},
          "output_type": "execute_result"
        }
      ],
      "source": [
        "atan(pi)"
      ]
    },
    {
      "cell_type": "markdown",
      "source": [
        "Indeed this works. Still, it is not good practice. For instance, if you were to do both `from math import *` and `from numpy import *` then you would have a namespace collision. That is, both `numpy` and `math` include many functions with the same names and you wouldn't know which module you were pulling the function from."
      ],
      "metadata": {
        "id": "L2rEPvW8sUzW"
      }
    },
    {
      "cell_type": "code",
      "source": [
        "from math import *\n",
        "from numpy import *\n",
        "sin(3.1416/2)"
      ],
      "metadata": {
        "id": "CB4BpRDZsm4Z",
        "outputId": "6083730f-f2f5-4148-9e4b-e0cd4651e17a",
        "colab": {
          "base_uri": "https://localhost:8080/"
        }
      },
      "execution_count": null,
      "outputs": [
        {
          "output_type": "execute_result",
          "data": {
            "text/plain": [
              "np.float64(0.9999999999932537)"
            ]
          },
          "metadata": {},
          "execution_count": 39
        }
      ]
    },
    {
      "cell_type": "markdown",
      "metadata": {
        "id": "BinjPpdbHCuE"
      },
      "source": [
        "If you don't want to individually important functions using the syntax `from module import function`, and instead want access to all of the functions in a module, a better practice is to do `import module.`"
      ]
    },
    {
      "cell_type": "code",
      "execution_count": null,
      "metadata": {
        "id": "qfGANtTTHCuE"
      },
      "outputs": [],
      "source": [
        "import math"
      ]
    },
    {
      "cell_type": "markdown",
      "metadata": {
        "id": "gUMsJHqNHCuE"
      },
      "source": [
        "Important Note:\n",
        "\n",
        "If you just do `import math` you still then need to tell python where to find the function in order to use it.\n",
        "\n",
        "Even though this is more typing, this is often a nice way of doing things so you always know which function is coming from which package (log may also be defined in other packages)"
      ]
    },
    {
      "cell_type": "code",
      "execution_count": null,
      "metadata": {
        "id": "uA3ogpODHCuE",
        "outputId": "e48e27f8-b257-4d38-bf9b-24b1142de36e"
      },
      "outputs": [
        {
          "data": {
            "text/plain": [
              "8.268988209506656"
            ]
          },
          "execution_count": 33,
          "metadata": {},
          "output_type": "execute_result"
        }
      ],
      "source": [
        "math.log(3901)"
      ]
    },
    {
      "cell_type": "markdown",
      "source": [
        "This practice, called 'namespacing,' is highly recommended in scientific computing as it makes your code self-documenting and prevents errors when using multiple libraries. You know exactly where the `log()` function is coming from."
      ],
      "metadata": {
        "id": "rAZbRMswuBcT"
      }
    },
    {
      "cell_type": "markdown",
      "metadata": {
        "id": "7rKKn7kYHCuE"
      },
      "source": [
        "Now that we have imported the entire module, we can check what is inside using the built-in function `help()`"
      ]
    },
    {
      "cell_type": "code",
      "execution_count": null,
      "metadata": {
        "scrolled": false,
        "id": "wEsuHOP5HCuE",
        "outputId": "b79114a5-55b0-40b7-eb26-317518d9985d",
        "colab": {
          "base_uri": "https://localhost:8080/"
        }
      },
      "outputs": [
        {
          "output_type": "stream",
          "name": "stdout",
          "text": [
            "Help on built-in module math:\n",
            "\n",
            "NAME\n",
            "    math\n",
            "\n",
            "DESCRIPTION\n",
            "    This module provides access to the mathematical functions\n",
            "    defined by the C standard.\n",
            "\n",
            "FUNCTIONS\n",
            "    acos(x, /)\n",
            "        Return the arc cosine (measured in radians) of x.\n",
            "\n",
            "        The result is between 0 and pi.\n",
            "\n",
            "    acosh(x, /)\n",
            "        Return the inverse hyperbolic cosine of x.\n",
            "\n",
            "    asin(x, /)\n",
            "        Return the arc sine (measured in radians) of x.\n",
            "\n",
            "        The result is between -pi/2 and pi/2.\n",
            "\n",
            "    asinh(x, /)\n",
            "        Return the inverse hyperbolic sine of x.\n",
            "\n",
            "    atan(x, /)\n",
            "        Return the arc tangent (measured in radians) of x.\n",
            "\n",
            "        The result is between -pi/2 and pi/2.\n",
            "\n",
            "    atan2(y, x, /)\n",
            "        Return the arc tangent (measured in radians) of y/x.\n",
            "\n",
            "        Unlike atan(y/x), the signs of both x and y are considered.\n",
            "\n",
            "    atanh(x, /)\n",
            "        Return the inverse hyperbolic tangent of x.\n",
            "\n",
            "    cbrt(x, /)\n",
            "        Return the cube root of x.\n",
            "\n",
            "    ceil(x, /)\n",
            "        Return the ceiling of x as an Integral.\n",
            "\n",
            "        This is the smallest integer >= x.\n",
            "\n",
            "    comb(n, k, /)\n",
            "        Number of ways to choose k items from n items without repetition and without order.\n",
            "\n",
            "        Evaluates to n! / (k! * (n - k)!) when k <= n and evaluates\n",
            "        to zero when k > n.\n",
            "\n",
            "        Also called the binomial coefficient because it is equivalent\n",
            "        to the coefficient of k-th term in polynomial expansion of the\n",
            "        expression (1 + x)**n.\n",
            "\n",
            "        Raises TypeError if either of the arguments are not integers.\n",
            "        Raises ValueError if either of the arguments are negative.\n",
            "\n",
            "    copysign(x, y, /)\n",
            "        Return a float with the magnitude (absolute value) of x but the sign of y.\n",
            "\n",
            "        On platforms that support signed zeros, copysign(1.0, -0.0)\n",
            "        returns -1.0.\n",
            "\n",
            "    cos(x, /)\n",
            "        Return the cosine of x (measured in radians).\n",
            "\n",
            "    cosh(x, /)\n",
            "        Return the hyperbolic cosine of x.\n",
            "\n",
            "    degrees(x, /)\n",
            "        Convert angle x from radians to degrees.\n",
            "\n",
            "    dist(p, q, /)\n",
            "        Return the Euclidean distance between two points p and q.\n",
            "\n",
            "        The points should be specified as sequences (or iterables) of\n",
            "        coordinates.  Both inputs must have the same dimension.\n",
            "\n",
            "        Roughly equivalent to:\n",
            "            sqrt(sum((px - qx) ** 2.0 for px, qx in zip(p, q)))\n",
            "\n",
            "    erf(x, /)\n",
            "        Error function at x.\n",
            "\n",
            "    erfc(x, /)\n",
            "        Complementary error function at x.\n",
            "\n",
            "    exp(x, /)\n",
            "        Return e raised to the power of x.\n",
            "\n",
            "    exp2(x, /)\n",
            "        Return 2 raised to the power of x.\n",
            "\n",
            "    expm1(x, /)\n",
            "        Return exp(x)-1.\n",
            "\n",
            "        This function avoids the loss of precision involved in the direct evaluation of exp(x)-1 for small x.\n",
            "\n",
            "    fabs(x, /)\n",
            "        Return the absolute value of the float x.\n",
            "\n",
            "    factorial(n, /)\n",
            "        Find n!.\n",
            "\n",
            "        Raise a ValueError if x is negative or non-integral.\n",
            "\n",
            "    floor(x, /)\n",
            "        Return the floor of x as an Integral.\n",
            "\n",
            "        This is the largest integer <= x.\n",
            "\n",
            "    fmod(x, y, /)\n",
            "        Return fmod(x, y), according to platform C.\n",
            "\n",
            "        x % y may differ.\n",
            "\n",
            "    frexp(x, /)\n",
            "        Return the mantissa and exponent of x, as pair (m, e).\n",
            "\n",
            "        m is a float and e is an int, such that x = m * 2.**e.\n",
            "        If x is 0, m and e are both 0.  Else 0.5 <= abs(m) < 1.0.\n",
            "\n",
            "    fsum(seq, /)\n",
            "        Return an accurate floating-point sum of values in the iterable seq.\n",
            "\n",
            "        Assumes IEEE-754 floating-point arithmetic.\n",
            "\n",
            "    gamma(x, /)\n",
            "        Gamma function at x.\n",
            "\n",
            "    gcd(*integers)\n",
            "        Greatest Common Divisor.\n",
            "\n",
            "    hypot(...)\n",
            "        hypot(*coordinates) -> value\n",
            "\n",
            "        Multidimensional Euclidean distance from the origin to a point.\n",
            "\n",
            "        Roughly equivalent to:\n",
            "            sqrt(sum(x**2 for x in coordinates))\n",
            "\n",
            "        For a two dimensional point (x, y), gives the hypotenuse\n",
            "        using the Pythagorean theorem:  sqrt(x*x + y*y).\n",
            "\n",
            "        For example, the hypotenuse of a 3/4/5 right triangle is:\n",
            "\n",
            "            >>> hypot(3.0, 4.0)\n",
            "            5.0\n",
            "\n",
            "    isclose(a, b, *, rel_tol=1e-09, abs_tol=0.0)\n",
            "        Determine whether two floating-point numbers are close in value.\n",
            "\n",
            "          rel_tol\n",
            "            maximum difference for being considered \"close\", relative to the\n",
            "            magnitude of the input values\n",
            "          abs_tol\n",
            "            maximum difference for being considered \"close\", regardless of the\n",
            "            magnitude of the input values\n",
            "\n",
            "        Return True if a is close in value to b, and False otherwise.\n",
            "\n",
            "        For the values to be considered close, the difference between them\n",
            "        must be smaller than at least one of the tolerances.\n",
            "\n",
            "        -inf, inf and NaN behave similarly to the IEEE 754 Standard.  That\n",
            "        is, NaN is not close to anything, even itself.  inf and -inf are\n",
            "        only close to themselves.\n",
            "\n",
            "    isfinite(x, /)\n",
            "        Return True if x is neither an infinity nor a NaN, and False otherwise.\n",
            "\n",
            "    isinf(x, /)\n",
            "        Return True if x is a positive or negative infinity, and False otherwise.\n",
            "\n",
            "    isnan(x, /)\n",
            "        Return True if x is a NaN (not a number), and False otherwise.\n",
            "\n",
            "    isqrt(n, /)\n",
            "        Return the integer part of the square root of the input.\n",
            "\n",
            "    lcm(*integers)\n",
            "        Least Common Multiple.\n",
            "\n",
            "    ldexp(x, i, /)\n",
            "        Return x * (2**i).\n",
            "\n",
            "        This is essentially the inverse of frexp().\n",
            "\n",
            "    lgamma(x, /)\n",
            "        Natural logarithm of absolute value of Gamma function at x.\n",
            "\n",
            "    log(...)\n",
            "        log(x, [base=math.e])\n",
            "        Return the logarithm of x to the given base.\n",
            "\n",
            "        If the base is not specified, returns the natural logarithm (base e) of x.\n",
            "\n",
            "    log10(x, /)\n",
            "        Return the base 10 logarithm of x.\n",
            "\n",
            "    log1p(x, /)\n",
            "        Return the natural logarithm of 1+x (base e).\n",
            "\n",
            "        The result is computed in a way which is accurate for x near zero.\n",
            "\n",
            "    log2(x, /)\n",
            "        Return the base 2 logarithm of x.\n",
            "\n",
            "    modf(x, /)\n",
            "        Return the fractional and integer parts of x.\n",
            "\n",
            "        Both results carry the sign of x and are floats.\n",
            "\n",
            "    nextafter(x, y, /, *, steps=None)\n",
            "        Return the floating-point value the given number of steps after x towards y.\n",
            "\n",
            "        If steps is not specified or is None, it defaults to 1.\n",
            "\n",
            "        Raises a TypeError, if x or y is not a double, or if steps is not an integer.\n",
            "        Raises ValueError if steps is negative.\n",
            "\n",
            "    perm(n, k=None, /)\n",
            "        Number of ways to choose k items from n items without repetition and with order.\n",
            "\n",
            "        Evaluates to n! / (n - k)! when k <= n and evaluates\n",
            "        to zero when k > n.\n",
            "\n",
            "        If k is not specified or is None, then k defaults to n\n",
            "        and the function returns n!.\n",
            "\n",
            "        Raises TypeError if either of the arguments are not integers.\n",
            "        Raises ValueError if either of the arguments are negative.\n",
            "\n",
            "    pow(x, y, /)\n",
            "        Return x**y (x to the power of y).\n",
            "\n",
            "    prod(iterable, /, *, start=1)\n",
            "        Calculate the product of all the elements in the input iterable.\n",
            "\n",
            "        The default start value for the product is 1.\n",
            "\n",
            "        When the iterable is empty, return the start value.  This function is\n",
            "        intended specifically for use with numeric values and may reject\n",
            "        non-numeric types.\n",
            "\n",
            "    radians(x, /)\n",
            "        Convert angle x from degrees to radians.\n",
            "\n",
            "    remainder(x, y, /)\n",
            "        Difference between x and the closest integer multiple of y.\n",
            "\n",
            "        Return x - n*y where n*y is the closest integer multiple of y.\n",
            "        In the case where x is exactly halfway between two multiples of\n",
            "        y, the nearest even value of n is used. The result is always exact.\n",
            "\n",
            "    sin(x, /)\n",
            "        Return the sine of x (measured in radians).\n",
            "\n",
            "    sinh(x, /)\n",
            "        Return the hyperbolic sine of x.\n",
            "\n",
            "    sqrt(x, /)\n",
            "        Return the square root of x.\n",
            "\n",
            "    sumprod(p, q, /)\n",
            "        Return the sum of products of values from two iterables p and q.\n",
            "\n",
            "        Roughly equivalent to:\n",
            "\n",
            "            sum(itertools.starmap(operator.mul, zip(p, q, strict=True)))\n",
            "\n",
            "        For float and mixed int/float inputs, the intermediate products\n",
            "        and sums are computed with extended precision.\n",
            "\n",
            "    tan(x, /)\n",
            "        Return the tangent of x (measured in radians).\n",
            "\n",
            "    tanh(x, /)\n",
            "        Return the hyperbolic tangent of x.\n",
            "\n",
            "    trunc(x, /)\n",
            "        Truncates the Real x to the nearest Integral toward 0.\n",
            "\n",
            "        Uses the __trunc__ magic method.\n",
            "\n",
            "    ulp(x, /)\n",
            "        Return the value of the least significant bit of the float x.\n",
            "\n",
            "DATA\n",
            "    e = 2.718281828459045\n",
            "    inf = inf\n",
            "    nan = nan\n",
            "    pi = 3.141592653589793\n",
            "    tau = 6.283185307179586\n",
            "\n",
            "FILE\n",
            "    (built-in)\n",
            "\n",
            "\n"
          ]
        }
      ],
      "source": [
        "help(math)"
      ]
    },
    {
      "cell_type": "markdown",
      "source": [
        "We can also see what the math module can do using the built-in function `dir()`"
      ],
      "metadata": {
        "id": "XJiANExHvCoS"
      }
    },
    {
      "cell_type": "code",
      "execution_count": null,
      "metadata": {
        "id": "UU8igR4oHCuE",
        "outputId": "35bbda32-85ff-4033-c2bd-1b8662d69737",
        "colab": {
          "base_uri": "https://localhost:8080/"
        }
      },
      "outputs": [
        {
          "output_type": "execute_result",
          "data": {
            "text/plain": [
              "['__doc__',\n",
              " '__loader__',\n",
              " '__name__',\n",
              " '__package__',\n",
              " '__spec__',\n",
              " 'acos',\n",
              " 'acosh',\n",
              " 'asin',\n",
              " 'asinh',\n",
              " 'atan',\n",
              " 'atan2',\n",
              " 'atanh',\n",
              " 'cbrt',\n",
              " 'ceil',\n",
              " 'comb',\n",
              " 'copysign',\n",
              " 'cos',\n",
              " 'cosh',\n",
              " 'degrees',\n",
              " 'dist',\n",
              " 'e',\n",
              " 'erf',\n",
              " 'erfc',\n",
              " 'exp',\n",
              " 'exp2',\n",
              " 'expm1',\n",
              " 'fabs',\n",
              " 'factorial',\n",
              " 'floor',\n",
              " 'fmod',\n",
              " 'frexp',\n",
              " 'fsum',\n",
              " 'gamma',\n",
              " 'gcd',\n",
              " 'hypot',\n",
              " 'inf',\n",
              " 'isclose',\n",
              " 'isfinite',\n",
              " 'isinf',\n",
              " 'isnan',\n",
              " 'isqrt',\n",
              " 'lcm',\n",
              " 'ldexp',\n",
              " 'lgamma',\n",
              " 'log',\n",
              " 'log10',\n",
              " 'log1p',\n",
              " 'log2',\n",
              " 'modf',\n",
              " 'nan',\n",
              " 'nextafter',\n",
              " 'perm',\n",
              " 'pi',\n",
              " 'pow',\n",
              " 'prod',\n",
              " 'radians',\n",
              " 'remainder',\n",
              " 'sin',\n",
              " 'sinh',\n",
              " 'sqrt',\n",
              " 'sumprod',\n",
              " 'tan',\n",
              " 'tanh',\n",
              " 'tau',\n",
              " 'trunc',\n",
              " 'ulp']"
            ]
          },
          "metadata": {},
          "execution_count": 42
        }
      ],
      "source": [
        "dir(math)"
      ]
    },
    {
      "cell_type": "code",
      "execution_count": null,
      "metadata": {
        "id": "U1X2-nhxHCuE",
        "outputId": "7a2b85be-c74b-4a54-889c-d07bdee41343"
      },
      "outputs": [
        {
          "name": "stdout",
          "output_type": "stream",
          "text": [
            "Help on built-in function dir in module builtins:\n",
            "\n",
            "dir(...)\n",
            "    dir([object]) -> list of strings\n",
            "    \n",
            "    If called without an argument, return the names in the current scope.\n",
            "    Else, return an alphabetized list of names comprising (some of) the attributes\n",
            "    of the given object, and of attributes reachable from it.\n",
            "    If the object supplies a method named __dir__, it will be used; otherwise\n",
            "    the default dir() logic is used and returns:\n",
            "      for a module object: the module's attributes.\n",
            "      for a class object:  its attributes, and recursively the attributes\n",
            "        of its bases.\n",
            "      for any other object: its attributes, its class's attributes, and\n",
            "        recursively the attributes of its class's base classes.\n",
            "\n"
          ]
        }
      ],
      "source": [
        "help(dir)"
      ]
    },
    {
      "cell_type": "markdown",
      "metadata": {
        "id": "Qe1qOq17HCuE"
      },
      "source": [
        "### Example 2.2"
      ]
    },
    {
      "cell_type": "markdown",
      "metadata": {
        "id": "P6iCIWSWHCuM"
      },
      "source": [
        "Convert from polar coordinates r, theta (in degrees) to Cartesian coordinates x,y"
      ]
    },
    {
      "cell_type": "code",
      "execution_count": null,
      "metadata": {
        "id": "NuDA6cvwHCuM",
        "outputId": "ad003c1f-ce8d-47ed-e20b-1e8a94b23239"
      },
      "outputs": [
        {
          "name": "stdout",
          "output_type": "stream",
          "text": [
            "Enter r:10\n",
            "Enter Theta in degrees 45\n",
            "x = 7.0710678118654755 y = 7.071067811865475\n"
          ]
        }
      ],
      "source": [
        "from math import sin,cos,pi\n",
        "r = float(input(\"Enter r:\"))\n",
        "d = float(input(\"Enter Theta in degrees \"))\n",
        "\n",
        "theta = d*pi/180\n",
        "x = r*cos(theta)\n",
        "y = r*sin(theta)\n",
        "\n",
        "print(\"x =\",x,\"y =\",y)\n"
      ]
    },
    {
      "cell_type": "markdown",
      "metadata": {
        "id": "fmaNVeszHCuM"
      },
      "source": [
        "Better, write it up with comments:"
      ]
    },
    {
      "cell_type": "code",
      "execution_count": null,
      "metadata": {
        "collapsed": true,
        "id": "3S4yk5w_HCuM"
      },
      "outputs": [],
      "source": [
        "from math import sin,cos,pi\n",
        "\n",
        "# Ask the user for the values of r and theta\n",
        "r = float(input(\"Enter r: \"))\n",
        "d = float(input(\"Enter theta in degrees: \"))\n",
        "\n",
        "# Convert the angle to radians\n",
        "theta = d*pi/180\n",
        "\n",
        "# Calculate the equivalent Cartesian coordinates\n",
        "x = r*cos(theta)\n",
        "y = r*sin(theta)\n",
        "\n",
        "# Print out the results\n",
        "print(\"x = \",x,\", y = \",y)"
      ]
    },
    {
      "cell_type": "markdown",
      "metadata": {
        "id": "4aBzeYslHCuM"
      },
      "source": [
        "***---Begin Exercise 02-1***\n"
      ]
    },
    {
      "cell_type": "markdown",
      "metadata": {
        "id": "W4o9J0crHCuM"
      },
      "source": [
        "Calculate the magntiude of the vector $\\vec{A}$ = (4, 23, 19) using the formula\n",
        "\n",
        "$|\\vec{A}| = \\sqrt{A_x^2+A_y^2+A_z^2}$"
      ]
    },
    {
      "cell_type": "code",
      "execution_count": null,
      "metadata": {
        "id": "Jp07IfHTHCuN"
      },
      "outputs": [],
      "source": [
        "from math import sqrt, pow\n",
        "\n",
        "Ax = 4\n",
        "Ay = 23\n",
        "Az = 19\n",
        "\n"
      ]
    },
    {
      "cell_type": "markdown",
      "metadata": {
        "id": "2vwy493RHCuN"
      },
      "source": [
        "Check the math module documentation to find a function which will determine the greatest common denominator of two numbers. Use this functiuon to determine the greatest common denominator of 42 and 56."
      ]
    },
    {
      "cell_type": "code",
      "execution_count": null,
      "metadata": {
        "id": "etTlxJOMHCuN"
      },
      "outputs": [],
      "source": []
    },
    {
      "cell_type": "markdown",
      "source": [
        "The period T of a simple pendulum is given by the formula $T=2\\pi\\sqrt\\frac{L}{g}. Write Python code that calculates the period of a pendulum.\n",
        "\n",
        "Define variables for the length L = 2.0 meters and the acceleration due to gravity g = 9.81 m/s².\n",
        "\n",
        "Use the pi constant and the sqrt() function from the math module.\n",
        "\n"
      ],
      "metadata": {
        "id": "7k4Py1rt2iSt"
      }
    },
    {
      "cell_type": "code",
      "source": [],
      "metadata": {
        "id": "-7IgOlgx2h0x"
      },
      "execution_count": null,
      "outputs": []
    },
    {
      "cell_type": "markdown",
      "metadata": {
        "id": "7u6UZOSiHCuN"
      },
      "source": [
        "***----End Exercise----***"
      ]
    },
    {
      "cell_type": "markdown",
      "metadata": {
        "id": "Ii-jlOEOHCuN"
      },
      "source": [
        "## The if statement\n",
        "\n",
        "Do something only if a condition is met\n",
        "\n",
        "**Important note**\n",
        "- In python indentation is used to separate code blocks. This is different from other languages where brackets are typically used to seperate code blocks.\n",
        "- In the example below the indentend code will only run if the if statement is satisfied\n"
      ]
    },
    {
      "cell_type": "code",
      "execution_count": null,
      "metadata": {
        "id": "KS7SQZxPHCuN",
        "outputId": "a1f8381c-e81d-453c-c5b5-05de0ad07051"
      },
      "outputs": [
        {
          "name": "stdout",
          "output_type": "stream",
          "text": [
            "Enter a whole number no greater than ten: 99\n",
            "You entered a number greater than ten\n",
            "Setting the number to 10\n",
            "Your number is 10\n"
          ]
        }
      ],
      "source": [
        "x = int(input(\"Enter a whole number no greater than ten: \"))\n",
        "if x>10:  # if the number is greater than 10, do what comes after the colon and is indented\n",
        "    print(\"You entered a number greater than ten\")\n",
        "    print(\"Setting the number to 10\")\n",
        "    x=10\n",
        "print(\"Your number is\",x)"
      ]
    },
    {
      "cell_type": "markdown",
      "metadata": {
        "id": "2KrraDAgHCuN"
      },
      "source": [
        "#### Condition examples\n",
        "\n",
        "(Comparison operators)\n",
        "\n",
        "* if x==1:     Check if x=1 note the double equals sign  \n",
        "* if x>1:      Check if x is greater than 1\n",
        "* if x>=1:     Check if x is greater or equal to 1\n",
        "* if x < 1:      Check if x is less than 1\n",
        "* if x<=1:     Check if x is less than or equal to 1\n",
        "* if x!=1:     Check if x is not equal to 1"
      ]
    },
    {
      "cell_type": "markdown",
      "metadata": {
        "id": "wZnnCS4ZHCuN"
      },
      "source": [
        "#### Logic operators\n",
        "\n",
        "* and: require that two statements are true\n",
        "* or: require that one statement or the other statement is true\n",
        "* not: require that something not be true"
      ]
    },
    {
      "cell_type": "code",
      "execution_count": null,
      "metadata": {
        "id": "5r0GPoVSHCuN",
        "outputId": "d642fa54-48c0-4cbd-ce30-39628abbd127"
      },
      "outputs": [
        {
          "name": "stdout",
          "output_type": "stream",
          "text": [
            "Enter a whole number between 1 and 10: 5\n",
            "Your number is 5\n"
          ]
        }
      ],
      "source": [
        "x = int(input(\"Enter a whole number between 1 and 10: \"))\n",
        "if x>=10 or x<1:\n",
        "    print(\"You entered a number greater than ten or less than one\")\n",
        "    print(\"Setting the number to 10\")\n",
        "    x=10\n",
        "print(\"Your number is\",x)"
      ]
    },
    {
      "cell_type": "markdown",
      "metadata": {
        "id": "6WxNfsj_HCuN"
      },
      "source": [
        "***----Begin Exercise 02-2----***"
      ]
    },
    {
      "cell_type": "markdown",
      "metadata": {
        "collapsed": true,
        "id": "Gwkb4ZCvHCuN"
      },
      "source": [
        "Write code to check if an inputed number is even and greater than 50."
      ]
    },
    {
      "cell_type": "code",
      "execution_count": null,
      "metadata": {
        "id": "UHbSwuxQHCuN"
      },
      "outputs": [],
      "source": []
    },
    {
      "cell_type": "markdown",
      "metadata": {
        "id": "eO8NEzJAHCuN"
      },
      "source": [
        "Write code to check if an inputed number is even and not equal to 4, or that it is odd and not equal to 5."
      ]
    },
    {
      "cell_type": "code",
      "execution_count": null,
      "metadata": {
        "id": "UGL9eG-oHCuN"
      },
      "outputs": [],
      "source": []
    },
    {
      "cell_type": "markdown",
      "metadata": {
        "collapsed": true,
        "id": "Fxkw0U0-HCuN"
      },
      "source": [
        "***----End Exercise----***"
      ]
    },
    {
      "cell_type": "markdown",
      "metadata": {
        "id": "eiZ5mL0SHCuN"
      },
      "source": [
        "#### if, else, elif (else if)"
      ]
    },
    {
      "cell_type": "code",
      "execution_count": null,
      "metadata": {
        "id": "rpB2BQSgHCuN",
        "outputId": "318df04b-8c5a-4fee-a91e-fbf4d9fbd139"
      },
      "outputs": [
        {
          "name": "stdout",
          "output_type": "stream",
          "text": [
            "Enter a whole number no greater than ten: 5\n",
            "Your number is okay\n"
          ]
        }
      ],
      "source": [
        "x = int(input(\"Enter a whole number no greater than ten: \"))\n",
        "if x>10:\n",
        "    print(\"Your number is too big\")\n",
        "else:\n",
        "    print(\"Your number is okay\")"
      ]
    },
    {
      "cell_type": "code",
      "execution_count": null,
      "metadata": {
        "id": "u8AvhGrwHCuO",
        "outputId": "a2d1cef2-61e5-430d-b9dd-fca51a3d1ee8"
      },
      "outputs": [
        {
          "name": "stdout",
          "output_type": "stream",
          "text": [
            "Enter a whole number no greater than ten: 55\n",
            "Your number is too big\n"
          ]
        }
      ],
      "source": [
        "x = int(input(\"Enter a whole number no greater than ten: \"))\n",
        "if x>10:\n",
        "    print(\"Your number is too big\")\n",
        "elif x>=9:\n",
        "    print(\"Your number is okay but you are getting close to 10\")\n",
        "else:\n",
        "    print(\"Your number is okay\")"
      ]
    },
    {
      "cell_type": "markdown",
      "metadata": {
        "id": "6cPU08_5HCuO"
      },
      "source": [
        "Note: Be careful with roundoff errors and if statements. Don't require a float to be exactly equal to another float:"
      ]
    },
    {
      "cell_type": "code",
      "execution_count": null,
      "metadata": {
        "id": "kW1F9AWbHCuO",
        "outputId": "bfcad54a-a2fd-41e1-fd48-cf39a3023d8c"
      },
      "outputs": [
        {
          "name": "stdout",
          "output_type": "stream",
          "text": [
            "condition satisfied\n"
          ]
        }
      ],
      "source": [
        "if (1/50.0)*50.0 == 1:\n",
        "    print (\"condition satisfied\")\n",
        "else:\n",
        "    print (\"nope\")"
      ]
    },
    {
      "cell_type": "code",
      "execution_count": null,
      "metadata": {
        "id": "5gVQQWPtHCuO",
        "outputId": "43d5427e-6ffd-4a53-ec99-c293f1953332"
      },
      "outputs": [
        {
          "name": "stdout",
          "output_type": "stream",
          "text": [
            "nope\n"
          ]
        }
      ],
      "source": [
        "if (1/49.0)*49.0 == 1:\n",
        "    print (\"condition satisfied\")\n",
        "else :\n",
        "    print (\"nope\")"
      ]
    },
    {
      "cell_type": "markdown",
      "source": [
        "When checkign equality of floating point numbers this is much safer:"
      ],
      "metadata": {
        "id": "3HaOw_3WwQvl"
      }
    },
    {
      "cell_type": "code",
      "execution_count": null,
      "metadata": {
        "id": "rAGDKqCOHCuO",
        "outputId": "d8fa0ad8-4f75-4321-fcdc-d41fad99970e"
      },
      "outputs": [
        {
          "name": "stdout",
          "output_type": "stream",
          "text": [
            "condition satisfied\n"
          ]
        }
      ],
      "source": [
        "if (1/49.0)*49.0 - 1.0 <0.00001:  # Check if the absolute difference is smaller than a tiny tolerance.\n",
        "    print (\"condition satisfied\")\n",
        "else :\n",
        "    print (\"nope\")"
      ]
    },
    {
      "cell_type": "markdown",
      "metadata": {
        "id": "5co0TlKKHCuO"
      },
      "source": [
        "There is also a function in the math module that can help"
      ]
    },
    {
      "cell_type": "code",
      "execution_count": null,
      "metadata": {
        "id": "Z8lE8ULqHCuO",
        "outputId": "b4a57614-dfc5-41f8-ef05-aeba68d62f07"
      },
      "outputs": [
        {
          "name": "stdout",
          "output_type": "stream",
          "text": [
            "This is close to 1\n"
          ]
        }
      ],
      "source": [
        "from math import isclose\n",
        "\n",
        "if isclose( (1/49.0)*49.0, 1):\n",
        "    print(\"This is close to 1\")\n",
        "else:\n",
        "    print(\"This is not close!\")"
      ]
    },
    {
      "cell_type": "markdown",
      "source": [
        "Here is some further information on `isclose()`\n",
        "\n",
        "https://docs.python.org/3/library/math.html#math.isclose\n",
        "\n",
        "math.isclose(a, b, *, rel_tol=1e-09, abs_tol=0.0)\n",
        "\n",
        "Return True if the values a and b are close to each other and False otherwise.\n",
        "\n",
        "Whether or not two values are considered close is determined according to given absolute and relative tolerances. If no errors occur, the result will be: abs(a-b) <= max(rel_tol * max(abs(a), abs(b)), abs_tol).\n",
        "\n",
        "rel_tol is the relative tolerance – it is the maximum allowed difference between a and b, relative to the larger absolute value of a or b. For example, to set a tolerance of 5%, pass rel_tol=0.05. The default tolerance is 1e-09, which assures that the two values are the same within about 9 decimal digits. rel_tol must be nonnegative and less than 1.0.\n",
        "\n",
        "abs_tol is the absolute tolerance; it defaults to 0.0 and it must be nonnegative. When comparing x to 0.0, isclose(x, 0) is computed as abs(x) <= rel_tol  * abs(x), which is False for any nonzero x and rel_tol less than 1.0. So add an appropriate positive abs_tol argument to the call."
      ],
      "metadata": {
        "id": "myFWslDr2XDM"
      }
    },
    {
      "cell_type": "markdown",
      "source": [
        "***--- Begin Exercise---***"
      ],
      "metadata": {
        "id": "BrWcfnah28ox"
      }
    },
    {
      "cell_type": "markdown",
      "source": [
        "Ask the user to input the wavelength of a form of electromagnetic radiation in nanometers (nm). Write a program that classifies the radiation based on the following (simplified) ranges:\n",
        "\n",
        "* Less than 1 nm: X-ray\n",
        "\n",
        "* 1 nm to 400 nm: Ultraviolet\n",
        "\n",
        "* 400 nm to 700 nm: Visible Light\n",
        "\n",
        "* Greater than 700 nm: Infrared\n",
        "\n",
        "You can reference the **Requesting input** section from Notebook 1 if you need to."
      ],
      "metadata": {
        "id": "NwIB5zoq3JY8"
      }
    },
    {
      "cell_type": "code",
      "source": [],
      "metadata": {
        "id": "a4Q0vm053Ele"
      },
      "execution_count": null,
      "outputs": []
    },
    {
      "cell_type": "markdown",
      "source": [
        "***---End Exercise---***"
      ],
      "metadata": {
        "id": "d_85TCcT3BV8"
      }
    },
    {
      "cell_type": "markdown",
      "metadata": {
        "id": "lMwua6fAHCuO"
      },
      "source": [
        "## Booleans\n",
        "\n",
        "A boolean is a type which can only be two values: True or False\n",
        "\n",
        "\"True\" and \"False\" are keywords in python (capital first letter)"
      ]
    },
    {
      "cell_type": "code",
      "execution_count": null,
      "metadata": {
        "id": "CV6B7PB3HCuO",
        "outputId": "554f06f6-49c4-4b46-ab86-b24117ecbe16"
      },
      "outputs": [
        {
          "data": {
            "text/plain": [
              "bool"
            ]
          },
          "execution_count": 97,
          "metadata": {},
          "output_type": "execute_result"
        }
      ],
      "source": [
        "type(True)"
      ]
    },
    {
      "cell_type": "code",
      "execution_count": null,
      "metadata": {
        "id": "_XoBQ2mdHCuO",
        "outputId": "6c94057b-2581-4742-8182-4b9300bd1cfa"
      },
      "outputs": [
        {
          "name": "stdout",
          "output_type": "stream",
          "text": [
            "False\n",
            "<class 'bool'>\n"
          ]
        }
      ],
      "source": [
        "# The comparison operators we learned earlier return a bool\n",
        "x = 5\n",
        "y = 6\n",
        "print(x==y)\n",
        "print(type(x==y))"
      ]
    },
    {
      "cell_type": "code",
      "execution_count": null,
      "metadata": {
        "id": "yWNLPlfMHCuO",
        "outputId": "9a3cb5e4-bebb-4753-fad1-04a668242530"
      },
      "outputs": [
        {
          "name": "stdout",
          "output_type": "stream",
          "text": [
            "False\n",
            "True\n",
            "True\n",
            "False\n",
            "True\n"
          ]
        }
      ],
      "source": [
        "# convert an int or float to a bool\n",
        "print( bool(0))\n",
        "print( bool(1))\n",
        "print( bool(2))\n",
        "print( bool(0.0))\n",
        "print( bool(0.1))"
      ]
    },
    {
      "cell_type": "code",
      "execution_count": null,
      "metadata": {
        "id": "t2g2XqvoHCuO",
        "outputId": "ac484c67-1e7e-4d83-846c-202227950c0d"
      },
      "outputs": [
        {
          "name": "stdout",
          "output_type": "stream",
          "text": [
            "True\n",
            "False\n",
            "False\n",
            "True\n",
            "True\n",
            "False\n"
          ]
        }
      ],
      "source": [
        "# We can use bools to better understand and, or, etc.\n",
        "print(True and True)\n",
        "print(True and False)\n",
        "print(False and False)\n",
        "print(True or True)\n",
        "print(True or False)\n",
        "print(False or False)"
      ]
    },
    {
      "cell_type": "code",
      "execution_count": null,
      "metadata": {
        "id": "RrEBQM4OHCuO",
        "outputId": "4a71e45c-e747-4186-f12d-2f99267144ed"
      },
      "outputs": [
        {
          "name": "stdout",
          "output_type": "stream",
          "text": [
            "False\n"
          ]
        }
      ],
      "source": [
        "print(not True)"
      ]
    },
    {
      "cell_type": "code",
      "execution_count": null,
      "metadata": {
        "id": "xhAptxLqHCuO",
        "outputId": "ba1f4fb5-17f6-4137-e5d7-e36acaf41fa0"
      },
      "outputs": [
        {
          "name": "stdout",
          "output_type": "stream",
          "text": [
            "True\n",
            "True\n"
          ]
        }
      ],
      "source": [
        "# \"and\" has higher priortiy than \"or\"\n",
        "print (True and False or True)\n",
        "\n",
        "# better to avoid any ambiguity and use brackets\n",
        "print ( (True and False) or True)\n"
      ]
    },
    {
      "cell_type": "code",
      "execution_count": null,
      "metadata": {
        "id": "NkGQpttYHCuO",
        "outputId": "d2411c1e-1fb4-48eb-acd5-9574c8b05203"
      },
      "outputs": [
        {
          "name": "stdout",
          "output_type": "stream",
          "text": [
            "True\n",
            "True\n",
            "True\n",
            "False\n",
            "True\n",
            "False\n",
            "True\n"
          ]
        }
      ],
      "source": [
        "x = 5\n",
        "# Chaining comparison operators\n",
        "print(x<10)\n",
        "print(4<=x<=6)\n",
        "print(1<=x<=5)\n",
        "print(1<=x<5)\n",
        "print(5==x<7) # check if x is equal to 5 and x < 7\n",
        "print(5==x>7)\n",
        "\n",
        "# it may be less confusing to use \"and\" and \"or\" instead\n",
        "print(x==5 and x<7)"
      ]
    },
    {
      "cell_type": "code",
      "execution_count": null,
      "metadata": {
        "id": "awwYWbhUHCuP",
        "outputId": "880afa96-f767-4bd7-8783-5234683df87d",
        "colab": {
          "base_uri": "https://localhost:8080/"
        }
      },
      "outputs": [
        {
          "output_type": "stream",
          "name": "stdout",
          "text": [
            "True\n",
            "False\n"
          ]
        }
      ],
      "source": [
        "# python keyword \"is\" returns true if two variables\n",
        "#   point to the same object\n",
        "x = 5.5\n",
        "y = x\n",
        "print(x is y)\n",
        "\n",
        "z = 5.5\n",
        "print(z is x) # Result is False.\n",
        "# Even though they hold the same value, z and x are different objects in memory.\n",
        "# Use '==' to check for value equality and 'is' to check for object identity."
      ]
    },
    {
      "cell_type": "markdown",
      "metadata": {
        "id": "PFmwP4ZpHCuP"
      },
      "source": [
        "## While loops\n",
        "\n",
        "A while loop is a control structure that repeatedly executes a block of code as long as a specified condition remains `True`.  The condition is followed by a colon (:), and all the code to be repeated must be indented underneath it."
      ]
    },
    {
      "cell_type": "code",
      "source": [
        "# Example of using a while loop to iterate down\n",
        "\n",
        "# 1. Initialization\n",
        "count = 5\n",
        "\n",
        "# 2. Condition\n",
        "while count > 0:\n",
        "    print(\"Countdown:\",count)\n",
        "    # 3. Update\n",
        "    count -= 1  # This is the same as count = count - 1\n",
        "\n",
        "print(\"Blast off!\")"
      ],
      "metadata": {
        "colab": {
          "base_uri": "https://localhost:8080/"
        },
        "id": "wRQHkCRx3vpA",
        "outputId": "fde744eb-1404-4a10-8596-0d270f39a794"
      },
      "execution_count": null,
      "outputs": [
        {
          "output_type": "stream",
          "name": "stdout",
          "text": [
            "Countdown: 5\n",
            "Countdown: 4\n",
            "Countdown: 3\n",
            "Countdown: 2\n",
            "Countdown: 1\n",
            "Blast off!\n"
          ]
        }
      ]
    },
    {
      "cell_type": "code",
      "execution_count": null,
      "metadata": {
        "id": "DNuxXWQ8HCuP",
        "outputId": "0fad793a-8bfc-4be2-b605-52df391df08c"
      },
      "outputs": [
        {
          "name": "stdout",
          "output_type": "stream",
          "text": [
            "Enter a whole number no greater than ten: 100\n",
            "This is greater than ten. Try again\n",
            "Enter a whole number no greater than then: 200\n",
            "This is greater than ten. Try again\n",
            "Enter a whole number no greater than then: 5\n",
            "Your number is 5\n"
          ]
        }
      ],
      "source": [
        "# Example of using a while loop to request an input that matches some condition\n",
        "x = int(input(\"Enter a whole number no greater than ten: \"))\n",
        "while x>10: # stay in the indent until x is less than 10\n",
        "    print(\"This is greater than ten. Try again\")\n",
        "    x = int(input(\"Enter a whole number no greater than then: \"))\n",
        "print(\"Your number is\",x)"
      ]
    },
    {
      "cell_type": "code",
      "source": [
        "count = 5"
      ],
      "metadata": {
        "id": "6O9SSMZo3sj3"
      },
      "execution_count": null,
      "outputs": []
    },
    {
      "cell_type": "markdown",
      "metadata": {
        "id": "1OfoD9DwHCuP"
      },
      "source": [
        "### Break and continue\n",
        "\n",
        "break is a python keyword which allows you to break out of a loop (if some condition is met)"
      ]
    },
    {
      "cell_type": "code",
      "execution_count": null,
      "metadata": {
        "id": "qTZFAdjSHCuP",
        "outputId": "03972332-6d9f-44b7-d1e5-7d91449ef346"
      },
      "outputs": [
        {
          "name": "stdout",
          "output_type": "stream",
          "text": [
            "Enter a whole number no greater than ten or a number equal to 999:100\n",
            "This is greater than ten. Try again\n",
            "Enter a whole number no greater than then:500\n",
            "This is greater than ten. Try again\n",
            "Enter a whole number no greater than then:999\n",
            "Your number is 999\n"
          ]
        }
      ],
      "source": [
        "x = int(input(\"Enter a whole number no greater than ten or a number equal to 999:\"))\n",
        "while x>10: # stay in the indent until x is less than 10\n",
        "    print(\"This is greater than ten. Try again\")\n",
        "    x = int(input(\"Enter a whole number no greater than then:\"))\n",
        "    if x==999:  # nested if statement\n",
        "        break   # exit the while loop\n",
        "print(\"Your number is\",x)"
      ]
    },
    {
      "cell_type": "markdown",
      "metadata": {
        "id": "K6qOEd0uHCuP"
      },
      "source": [
        "continue is a python keyword which allows you to skip all of the remaining code in a given iteration of a loop:"
      ]
    },
    {
      "cell_type": "code",
      "execution_count": null,
      "metadata": {
        "id": "hKrMKWxBHCuP",
        "outputId": "a68c78f6-7cc0-4197-81cb-27098febf45a"
      },
      "outputs": [
        {
          "name": "stdout",
          "output_type": "stream",
          "text": [
            "1 this one was not skipped\n",
            "2 this one was not skipped\n",
            "3 this one was not skipped\n",
            "4 this one was not skipped\n",
            "5\n",
            "6 this one was not skipped\n",
            "7 this one was not skipped\n",
            "8 this one was not skipped\n",
            "9 this one was not skipped\n",
            "10 this one was not skipped\n"
          ]
        }
      ],
      "source": [
        "i = 0\n",
        "while i<10:\n",
        "    i+=1\n",
        "    print(i, end=\"\") # by default print produces a new line but with end=\"\" you can prevent this\n",
        "    if i==5:\n",
        "        print (\"\")\n",
        "        continue\n",
        "    print(\" this one was not skipped\")\n"
      ]
    },
    {
      "cell_type": "markdown",
      "metadata": {
        "id": "E1oNtWpTHCuP"
      },
      "source": [
        "#### Some examples"
      ]
    },
    {
      "cell_type": "code",
      "execution_count": null,
      "metadata": {
        "collapsed": true,
        "id": "UDFNif6SHCuP"
      },
      "outputs": [],
      "source": [
        "#Example: even and odd integers\n",
        "n = int(input(\"Enter an Integer:\"))\n",
        "if n%2==0:\n",
        "    print(\"even\")\n",
        "else:\n",
        "    print(\"odd\")"
      ]
    },
    {
      "cell_type": "markdown",
      "metadata": {
        "id": "JlolsduKHCuP"
      },
      "source": [
        "Example from the book. Print the fibonocci sequence"
      ]
    },
    {
      "cell_type": "code",
      "execution_count": null,
      "metadata": {
        "id": "DxEAdDnAHCuP",
        "outputId": "3d24b841-d6e4-491b-dbdd-0ed586b9b670"
      },
      "outputs": [
        {
          "name": "stdout",
          "output_type": "stream",
          "text": [
            "1\n",
            "1\n",
            "2\n",
            "3\n",
            "5\n",
            "8\n",
            "13\n",
            "21\n",
            "34\n",
            "55\n",
            "89\n",
            "144\n",
            "233\n",
            "377\n",
            "610\n",
            "987\n"
          ]
        }
      ],
      "source": [
        "f1 = 1\n",
        "f2 = 1\n",
        "add_previous = f1+f2\n",
        "while f1<=1000:\n",
        "    print(f1)\n",
        "    f1 = f2\n",
        "    f2 = add_previous\n",
        "    add_previous = f1+f2"
      ]
    },
    {
      "cell_type": "code",
      "execution_count": null,
      "metadata": {
        "id": "3yHTrKtYHCuP",
        "outputId": "a97708f1-9cb3-4e41-a0de-205760657d05"
      },
      "outputs": [
        {
          "name": "stdout",
          "output_type": "stream",
          "text": [
            "1\n",
            "1\n",
            "2\n",
            "3\n",
            "5\n",
            "8\n",
            "13\n",
            "21\n",
            "34\n",
            "55\n",
            "89\n",
            "144\n",
            "233\n",
            "377\n",
            "610\n",
            "987\n"
          ]
        }
      ],
      "source": [
        "f1, f2 = 1,1\n",
        "while f1<=1000:\n",
        "    print(f1)\n",
        "    f1,f2 = f2, f1+f2"
      ]
    },
    {
      "cell_type": "markdown",
      "metadata": {
        "id": "afja9XNeHCuP"
      },
      "source": [
        "## Lists\n",
        "\n",
        "A Python `list` is an ordered and mutable (changeable) collection of items, created by placing a comma-separated sequence of values inside square brackets []. You can freely add, remove, and change elements. They are a great way to save data in a loop to be used later. We will return to lists later, but here is a quick introduction."
      ]
    },
    {
      "cell_type": "code",
      "execution_count": null,
      "metadata": {
        "id": "XfB4EAxoHCuP"
      },
      "outputs": [],
      "source": [
        "# Store a sequence of ints in a list\n",
        "r = [ 1, 1, 2, 3, 5, 8, 13, 21]"
      ]
    },
    {
      "cell_type": "code",
      "execution_count": null,
      "metadata": {
        "id": "mZuXdB99HCuP",
        "outputId": "670ef8c1-fca7-49be-bc73-51968b9f5376",
        "colab": {
          "base_uri": "https://localhost:8080/"
        }
      },
      "outputs": [
        {
          "output_type": "stream",
          "name": "stdout",
          "text": [
            "[1, 1, 2, 3, 5, 8, 13, 21]\n"
          ]
        }
      ],
      "source": [
        "print(r)"
      ]
    },
    {
      "cell_type": "code",
      "execution_count": null,
      "metadata": {
        "id": "nGqHF99dHCuP"
      },
      "outputs": [],
      "source": [
        "# Store a 3-vector of floats\n",
        "x = 1.0\n",
        "y = 1.5\n",
        "z = -2.2\n",
        "r = [ x, y, z]"
      ]
    },
    {
      "cell_type": "code",
      "execution_count": null,
      "metadata": {
        "id": "I2pg5R3PHCuP",
        "outputId": "2ee98c30-e7b6-4852-8168-9836021946e2",
        "colab": {
          "base_uri": "https://localhost:8080/"
        }
      },
      "outputs": [
        {
          "output_type": "stream",
          "name": "stdout",
          "text": [
            "[1.0, 1.5, -2.2]\n"
          ]
        }
      ],
      "source": [
        "print(r)"
      ]
    },
    {
      "cell_type": "code",
      "execution_count": null,
      "metadata": {
        "id": "zNG-1xxCHCuQ",
        "outputId": "05919cc7-6ed6-4bcc-9094-c66ec5231f50",
        "colab": {
          "base_uri": "https://localhost:8080/"
        }
      },
      "outputs": [
        {
          "output_type": "stream",
          "name": "stdout",
          "text": [
            "2.8442925306655784\n"
          ]
        }
      ],
      "source": [
        "# Example program. Calculate the magnitude of a vector\n",
        "from math import sqrt\n",
        "r = [ 1.0, 1.5, -2.2]\n",
        "length = sqrt(r[0]**2 + r[1]**2 + r[2]**2  )\n",
        "print(length)"
      ]
    },
    {
      "cell_type": "code",
      "execution_count": null,
      "metadata": {
        "id": "QfS4ZjpnHCuP"
      },
      "outputs": [],
      "source": [
        "# Do some math when creating the list\n",
        "r = [ 2*x, x+y, z*5]"
      ]
    },
    {
      "cell_type": "code",
      "execution_count": null,
      "metadata": {
        "id": "JjUVi7KBHCuP",
        "outputId": "83641af5-41d7-4d21-8b36-cfe9755b5d7b",
        "colab": {
          "base_uri": "https://localhost:8080/"
        }
      },
      "outputs": [
        {
          "output_type": "stream",
          "name": "stdout",
          "text": [
            "[2.0, 2.5, -11.0]\n"
          ]
        }
      ],
      "source": [
        "print(r)"
      ]
    },
    {
      "cell_type": "code",
      "execution_count": null,
      "metadata": {
        "id": "KJE1Cy96HCuP",
        "outputId": "dfedc5ca-3e1e-4ea8-c975-866d39f0a643",
        "colab": {
          "base_uri": "https://localhost:8080/"
        }
      },
      "outputs": [
        {
          "output_type": "execute_result",
          "data": {
            "text/plain": [
              "[2.0, 2.5, -11.0]"
            ]
          },
          "metadata": {},
          "execution_count": 38
        }
      ],
      "source": [
        "r"
      ]
    },
    {
      "cell_type": "markdown",
      "source": [
        "### List Indeces\n",
        "\n",
        "The elements of a list are positionally ordered and accessible with indeces. The indeces start at zero, so the first element in a list is at index 0, the second at index 1, and so on.\n"
      ],
      "metadata": {
        "id": "hWdBs14Z5SDe"
      }
    },
    {
      "cell_type": "code",
      "execution_count": null,
      "metadata": {
        "id": "WO60tDjvHCuQ",
        "outputId": "77ba32ce-45e2-4ca7-f2e4-b29324bfc8eb",
        "colab": {
          "base_uri": "https://localhost:8080/"
        }
      },
      "outputs": [
        {
          "output_type": "execute_result",
          "data": {
            "text/plain": [
              "2.0"
            ]
          },
          "metadata": {},
          "execution_count": 20
        }
      ],
      "source": [
        "# Access the first entry in the list (index 0)\n",
        "r[0]"
      ]
    },
    {
      "cell_type": "code",
      "execution_count": null,
      "metadata": {
        "id": "pvXgb6giHCuQ",
        "outputId": "f076f884-6977-4f32-b980-75163f6f7fdd",
        "colab": {
          "base_uri": "https://localhost:8080/"
        }
      },
      "outputs": [
        {
          "output_type": "execute_result",
          "data": {
            "text/plain": [
              "2.5"
            ]
          },
          "metadata": {},
          "execution_count": 55
        }
      ],
      "source": [
        "# Access the second element in the list (index 1)\n",
        "r[1]"
      ]
    },
    {
      "cell_type": "code",
      "execution_count": null,
      "metadata": {
        "id": "I0l3S8HBHCuQ",
        "outputId": "a74a937c-ced1-48ec-c5d6-22be1751ea34",
        "colab": {
          "base_uri": "https://localhost:8080/"
        }
      },
      "outputs": [
        {
          "output_type": "execute_result",
          "data": {
            "text/plain": [
              "-11.0"
            ]
          },
          "metadata": {},
          "execution_count": 56
        }
      ],
      "source": [
        "# Access the third element int he list (index 2)\n",
        "r[2]"
      ]
    },
    {
      "cell_type": "markdown",
      "source": [
        "You can modify a single element in a list, by using its index in square brackets and the assignment operator (=) to assign a new value."
      ],
      "metadata": {
        "id": "-b_7MAuq7yfu"
      }
    },
    {
      "cell_type": "code",
      "source": [
        "r = [ 1.0, 1.5, -2.2]\n",
        "r[2] = 5.9\n",
        "print(r)"
      ],
      "metadata": {
        "colab": {
          "base_uri": "https://localhost:8080/"
        },
        "id": "pQ6ED4si-UUg",
        "outputId": "13ff72da-3655-4f12-f7fa-644a58c6c588"
      },
      "execution_count": null,
      "outputs": [
        {
          "output_type": "stream",
          "name": "stdout",
          "text": [
            "[1.0, 1.5, 5.9]\n"
          ]
        }
      ]
    },
    {
      "cell_type": "markdown",
      "metadata": {
        "id": "UdWcec1GHCuQ"
      },
      "source": [
        "### List built-in functions\n",
        "\n",
        "There are many useful built-in functions for lists:\n",
        "\n",
        "* `len(list`): Returns the number of items in the list.\n",
        "\n",
        "* `sum(list)`: Returns the sum of all numeric items in the list.\n",
        "\n",
        "* `max(list)`: Returns the largest item in the list.\n",
        "\n",
        "* `min(list)`: Returns the smallest item in the list.\n",
        "\n",
        "* `sorted(list)`: Returns a new, sorted list without changing the original.\n",
        "\n",
        "* `list(iterable)`: Converts another iterable (like a tuple or string) into a new list.\n",
        "\n",
        "* `enumerate(list)`: Returns an iterator of index-value pairs, useful in for loops."
      ]
    },
    {
      "cell_type": "code",
      "execution_count": null,
      "metadata": {
        "id": "q_XAlpj2HCuQ",
        "outputId": "e7a0c510-0b6e-452f-c2c8-2e9233111b73",
        "colab": {
          "base_uri": "https://localhost:8080/"
        }
      },
      "outputs": [
        {
          "output_type": "stream",
          "name": "stdout",
          "text": [
            "0.2999999999999998\n",
            "1.5\n",
            "-2.2\n",
            "3\n"
          ]
        }
      ],
      "source": [
        "r = [ 1.0, 1.5, -2.2]\n",
        "print(sum(r))\n",
        "print(max(r))\n",
        "print(min(r))\n",
        "print(len(r))"
      ]
    },
    {
      "cell_type": "code",
      "execution_count": null,
      "metadata": {
        "id": "qGJOpxRkHCuQ",
        "outputId": "807d1c49-3792-4d0f-97f8-1886a78f44c2",
        "colab": {
          "base_uri": "https://localhost:8080/"
        }
      },
      "outputs": [
        {
          "output_type": "stream",
          "name": "stdout",
          "text": [
            "[1.0, 3.5, -2.2]\n"
          ]
        }
      ],
      "source": [
        "r = [ 1.0, 1.5, -2.2]\n",
        "r[1] = 3.5   # change just one element of a list\n",
        "print(r)"
      ]
    },
    {
      "cell_type": "code",
      "execution_count": null,
      "metadata": {
        "id": "fVkUHiYIHCuQ",
        "outputId": "574573a3-f08c-4062-8823-745444065173",
        "colab": {
          "base_uri": "https://localhost:8080/"
        }
      },
      "outputs": [
        {
          "output_type": "stream",
          "name": "stdout",
          "text": [
            "3\n"
          ]
        }
      ],
      "source": [
        "r = [ 1.0, 1.5, \"string\"]\n",
        "#total = sum(r) # python built in function to sum up the numbers in a list\n",
        "print(len(r))"
      ]
    },
    {
      "cell_type": "code",
      "execution_count": null,
      "metadata": {
        "id": "MZs7zweaHCuQ",
        "outputId": "16673559-c732-4d50-91ca-3124b0f3dbf1",
        "colab": {
          "base_uri": "https://localhost:8080/"
        }
      },
      "outputs": [
        {
          "output_type": "stream",
          "name": "stdout",
          "text": [
            "1.5666666666666667\n"
          ]
        }
      ],
      "source": [
        "# calculate the mean\n",
        "r = [ 1.0, 1.5, 2.2]\n",
        "mean = sum(r)/len(r)\n",
        "print(mean)"
      ]
    },
    {
      "cell_type": "code",
      "execution_count": null,
      "metadata": {
        "id": "Czspdf4eHCuQ",
        "outputId": "ff10ffe0-2def-4d79-c969-ecdf312d5fd1",
        "colab": {
          "base_uri": "https://localhost:8080/"
        }
      },
      "outputs": [
        {
          "output_type": "stream",
          "name": "stdout",
          "text": [
            "[0.0, 1.0, 2.4771212547196626]\n"
          ]
        }
      ],
      "source": [
        "# map allows you to apply something to each element of a list\n",
        "from math import log10\n",
        "r = [ 1.0, 10.0, 300.]\n",
        "logr = list(map(log10,r))  # lists allows you to return another list\n",
        "print(logr)"
      ]
    },
    {
      "cell_type": "code",
      "execution_count": null,
      "metadata": {
        "id": "JVFY58xLHCuQ",
        "outputId": "e1d532b0-cd91-44ee-e53e-35f9b90e7cbc",
        "colab": {
          "base_uri": "https://localhost:8080/"
        }
      },
      "outputs": [
        {
          "output_type": "stream",
          "name": "stdout",
          "text": [
            "[1.0, 1.5, 30, 6.1]\n"
          ]
        }
      ],
      "source": [
        "# Add to a list\n",
        "r = [ 1.0, 1.5, 30]\n",
        "r.append(6.1) # add a new element to the end of the list r\n",
        "print(r)"
      ]
    },
    {
      "cell_type": "markdown",
      "source": [
        "### List Methods\n",
        "\n",
        "There are also numerous useful functions that below to the list object itself and are used to modify or inspect the list.\n",
        "\n",
        "*Methods for Adding Items*\n",
        "* .append(item): Adds a single item to the end of the list.\n",
        "\n",
        "* .extend(iterable): Adds all items from another iterable (like another list) to the end.\n",
        "\n",
        "* .insert(index, item): Inserts an item at a specific index.\n",
        "\n",
        "*Methods for Removing Items*\n",
        "\n",
        "* .remove(item): Removes the first occurrence of a specified value.\n",
        "\n",
        "* .pop(index): Removes and returns the item at a specific index (or the last item if no index is given).\n",
        "\n",
        "* .clear(): Removes all items from the list.\n",
        "\n",
        "*Methods for Organizing and Searching*\n",
        "\n",
        "* .sort(): Sorts the list in place (modifies the original list).\n",
        "\n",
        "* .reverse(): Reverses the order of the list in place.\n",
        "\n",
        "* .index(item): Returns the index of the first occurrence of a specified value.\n",
        "\n",
        "* .count(item): Returns the number of times a specified value appears in the list.\n",
        "\n",
        "* .copy(): Returns a  copy of the list."
      ],
      "metadata": {
        "id": "ENMfDFjX_J9u"
      }
    },
    {
      "cell_type": "markdown",
      "source": [
        "One of the most useful things you can do with a list is to use it to store information for later with `append()`"
      ],
      "metadata": {
        "id": "IeJyx_J09NLY"
      }
    },
    {
      "cell_type": "code",
      "execution_count": null,
      "metadata": {
        "id": "Cpk0QHqfHCuQ"
      },
      "outputs": [],
      "source": [
        "# Create an empty list\n",
        "r=[]"
      ]
    },
    {
      "cell_type": "code",
      "execution_count": null,
      "metadata": {
        "id": "mCWzo2MoHCuQ",
        "outputId": "e9e24975-75e4-4c7e-8a2f-40bcc8eeb421",
        "colab": {
          "base_uri": "https://localhost:8080/"
        }
      },
      "outputs": [
        {
          "output_type": "stream",
          "name": "stdout",
          "text": [
            "[5.1, 5.2, 5.3, 5.4, 5.5, 5.6, 5.7]\n"
          ]
        }
      ],
      "source": [
        "r.append(5.1)\n",
        "r.append(5.2)\n",
        "r.append(5.3)\n",
        "r.append(5.4)\n",
        "r.append(5.5)\n",
        "r.append(5.6)\n",
        "r.append(5.7)\n",
        "print(r)"
      ]
    },
    {
      "cell_type": "code",
      "source": [
        "# Example: Store to a list with append()\n",
        "\n",
        "# Create an empty list\n",
        "squared_numbers = []\n",
        "\n",
        "# Loop to generate data\n",
        "i=1\n",
        "while i <= 10:\n",
        "    # Calculate a value in each iteration\n",
        "    square = i ** 2\n",
        "    # Save the calculated value to the list\n",
        "    squared_numbers.append(square)\n",
        "    i+=1\n",
        "\n",
        "# After the loop, the list contains all the results to be used later\n",
        "print(\"The collected squares are:\",squared_numbers)\n",
        "print(\"The sum of the squares is:\", sum(squared_numbers))"
      ],
      "metadata": {
        "colab": {
          "base_uri": "https://localhost:8080/"
        },
        "id": "bsOsI7mb9V9G",
        "outputId": "e2863c0a-f23f-406d-a1fd-b1f66f88fc91"
      },
      "execution_count": null,
      "outputs": [
        {
          "output_type": "stream",
          "name": "stdout",
          "text": [
            "The collected squares are: [1, 4, 9, 16, 25, 36, 49, 64, 81, 100]\n",
            "The sum of the squares is: 385\n"
          ]
        }
      ]
    },
    {
      "cell_type": "markdown",
      "source": [
        "You can also remove an element from a list using `pop()` to remove by index or `remove()` to remove by value."
      ],
      "metadata": {
        "id": "L5PWkbqI-AbF"
      }
    },
    {
      "cell_type": "code",
      "execution_count": null,
      "metadata": {
        "id": "8yf1kVXaHCuQ",
        "outputId": "1146785d-d843-4a9b-8c21-91c393aaa874",
        "colab": {
          "base_uri": "https://localhost:8080/"
        }
      },
      "outputs": [
        {
          "output_type": "stream",
          "name": "stdout",
          "text": [
            "[5.1, 5.2, 5.3, 5.4, 5.5, 5.6, 5.7]\n",
            "[5.1, 5.2, 5.3, 5.4, 5.5, 5.6]\n"
          ]
        }
      ],
      "source": [
        "# Remove an element from a list\n",
        "print(r)\n",
        "r.pop()  # remove the last element from a list\n",
        "print(r)"
      ]
    },
    {
      "cell_type": "code",
      "execution_count": null,
      "metadata": {
        "id": "jh9r09coHCuQ",
        "outputId": "7de824ff-bfed-482a-a99d-2210cd8c3a46",
        "colab": {
          "base_uri": "https://localhost:8080/"
        }
      },
      "outputs": [
        {
          "output_type": "stream",
          "name": "stdout",
          "text": [
            "[5.1, 5.2, 5.3, 5.4, 5.5, 5.6]\n",
            "[5.2, 5.3, 5.4, 5.5, 5.6]\n"
          ]
        }
      ],
      "source": [
        "print(r)\n",
        "r.pop(0)  # remove the 0th element from the list\n",
        "print(r)"
      ]
    },
    {
      "cell_type": "code",
      "source": [
        "# remove by value instead of index\n",
        "print(r)\n",
        "r.remove(5.3)\n",
        "print(r)"
      ],
      "metadata": {
        "id": "6FmWK4a7x1qK",
        "outputId": "c2fcd31d-8a8c-48b1-8056-e12d734f1c56",
        "colab": {
          "base_uri": "https://localhost:8080/"
        }
      },
      "execution_count": null,
      "outputs": [
        {
          "output_type": "stream",
          "name": "stdout",
          "text": [
            "[5.2, 5.3, 5.4, 5.5, 5.6]\n",
            "[5.2, 5.4, 5.5, 5.6]\n"
          ]
        }
      ]
    },
    {
      "cell_type": "code",
      "execution_count": null,
      "metadata": {
        "id": "-MCwm7KvHCuQ"
      },
      "outputs": [],
      "source": [
        "r = [ 0.0, 1.1, 2.1, 3.1, 4.1, 5.1, 6.1, 7.1, 8.1, 9.1, 10.1]"
      ]
    },
    {
      "cell_type": "code",
      "execution_count": null,
      "metadata": {
        "id": "TxKezQfCHCuQ",
        "outputId": "baf0f06e-625e-45fb-bca8-88d5b57c92c1",
        "colab": {
          "base_uri": "https://localhost:8080/"
        }
      },
      "outputs": [
        {
          "output_type": "execute_result",
          "data": {
            "text/plain": [
              "0.0"
            ]
          },
          "metadata": {},
          "execution_count": 73
        }
      ],
      "source": [
        "r[0]"
      ]
    },
    {
      "cell_type": "code",
      "execution_count": null,
      "metadata": {
        "id": "fcfaJFTtHCuR",
        "outputId": "6678d7ab-762a-4dc6-cfd0-459bbbb71830",
        "colab": {
          "base_uri": "https://localhost:8080/"
        }
      },
      "outputs": [
        {
          "output_type": "execute_result",
          "data": {
            "text/plain": [
              "1.1"
            ]
          },
          "metadata": {},
          "execution_count": 74
        }
      ],
      "source": [
        "r[1]"
      ]
    },
    {
      "cell_type": "markdown",
      "metadata": {
        "id": "_6SyvjkYHCuR"
      },
      "source": [
        "### Intro to slicing\n",
        "\n",
        "Method to select certain elements of a list (also works for arrays and other objects we will learn later)\n",
        "\n",
        "r[A:B] selects all elements of the array between element A of the list and element B of the list, inclusive of A but exclusive of B. That is, the slice starts at index A and goes up to but does not include index B. In interval notation this is [A,b) or [closed,open)."
      ]
    },
    {
      "cell_type": "code",
      "execution_count": null,
      "metadata": {
        "id": "jv6xZawEHCuR",
        "outputId": "316eaedd-e293-43cd-a5b4-e493187bcdbc",
        "colab": {
          "base_uri": "https://localhost:8080/"
        }
      },
      "outputs": [
        {
          "output_type": "execute_result",
          "data": {
            "text/plain": [
              "[0.0, 1.1, 2.1, 3.1, 4.1, 5.1, 6.1, 7.1, 8.1, 9.1, 10.1]"
            ]
          },
          "metadata": {},
          "execution_count": 75
        }
      ],
      "source": [
        "r"
      ]
    },
    {
      "cell_type": "code",
      "execution_count": null,
      "metadata": {
        "id": "oxtbkgfgHCuR",
        "outputId": "75cf2abf-659d-4ad8-88a0-0903230d877d",
        "colab": {
          "base_uri": "https://localhost:8080/"
        }
      },
      "outputs": [
        {
          "output_type": "execute_result",
          "data": {
            "text/plain": [
              "[1.1, 2.1, 3.1, 4.1]"
            ]
          },
          "metadata": {},
          "execution_count": 76
        }
      ],
      "source": [
        "r[1:5]"
      ]
    },
    {
      "cell_type": "code",
      "execution_count": null,
      "metadata": {
        "id": "eE-N7GUAHCuR",
        "outputId": "ae6a396b-9844-4c97-a423-a7b525da678f",
        "colab": {
          "base_uri": "https://localhost:8080/"
        }
      },
      "outputs": [
        {
          "output_type": "execute_result",
          "data": {
            "text/plain": [
              "10.1"
            ]
          },
          "metadata": {},
          "execution_count": 77
        }
      ],
      "source": [
        "# last element of list\n",
        "r[-1]"
      ]
    },
    {
      "cell_type": "code",
      "execution_count": null,
      "metadata": {
        "id": "4MwEOx-qHCuR",
        "outputId": "c9b624f4-49ab-406f-96dd-9d32df913a56",
        "colab": {
          "base_uri": "https://localhost:8080/"
        }
      },
      "outputs": [
        {
          "output_type": "execute_result",
          "data": {
            "text/plain": [
              "9.1"
            ]
          },
          "metadata": {},
          "execution_count": 80
        }
      ],
      "source": [
        "# second to last element of list\n",
        "r[-2]"
      ]
    },
    {
      "cell_type": "code",
      "execution_count": null,
      "metadata": {
        "id": "vzLabCV0HCuR",
        "outputId": "fc7e91d8-c409-49bb-94ec-2d59a9c41daf"
      },
      "outputs": [
        {
          "data": {
            "text/plain": [
              "[2.1, 3.1, 4.1, 5.1, 6.1, 7.1, 8.1, 9.1, 10.1]"
            ]
          },
          "execution_count": 78,
          "metadata": {},
          "output_type": "execute_result"
        }
      ],
      "source": [
        "# Element 2 to the end of the list\n",
        "r[2:]"
      ]
    },
    {
      "cell_type": "code",
      "execution_count": null,
      "metadata": {
        "id": "GsTUmhkbHCuR",
        "outputId": "a570bb9e-1d1f-4ef2-e80b-d9df3bcf0736"
      },
      "outputs": [
        {
          "data": {
            "text/plain": [
              "[0.0, 1.1]"
            ]
          },
          "execution_count": 79,
          "metadata": {},
          "output_type": "execute_result"
        }
      ],
      "source": [
        "#Beginning of the list to element 2 exclusive\n",
        "#    (element 2 is not included)\n",
        "r[:2]"
      ]
    },
    {
      "cell_type": "markdown",
      "metadata": {
        "id": "PkIFVi7dHCuR"
      },
      "source": [
        "## For Loops\n",
        "\n",
        "A `for` loop is used to iterate over the items of any sequence, one by one. The sequence can be a list like we previously discussed, or something else like a string, tuple, or dictionary.\n",
        "\n",
        "The basic structure is `for item in sequence:`, where `item` is a temporary variable that holds the current item from the `sequence` in each iteration of the loop.\n",
        "\n",
        "Note: There is always a colon at the end of the `for` loop line to indicate the start of an indented block of code. The identation, which is often 4 spaces, is also an important part of Python syntax. This how we communicate to Python which lines of code are inside the loop and should be executed for each item in the sequence. The first line that is not indented signals the end of the loop and will only run after the loop has finished.\n"
      ]
    },
    {
      "cell_type": "code",
      "execution_count": null,
      "metadata": {
        "id": "RoYnuM-zHCuR",
        "outputId": "a51855db-4dfb-464b-af8f-c172301964f6",
        "colab": {
          "base_uri": "https://localhost:8080/"
        }
      },
      "outputs": [
        {
          "output_type": "stream",
          "name": "stdout",
          "text": [
            "1\n",
            "5.9\n",
            "hello\n",
            "153\n",
            "Done with loop\n"
          ]
        }
      ],
      "source": [
        "# Create a list\n",
        "r = [1,5.9,\"hello\",153]\n",
        "\n",
        "# Loop over the list\n",
        "for n in r:\n",
        "    print(n)\n",
        "print(\"Done with loop\")"
      ]
    },
    {
      "cell_type": "markdown",
      "source": [
        "### For loop with `enumerate()`\n",
        "\n",
        "The `enumerate()` function is a built-in tool that adds a counter to an iterable, like a list. This is useful when you need to know the position (index) of an item as you process it in a loop."
      ],
      "metadata": {
        "id": "knGeEpWLFj6-"
      }
    },
    {
      "cell_type": "code",
      "source": [
        "for index, n in enumerate(r):\n",
        "    print(index, n)"
      ],
      "metadata": {
        "colab": {
          "base_uri": "https://localhost:8080/"
        },
        "id": "B01AuDGbFkKW",
        "outputId": "f48f8820-0dbe-40d7-cc07-e74d75804905"
      },
      "execution_count": null,
      "outputs": [
        {
          "output_type": "stream",
          "name": "stdout",
          "text": [
            "0 1\n",
            "1 5.9\n",
            "2 hello\n",
            "3 153\n"
          ]
        }
      ]
    },
    {
      "cell_type": "markdown",
      "metadata": {
        "id": "5XmBY9Q5HCuR"
      },
      "source": [
        "### For loop using the `range()` function\n",
        "\n",
        "There is also a python tool that allows you to automatically loop through a large range:\n",
        "\n",
        "https://docs.python.org/3/library/stdtypes.html#typesseq-range\n",
        "\n",
        "The `range()` function generates a sequence of numbers, starting from `start` (inclusive, defaults to 0), going up to but not including `stop` (stop is exclusive), and incrementing by `step` (defaults to 1). We indicate `start`, `stop`, and `step` based on their position as arguments in the `range()` function:\n",
        "\n",
        "`range(stop)` creates a sequence from 0 up to `stop` incrementing by 1\n",
        "\n",
        "`range(start, stop)` creates a sequence from `start` up to `stop` incrementing by 1\n",
        "\n",
        "`range(start, stop[, step])` creates a sequence from `start` up to `stop` incrementing by `step`\n",
        "\n",
        "The `range()` object is not a list. It is a much more memory-efficient object that only stores `start`, `stop`, and `step`. The numbers are generated on the fly as you iterate over it.\n"
      ]
    },
    {
      "cell_type": "code",
      "execution_count": null,
      "metadata": {
        "id": "ym8HSpzlHCuR",
        "outputId": "9ec8d9fa-93b5-45e6-b2fc-d1d88727cc08",
        "colab": {
          "base_uri": "https://localhost:8080/"
        }
      },
      "outputs": [
        {
          "output_type": "stream",
          "name": "stdout",
          "text": [
            "0\n",
            "1\n",
            "2\n",
            "3\n",
            "4\n",
            "5\n",
            "6\n",
            "7\n",
            "8\n",
            "9\n",
            "10\n",
            "11\n",
            "12\n",
            "13\n",
            "14\n",
            "15\n",
            "16\n",
            "17\n",
            "18\n",
            "19\n"
          ]
        }
      ],
      "source": [
        "# If you only give range one arguement then that argument sets the stop. The start defaults to 0 and step defaults to 1.\n",
        "for n in range(20):\n",
        "    print(n)"
      ]
    },
    {
      "cell_type": "code",
      "execution_count": null,
      "metadata": {
        "id": "thgR2ZmUHCuR",
        "outputId": "68b1ef1e-0731-415d-b25f-9e3e6f0aeb7c",
        "colab": {
          "base_uri": "https://localhost:8080/"
        }
      },
      "outputs": [
        {
          "output_type": "stream",
          "name": "stdout",
          "text": [
            "2\n",
            "3\n",
            "4\n",
            "5\n",
            "6\n",
            "7\n"
          ]
        }
      ],
      "source": [
        "# If you give it two arguments it sets start and stop.\n",
        "for n in range (2,8):\n",
        "    print(n)"
      ]
    },
    {
      "cell_type": "code",
      "execution_count": null,
      "metadata": {
        "id": "1zvAJv3eHCuR",
        "outputId": "c522b10f-1140-403e-f601-60c2a4b594be",
        "colab": {
          "base_uri": "https://localhost:8080/"
        }
      },
      "outputs": [
        {
          "output_type": "stream",
          "name": "stdout",
          "text": [
            "2\n",
            "4\n",
            "6\n",
            "8\n",
            "10\n",
            "12\n",
            "14\n",
            "16\n",
            "18\n"
          ]
        }
      ],
      "source": [
        "# If you give it three arguments it sets start, stop, then step. Here we step by 2\n",
        "for n in range (2,20,2):\n",
        "    print(n)"
      ]
    },
    {
      "cell_type": "code",
      "execution_count": null,
      "metadata": {
        "id": "IZIZSFgZHCuR",
        "outputId": "19ff2b56-2e64-4983-99c9-e849c80d863a",
        "colab": {
          "base_uri": "https://localhost:8080/"
        }
      },
      "outputs": [
        {
          "output_type": "stream",
          "name": "stdout",
          "text": [
            "20\n",
            "18\n",
            "16\n",
            "14\n",
            "12\n",
            "10\n",
            "8\n",
            "6\n",
            "4\n"
          ]
        }
      ],
      "source": [
        "# We can also step backwards with a negative step\n",
        "for n in range (20,2,-2):\n",
        "    print(n)"
      ]
    },
    {
      "cell_type": "code",
      "execution_count": null,
      "metadata": {
        "id": "1c_pAnDiHCuR",
        "outputId": "9e3a7660-780b-456e-c93b-f9460d014c2f",
        "colab": {
          "base_uri": "https://localhost:8080/"
        }
      },
      "outputs": [
        {
          "output_type": "execute_result",
          "data": {
            "text/plain": [
              "[0, 1, 2, 3, 4, 5, 6, 7, 8, 9, 10, 11, 12, 13, 14]"
            ]
          },
          "metadata": {},
          "execution_count": 8
        }
      ],
      "source": [
        "# We can turn range into a list using the list() function\n",
        "list(range(15))"
      ]
    },
    {
      "cell_type": "code",
      "execution_count": null,
      "metadata": {
        "id": "v5XVg7ADHCuR",
        "outputId": "6befe6fe-72da-476e-9d25-bb5d43a99366"
      },
      "outputs": [
        {
          "data": {
            "text/plain": [
              "[1, 2, 3, 4, 5, 6, 7, 8, 9, 10, 11, 12, 13, 14]"
            ]
          },
          "execution_count": 86,
          "metadata": {},
          "output_type": "execute_result"
        }
      ],
      "source": [
        "list(range(1, 15))"
      ]
    },
    {
      "cell_type": "code",
      "execution_count": null,
      "metadata": {
        "id": "Z88IlfMnHCuR",
        "outputId": "c84ca17f-33f3-41a6-db89-078a1962f36d"
      },
      "outputs": [
        {
          "data": {
            "text/plain": [
              "[0, 5, 10]"
            ]
          },
          "execution_count": 87,
          "metadata": {},
          "output_type": "execute_result"
        }
      ],
      "source": [
        "list(range(0, 15, 5))"
      ]
    },
    {
      "cell_type": "code",
      "execution_count": null,
      "metadata": {
        "id": "6ZOd0cHcHCuR",
        "outputId": "1b9d47f9-04ea-4ced-f487-50807f2b70ab"
      },
      "outputs": [
        {
          "data": {
            "text/plain": [
              "[0, -1, -2, -3, -4, -5, -6, -7, -8, -9]"
            ]
          },
          "execution_count": 88,
          "metadata": {},
          "output_type": "execute_result"
        }
      ],
      "source": [
        "list(range(0, -10, -1))"
      ]
    },
    {
      "cell_type": "code",
      "source": [
        "#you can use range and enumerate, but this is less common\n",
        "\n",
        "id_range = range(100, 105)\n",
        "# Enumerate provides a simple counter (0, 1, 2...) for each loop over the ID numbers\n",
        "for index, id in enumerate(id_range):\n",
        "    # We add 1 to the index for a more human-readable count\n",
        "    print(\"  Item count \", index + 1, \" has ID\", id)"
      ],
      "metadata": {
        "colab": {
          "base_uri": "https://localhost:8080/"
        },
        "id": "FKEi4LFrGMa9",
        "outputId": "c53e64c1-aff7-4e8e-df79-0675b9da50c8"
      },
      "execution_count": null,
      "outputs": [
        {
          "output_type": "stream",
          "name": "stdout",
          "text": [
            "  Item count  1  has ID 100\n",
            "  Item count  2  has ID 101\n",
            "  Item count  3  has ID 102\n",
            "  Item count  4  has ID 103\n",
            "  Item count  5  has ID 104\n"
          ]
        }
      ]
    },
    {
      "cell_type": "markdown",
      "metadata": {
        "id": "Rh5qX0mSHCuS"
      },
      "source": [
        "***----Begin Exercise 02-3----***\n",
        "\n",
        "Loop over the following list and print out each element of the list. Also print out the total number of entries in the list and the sum of all the elements. Please do this in two ways:\n",
        "\n",
        "1. By hand: Within the loop keep a running count of the number of list entries and also calculate the sum.\n",
        "2. Using the built-in functions len() and sum()"
      ]
    },
    {
      "cell_type": "code",
      "execution_count": null,
      "metadata": {
        "id": "GaHoXBSDHCuS"
      },
      "outputs": [],
      "source": [
        "r = [0.4, 0.5, -0.1, 4.0, -1.2, 5.9, 0.4, 0.5]\n",
        "\n"
      ]
    },
    {
      "cell_type": "markdown",
      "metadata": {
        "id": "_j8IzkUWHCuS"
      },
      "source": [
        "Use the range function to loop from -20 to 140 in steps of 2. Print out every iteration except for 2, 8, 10, 128, and any number within 30<=number<=40. For every value you skip print \"SKIP\"."
      ]
    },
    {
      "cell_type": "code",
      "execution_count": null,
      "metadata": {
        "id": "ziNppMuTHCuS"
      },
      "outputs": [],
      "source": []
    },
    {
      "cell_type": "markdown",
      "metadata": {
        "id": "KkxKw8UHHCuS"
      },
      "source": [
        "***----End Exercise----***"
      ]
    },
    {
      "cell_type": "markdown",
      "metadata": {
        "id": "1Q701n12HCuS"
      },
      "source": [
        "## Defining your own functions\n"
      ]
    },
    {
      "cell_type": "markdown",
      "source": [
        "So far, we've been using built-in functions like `print()` and functions from the math module like `sqrt()`. We can also write our own functions. This is an extremly useful way to avoid repeating yourself in your code.\n",
        "\n",
        "A function is a reusable block of code that performs a specific, named action. You define the steps for a task once and then \"call\" the function by its name whenever you need to perform that task.\n",
        "\n",
        "Here is a simple function to square a number:"
      ],
      "metadata": {
        "id": "tFLPGs-kysCz"
      }
    },
    {
      "cell_type": "code",
      "execution_count": null,
      "metadata": {
        "id": "tlteRQwgHCuS"
      },
      "outputs": [],
      "source": [
        "def square(x):\n",
        "    return x**2"
      ]
    },
    {
      "cell_type": "code",
      "execution_count": null,
      "metadata": {
        "id": "4aCl8QB4HCuS",
        "outputId": "3efd8533-ec56-4f12-c692-bda3dad36a91"
      },
      "outputs": [
        {
          "data": {
            "text/plain": [
              "16"
            ]
          },
          "execution_count": 91,
          "metadata": {},
          "output_type": "execute_result"
        }
      ],
      "source": [
        "square(4)"
      ]
    },
    {
      "cell_type": "code",
      "source": [
        "# the function is reusable\n",
        "square(9)"
      ],
      "metadata": {
        "id": "xXJKKigOzSGN",
        "outputId": "447a6183-4ba9-48ff-90f0-e25dd0a95355",
        "colab": {
          "base_uri": "https://localhost:8080/"
        }
      },
      "execution_count": null,
      "outputs": [
        {
          "output_type": "execute_result",
          "data": {
            "text/plain": [
              "81"
            ]
          },
          "metadata": {},
          "execution_count": 87
        }
      ]
    },
    {
      "cell_type": "markdown",
      "source": [
        "When you define a function it is good practice to leave a comment describing what the function does, what arguments it takes, and what it returns. This is typically done with a docstring which a way of creating a multi-line comment in Python. Here is the typical good-practice way of writing the same function:"
      ],
      "metadata": {
        "id": "P_7c34WXzef0"
      }
    },
    {
      "cell_type": "code",
      "source": [
        "def square(x):\n",
        "  \"\"\"\n",
        "  Calculates the square of a number.\n",
        "\n",
        "  Args:\n",
        "    x: An integer or float.\n",
        "\n",
        "  Returns:\n",
        "    The square of x (x**2).\n",
        "  \"\"\"\n",
        "  return x**2"
      ],
      "metadata": {
        "id": "dpdl-cU-zbE8"
      },
      "execution_count": null,
      "outputs": []
    },
    {
      "cell_type": "markdown",
      "source": [
        "The docstring comment also allows us to use `help()` to check what the function does."
      ],
      "metadata": {
        "id": "3U-SKW-4zy91"
      }
    },
    {
      "cell_type": "code",
      "execution_count": null,
      "metadata": {
        "id": "ThkE6APHHCuS",
        "outputId": "73fbe5d2-6385-40f4-977d-0c03a0e8f036",
        "colab": {
          "base_uri": "https://localhost:8080/"
        }
      },
      "outputs": [
        {
          "output_type": "stream",
          "name": "stdout",
          "text": [
            "Help on function square in module __main__:\n",
            "\n",
            "square(x)\n",
            "    Calculates the square of a number.\n",
            "\n",
            "    Args:\n",
            "      x: An integer or float.\n",
            "\n",
            "    Returns:\n",
            "      The square of x (x**2).\n",
            "\n"
          ]
        }
      ],
      "source": [
        "help(square)"
      ]
    },
    {
      "cell_type": "markdown",
      "source": [
        "We can also write a function which calculates the factorial of an inputed number n:"
      ],
      "metadata": {
        "id": "Kviu__XQ0pFX"
      }
    },
    {
      "cell_type": "code",
      "execution_count": null,
      "metadata": {
        "id": "1j6wYlSvHCuS"
      },
      "outputs": [],
      "source": [
        "def factorial(n):\n",
        "    fact = 1.0\n",
        "    # Loop through all integers from 1 up to and including n.\n",
        "    # The range function's second argument is exclusive, so we use n+1.\n",
        "    for i in range(1,n+1):\n",
        "        print(i)\n",
        "        # Multiply the current running product by the next integer.\n",
        "        fact*=i #shorthand for fact = fact * i.\n",
        "    print(\"Done with loop\")\n",
        "    return fact"
      ]
    },
    {
      "cell_type": "code",
      "execution_count": null,
      "metadata": {
        "id": "MmOeSj-hHCuS",
        "outputId": "d0c6faa7-ed3c-4775-aa99-49af4990575f",
        "colab": {
          "base_uri": "https://localhost:8080/"
        }
      },
      "outputs": [
        {
          "output_type": "stream",
          "name": "stdout",
          "text": [
            "1\n",
            "2\n",
            "3\n",
            "Done with loop\n"
          ]
        },
        {
          "output_type": "execute_result",
          "data": {
            "text/plain": [
              "6.0"
            ]
          },
          "metadata": {},
          "execution_count": 91
        }
      ],
      "source": [
        "factorial(3)"
      ]
    },
    {
      "cell_type": "markdown",
      "source": [
        "Or following good practices:"
      ],
      "metadata": {
        "id": "wyexALJr0ixh"
      }
    },
    {
      "cell_type": "code",
      "source": [
        "def factorial(n):\n",
        "  \"\"\"Calculates the factorial of a non-negative integer.\n",
        "\n",
        "  The factorial of a number is the product of all integers from 1 to that number.\n",
        "  For example, the factorial of 4 (written as 4!) is 1 * 2 * 3 * 4 = 24.\n",
        "\n",
        "  Args:\n",
        "    n: A non-negative integer.\n",
        "\n",
        "  Returns:\n",
        "    The factorial of n as an integer.\n",
        "  \"\"\"\n",
        "  # Check if the input is not an integer or if it's a negative number.\n",
        "  if type(n) != int or n < 0:\n",
        "    print(\"Input must be a non-negative integer.\")\n",
        "    return\n",
        "\n",
        "  # Handle the base case where the factorial of 0 is 1\n",
        "  if n == 0:\n",
        "    return 1\n",
        "\n",
        "  # Calculate the factorial using a loop\n",
        "  result = 1\n",
        "  for i in range(1, n + 1):\n",
        "    result *= i\n",
        "\n",
        "  return result"
      ],
      "metadata": {
        "id": "hVf8Cbk90h-a"
      },
      "execution_count": null,
      "outputs": []
    },
    {
      "cell_type": "code",
      "source": [
        "factorial(4)"
      ],
      "metadata": {
        "id": "i3jS8Yid17Rd",
        "outputId": "7cb8327a-8ce4-4b7e-d249-17c3bc19a102",
        "colab": {
          "base_uri": "https://localhost:8080/"
        }
      },
      "execution_count": null,
      "outputs": [
        {
          "output_type": "execute_result",
          "data": {
            "text/plain": [
              "24"
            ]
          },
          "metadata": {},
          "execution_count": 10
        }
      ]
    },
    {
      "cell_type": "code",
      "source": [
        "factorial(4.0)"
      ],
      "metadata": {
        "id": "WnnAXjuH1_xl",
        "outputId": "4a278302-bc36-4c45-c032-ffe84fbab3e0",
        "colab": {
          "base_uri": "https://localhost:8080/"
        }
      },
      "execution_count": null,
      "outputs": [
        {
          "output_type": "stream",
          "name": "stdout",
          "text": [
            "Input must be a non-negative integer.\n"
          ]
        }
      ]
    },
    {
      "cell_type": "code",
      "source": [
        "factorial(-4)"
      ],
      "metadata": {
        "id": "m8IGEFka2BMG",
        "outputId": "32b0a723-b634-418d-9b4d-6fcc78dd744e",
        "colab": {
          "base_uri": "https://localhost:8080/"
        }
      },
      "execution_count": null,
      "outputs": [
        {
          "output_type": "stream",
          "name": "stdout",
          "text": [
            "Input must be a non-negative integer.\n"
          ]
        }
      ]
    },
    {
      "cell_type": "markdown",
      "metadata": {
        "collapsed": true,
        "id": "6jEy8XThHCuS"
      },
      "source": [
        "***----Begin Exercise 02-4----***\n",
        "\n",
        "Define a function which calculates the area of a rectangle. Take as input the length and the width. Test it by calculating the area of a rectangle with length = 8 meters and width = 3 meters. Test it again, this time using length = 1000 m and width = 254 m."
      ]
    },
    {
      "cell_type": "code",
      "execution_count": null,
      "metadata": {
        "id": "OomAiH2dHCuS"
      },
      "outputs": [],
      "source": []
    },
    {
      "cell_type": "code",
      "execution_count": null,
      "metadata": {
        "id": "51N6nwjhHCuS"
      },
      "outputs": [],
      "source": []
    },
    {
      "cell_type": "code",
      "execution_count": null,
      "metadata": {
        "id": "75h0gsZUHCuS"
      },
      "outputs": [],
      "source": []
    },
    {
      "cell_type": "code",
      "execution_count": null,
      "metadata": {
        "id": "PfIMyVc_HCuS"
      },
      "outputs": [],
      "source": []
    },
    {
      "cell_type": "markdown",
      "metadata": {
        "id": "NZtgN6eIHCuS"
      },
      "source": [
        "***----End Exercise ----***"
      ]
    },
    {
      "cell_type": "markdown",
      "source": [
        "## Final Exercise\n",
        "\n",
        "Here is one last exercise. This one requires putting a few concepts together. I encourage you to practice \"pair programming\" and work with a partner on this one.\n",
        "\n",
        "**----Start Exercise Challenge 1----**\n",
        "\n",
        "One often has to \"clean\" or \"filter\" the data from an experimental device to remove error messages and non valid readings.\n",
        "\n",
        "Write a program that takes a \"raw\" list of temperature readings, validates them, and calculates the mean and standard deviation of the valid data.\n",
        "\n",
        "1.  **Start with Raw Data:** Begin with a predefined list of temperature data in Celsius. The data includes some valid readings but also non-valid readings (temperature below absolute zero or -273.15 C) and readings that are simply an error code (`9999.0`).\n",
        "    ```python\n",
        "    raw_data = [25.2, 25.4, 25.1, 9999.0, 25.0, 26.1, 24.9, 25.3, 9999.0, 23.5, 26.9, 27.3, -358.2, 22.9, 25.6, 26.3]\n",
        "    ```\n",
        "2.  **Create an Analysis Function:** Define a function `analyze_measurements(data_list)` that takes a list of data as input.\n",
        "3.  **Filter the Data:**\n",
        "    * Inside the function, create a new empty list called `valid_data`.\n",
        "    * Use a `for` loop to iterate through the input `data_list`.\n",
        "    * Inside the loop, use an `if` statement to check if the reading is valid (e.g., not equal to the error code and not unphsical). Append valid data points to the `valid_data` list.\n",
        "4.  **Perform Calculations:**\n",
        "    * After filtering, calculate the mean of the `valid_data` list.\n",
        "    * Calculate the standard deviation. This will require another `for` loop to calculate the sum of the squared differences from the mean.\n",
        "5.  **Return and Print Results:** The function should return a tuple or dictionary containing the number of valid points, the mean, and the standard deviation. Call the function with the `raw_data` and print the results in a clear, formatted report.\n"
      ],
      "metadata": {
        "id": "7GpeqizhHbm7"
      }
    },
    {
      "cell_type": "markdown",
      "source": [
        "Standard Deviation:\n",
        "\n",
        "$\\sigma = \\sqrt{\\frac{1}{N-1} \\sum_{i=1}^{N} (x_i - \\mu)^2}$\n",
        "\n",
        "where $N$ is the number of valid points and $\\mu$ is the mean."
      ],
      "metadata": {
        "id": "erLus9GRJsDb"
      }
    },
    {
      "cell_type": "code",
      "source": [
        "raw_data = [25.2, 25.4, 25.1, 9999.0, 25.0, 26.1, 24.9, 25.3, 9999.0, 23.5, 26.9, 27.3, -358.2, 22.9, 25.6, 26.3]"
      ],
      "metadata": {
        "id": "WsgAqwlTJr3O"
      },
      "execution_count": 1,
      "outputs": []
    },
    {
      "cell_type": "code",
      "source": [],
      "metadata": {
        "id": "K6wdH-sjI2sw"
      },
      "execution_count": null,
      "outputs": []
    },
    {
      "cell_type": "markdown",
      "source": [
        "**----End Exercise Challenge 1----**"
      ],
      "metadata": {
        "id": "JXuZZcmoA1fy"
      }
    }
  ],
  "metadata": {
    "kernelspec": {
      "display_name": "Python 3",
      "language": "python",
      "name": "python3"
    },
    "language_info": {
      "codemirror_mode": {
        "name": "ipython",
        "version": 3
      },
      "file_extension": ".py",
      "mimetype": "text/x-python",
      "name": "python",
      "nbconvert_exporter": "python",
      "pygments_lexer": "ipython3",
      "version": "3.8.8"
    },
    "colab": {
      "provenance": [],
      "toc_visible": true
    }
  },
  "nbformat": 4,
  "nbformat_minor": 0
}