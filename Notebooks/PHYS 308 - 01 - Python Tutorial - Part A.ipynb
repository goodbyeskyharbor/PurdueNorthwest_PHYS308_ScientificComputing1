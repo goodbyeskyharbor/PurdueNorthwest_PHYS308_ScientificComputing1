{
  "cells": [
    {
      "cell_type": "markdown",
      "metadata": {
        "id": "RyPx3zc5LsBU"
      },
      "source": [
        "# PHYS 308 - Notebook 01 - Python Tutorial - Part A\n",
        "\n",
        "Interactive learning notebook developed by J. Dolen for PHYS 308 \"Scientific Computing 1\" at Purdue University Northwest\n",
        "\n",
        "Make sure you click on **File -> Save a Copy In Drive** in order to save your version of this notebook in your Google Account."
      ]
    },
    {
      "cell_type": "markdown",
      "metadata": {
        "id": "F3mrKdQBLsBU"
      },
      "source": [
        "## Introduction\n",
        "\n",
        "Python is a programming language which is very commonly used in physics, engineering, and in industry. It is an interpreted high-level language which focusses on code readability. There are thousands of external python packages which extend python's capabilities and make it very useful for calculations, plotting, and many other scientific tasks."
      ]
    },
    {
      "cell_type": "markdown",
      "metadata": {
        "id": "6hIvy9IrLsBU"
      },
      "source": [
        "## Code and comments\n",
        "\n",
        "Anything you write in a Code cell will be interpreted and run when you press \"Shift Enter\"\n",
        "\n",
        "You can also leave comments using the # symbol. Python will not run anything on the same line after the #."
      ]
    },
    {
      "cell_type": "code",
      "execution_count": null,
      "metadata": {
        "id": "Cr-Sy8PDLsBU",
        "outputId": "518810ef-f120-4865-efcf-f548043ae151"
      },
      "outputs": [
        {
          "name": "stdout",
          "output_type": "stream",
          "text": [
            "7\n",
            "Force =  159.0  N\n"
          ]
        }
      ],
      "source": [
        "x=3\n",
        "# This text is a comment\n",
        "y=4 # This text is also a comment. Use comments to document your code when necessary.\n",
        "z=x+y #In this case the code is self explanatory so no comment is needed\n",
        "print(z)\n",
        "\n",
        "\n",
        "m = 53 # kg\n",
        "a = 3.0 # m/s^2\n",
        "force = m*a # Calculate force in Newtons using Newton's laws\n",
        "print (\"Force = \",force,\" N\")"
      ]
    },
    {
      "cell_type": "markdown",
      "metadata": {
        "id": "H5c5-FSMLsBV"
      },
      "source": [
        "### Printing to the screen - First Look\n",
        "\n",
        "In Python print() is a built-in function which displays your specified message to the screen. We can tell print() is a python function because it is a word followed by round parentheses.\n",
        "\n",
        "Note: We can always look up the details and options of Python built-in functions by reading the Python documentation https://docs.python.org/3/library/functions.html#print\n",
        "\n",
        "***Basic usage - Printing Strings***\n",
        "\n",
        "Anything you put inside quotes inside the parentheses of the print function will be displayed to your screen. The text inside the quotes is known as a <font color=red>string</font>"
      ]
    },
    {
      "cell_type": "code",
      "execution_count": null,
      "metadata": {
        "id": "jLSHhSO4LsBV",
        "outputId": "477e085b-72c1-489d-d9eb-f2c8466e05bd"
      },
      "outputs": [
        {
          "name": "stdout",
          "output_type": "stream",
          "text": [
            "Hello world\n"
          ]
        }
      ],
      "source": [
        "print(\"Hello world\") # print one string to the screen"
      ]
    },
    {
      "cell_type": "markdown",
      "metadata": {
        "id": "tMjDEAIBLsBV"
      },
      "source": [
        "<p style=\"background-color: lightblue;\">In the code cell above, try changing the text \"Hello world\" to somethign else. After you modify it press Shift + Enter to run the cell and execute the code.</p>"
      ]
    },
    {
      "cell_type": "markdown",
      "metadata": {
        "id": "ZAj82suQLsBV"
      },
      "source": [
        "If you give print multiple strings it will automatically insert a space between the two strings"
      ]
    },
    {
      "cell_type": "code",
      "execution_count": null,
      "metadata": {
        "id": "_4BmPm51LsBW",
        "outputId": "a60f9d61-fd55-4a54-e386-db543d5682a1"
      },
      "outputs": [
        {
          "name": "stdout",
          "output_type": "stream",
          "text": [
            "First Second\n"
          ]
        }
      ],
      "source": [
        "print(\"First\",\"Second\") # print two strings to the screen separated by a space (this is the default behavior)"
      ]
    },
    {
      "cell_type": "markdown",
      "metadata": {
        "id": "ve_7zP7PLsBW"
      },
      "source": [
        "You can change the behavior of print() by changing the function parameter sep. By default sep = \" \", that is, by default it is a space. We can modify this:"
      ]
    },
    {
      "cell_type": "code",
      "execution_count": null,
      "metadata": {
        "id": "Yg2zYbL-LsBW",
        "outputId": "25f3e0a5-5392-4914-ad7d-df92e1cb5e36"
      },
      "outputs": [
        {
          "name": "stdout",
          "output_type": "stream",
          "text": [
            "Cat<--->Dog<--->Horse\n"
          ]
        }
      ],
      "source": [
        "# print three strings sepbarated by a user defined separator using the function parameter sep (\"keyword argument\")\n",
        "print(\"Cat\",\"Dog\",\"Horse\",sep=\"<--->\")"
      ]
    },
    {
      "cell_type": "markdown",
      "metadata": {
        "id": "B1cmzV8kLsBW"
      },
      "source": [
        "*In the code cell above, try changing the sep parameter to something else. I would suggest trying \":\", \"\\t\", and \"\\n\". Any guesses on what  \"\\t\" and \"\\n\" mean?*"
      ]
    },
    {
      "cell_type": "markdown",
      "source": [
        "\"\\t is an escape sequence for a horizontal tab, and \\n is the escape sequence for a new line."
      ],
      "metadata": {
        "id": "IALFTPxcOcxU"
      }
    },
    {
      "cell_type": "markdown",
      "metadata": {
        "id": "mh9A8g2RLsBW"
      },
      "source": [
        "By default print will automatically create a new line every time you execute it"
      ]
    },
    {
      "cell_type": "code",
      "execution_count": null,
      "metadata": {
        "id": "AAtFA1_ALsBW",
        "outputId": "9f2d46bd-6172-4626-9aff-8fa6635a3629"
      },
      "outputs": [
        {
          "name": "stdout",
          "output_type": "stream",
          "text": [
            "Cat\n",
            "Dog\n"
          ]
        }
      ],
      "source": [
        "# print on two different lines\n",
        "print(\"Cat\")\n",
        "print(\"Dog\")"
      ]
    },
    {
      "cell_type": "markdown",
      "metadata": {
        "id": "E18xU8PLLsBW"
      },
      "source": [
        "You can modify the print function to not create a new line by changing the function parameter end:"
      ]
    },
    {
      "cell_type": "code",
      "execution_count": null,
      "metadata": {
        "id": "3qI-uNxLLsBW",
        "outputId": "e5e7010f-909d-49da-c896-580058ccc46a"
      },
      "outputs": [
        {
          "name": "stdout",
          "output_type": "stream",
          "text": [
            "CatDog\n"
          ]
        }
      ],
      "source": [
        "# print on the same line with different statements\n",
        "print(\"Cat\",end=\"\")\n",
        "print(\"Dog\")"
      ]
    },
    {
      "cell_type": "markdown",
      "metadata": {
        "id": "ZdB29g2gLsBW"
      },
      "source": [
        "The default value for end is \"\\n\" which is the Python \"escape sequence\" for a new line. The backslash \"\\\\\" is called an escape charcter which tells python to not print the \"n\" but instead insert something special. We can see that if we specify end=\"\\n\" we do indeed get a new line:"
      ]
    },
    {
      "cell_type": "code",
      "execution_count": null,
      "metadata": {
        "id": "iKW8FPEHLsBW",
        "outputId": "791152fd-bee0-4d89-dcf4-46ad39ba4643"
      },
      "outputs": [
        {
          "name": "stdout",
          "output_type": "stream",
          "text": [
            "Cat\n",
            "Dog\n"
          ]
        }
      ],
      "source": [
        "# The default value for end is \"\\n\" which is the character for a new line\n",
        "print(\"Cat\",end=\"\\n\")\n",
        "print(\"Dog\")"
      ]
    },
    {
      "cell_type": "markdown",
      "metadata": {
        "id": "rGrrr4c9LsBW"
      },
      "source": [
        "You don't need to specify end if you just want to use the default value of end:"
      ]
    },
    {
      "cell_type": "code",
      "execution_count": null,
      "metadata": {
        "id": "0xs5kOBOLsBW",
        "outputId": "90b9fe67-b7e5-49a0-e0e3-9ec2b458b160"
      },
      "outputs": [
        {
          "name": "stdout",
          "output_type": "stream",
          "text": [
            "Cat\n",
            "Dog\n"
          ]
        }
      ],
      "source": [
        "print(\"Cat\")\n",
        "print(\"Dog\")"
      ]
    },
    {
      "cell_type": "markdown",
      "metadata": {
        "id": "9skGJ80sLsBW"
      },
      "source": [
        "This means that if you print nothing or pring an empty string it will automatically give you a new line:"
      ]
    },
    {
      "cell_type": "code",
      "execution_count": null,
      "metadata": {
        "id": "pa2qElFJLsBW",
        "outputId": "8b6e63c0-488f-4194-adbd-349b231c36a2"
      },
      "outputs": [
        {
          "name": "stdout",
          "output_type": "stream",
          "text": [
            "Cat\n",
            "\n",
            "Dog\n",
            "\n",
            "Bunny\n"
          ]
        }
      ],
      "source": [
        "print(\"Cat\")\n",
        "print()\n",
        "print(\"Dog\")\n",
        "print(\"\")\n",
        "print(\"Bunny\")"
      ]
    },
    {
      "cell_type": "markdown",
      "metadata": {
        "id": "bX_QbZP9LsBW"
      },
      "source": [
        "You can also use escape sqeuence \"\\n\" to force a new line in the middle of a print statement:"
      ]
    },
    {
      "cell_type": "code",
      "execution_count": null,
      "metadata": {
        "id": "heOcxTFdLsBW",
        "outputId": "5b10cfa4-5e73-4ada-d4c8-ab11c8f29003"
      },
      "outputs": [
        {
          "name": "stdout",
          "output_type": "stream",
          "text": [
            "Cat\n",
            "Dog\n"
          ]
        }
      ],
      "source": [
        "# Use \"\\n\" to force a new line in the middle of a print statement:\n",
        "print(\"Cat\\nDog\")"
      ]
    },
    {
      "cell_type": "markdown",
      "metadata": {
        "id": "zjLKjyyWLsBW"
      },
      "source": [
        "You can also try other escape sequences like \"\\t\" for tab and \"\\\\ \\\\\" to actually make a backslash"
      ]
    },
    {
      "cell_type": "code",
      "execution_count": null,
      "metadata": {
        "id": "W4_ZhZJyLsBX",
        "outputId": "0dbbca0c-8bbc-4673-f5a8-75936e25c937"
      },
      "outputs": [
        {
          "name": "stdout",
          "output_type": "stream",
          "text": [
            "Cat\tDog\n"
          ]
        }
      ],
      "source": [
        "# Use \"\\t\" to print a tab\n",
        "print(\"Cat\\tDog\")"
      ]
    },
    {
      "cell_type": "code",
      "execution_count": null,
      "metadata": {
        "id": "fXg6m0YzLsBX",
        "outputId": "6683c2b5-bc9c-4bca-8ad8-743d1a297e3f"
      },
      "outputs": [
        {
          "name": "stdout",
          "output_type": "stream",
          "text": [
            "Cat\\Dog\n"
          ]
        }
      ],
      "source": [
        "# Use \"\\\\\" to print one backslash\n",
        "print(\"Cat\\\\Dog\")"
      ]
    },
    {
      "cell_type": "markdown",
      "metadata": {
        "id": "KKylbW1OLsBX"
      },
      "source": [
        "**Exercise 01-1:**\n",
        "\n",
        "1. Write code in the code cell below using *the* print function and run the code (shift+enter) such that it displays the following:\n",
        "\n",
        "```text\n",
        "Physics is fun\n",
        "\n",
        "        So is writing python code\n",
        "    \n",
        "Physics+Math+Coding\n",
        "\n",
        "        = Fun\n",
        "```\n",
        "\n",
        "Hints: (1) Utilize the tab character (2) Utilize the sep keyword argument to make plus signs between each word (3) think about ways in which you could add an extra line between each printed statement.\n"
      ]
    },
    {
      "cell_type": "code",
      "execution_count": null,
      "metadata": {
        "id": "mXt0-HlTLsBX"
      },
      "outputs": [],
      "source": []
    },
    {
      "cell_type": "markdown",
      "source": [
        "2. In a single code cell, use one `print()` statement to produce the following output:\n",
        "\n",
        "```text\n",
        "Planets:\n",
        "Mercury, Venus, Earth\n",
        "```"
      ],
      "metadata": {
        "id": "vA8TxVS3Qm1w"
      }
    },
    {
      "cell_type": "code",
      "source": [],
      "metadata": {
        "id": "d9CS5LmQQmG5"
      },
      "execution_count": null,
      "outputs": []
    },
    {
      "cell_type": "markdown",
      "metadata": {
        "id": "vqmPG86QLsBX"
      },
      "source": [
        "**----End Exercise----**\n"
      ]
    },
    {
      "cell_type": "markdown",
      "metadata": {
        "id": "DJt1a6EsLsBX"
      },
      "source": [
        "We can use the pyton built-in function type() to check what type of object the print function is"
      ]
    },
    {
      "cell_type": "code",
      "execution_count": null,
      "metadata": {
        "id": "X_-K4HluLsBX",
        "outputId": "cf033b17-14c8-4a47-e94c-e0138920e166"
      },
      "outputs": [
        {
          "data": {
            "text/plain": [
              "builtin_function_or_method"
            ]
          },
          "execution_count": 11,
          "metadata": {},
          "output_type": "execute_result"
        }
      ],
      "source": [
        "type(print)"
      ]
    },
    {
      "cell_type": "markdown",
      "metadata": {
        "id": "p3sXUjPxLsBX"
      },
      "source": [
        "We can also use the built-in function help() to read the documentation on print()"
      ]
    },
    {
      "cell_type": "code",
      "execution_count": null,
      "metadata": {
        "id": "V4xUvTMRLsBX",
        "outputId": "cafea833-f1cd-4cbb-e1ee-60541018c098"
      },
      "outputs": [
        {
          "name": "stdout",
          "output_type": "stream",
          "text": [
            "Help on built-in function print in module builtins:\n",
            "\n",
            "print(*args, sep=' ', end='\\n', file=None, flush=False)\n",
            "    Prints the values to a stream, or to sys.stdout by default.\n",
            "\n",
            "    sep\n",
            "      string inserted between values, default a space.\n",
            "    end\n",
            "      string appended after the last value, default a newline.\n",
            "    file\n",
            "      a file-like object (stream); defaults to the current sys.stdout.\n",
            "    flush\n",
            "      whether to forcibly flush the stream.\n",
            "\n"
          ]
        }
      ],
      "source": [
        "help(print)"
      ]
    },
    {
      "cell_type": "markdown",
      "metadata": {
        "id": "z8L2ZZMOLsBX"
      },
      "source": [
        "One last note about print():\n",
        "\n",
        "The definition of this function changed between python 2 and python 3\n",
        "\n",
        "If you are trying to run code from and old textbook you will have to update the print functions!"
      ]
    },
    {
      "cell_type": "markdown",
      "metadata": {
        "id": "8mGackGgLsBX"
      },
      "source": [
        "### Variable assignment and output\n",
        "\n",
        "Variables are used to hold values"
      ]
    },
    {
      "cell_type": "code",
      "execution_count": null,
      "metadata": {
        "id": "vU_sMuMgLsBX"
      },
      "outputs": [],
      "source": [
        "# create a variable with name x and assign the value 3 to that variable\n",
        "x=3"
      ]
    },
    {
      "cell_type": "code",
      "execution_count": null,
      "metadata": {
        "id": "4iPqY1QaLsBX",
        "outputId": "718a7449-1d27-4e17-8d94-665406cc5e36"
      },
      "outputs": [
        {
          "name": "stdout",
          "output_type": "stream",
          "text": [
            "3\n"
          ]
        }
      ],
      "source": [
        "# print the variable contents to the screen.\n",
        "# note: the print output is the value assigned to the variable and not the name of the variable\n",
        "\n",
        "print (x)"
      ]
    },
    {
      "cell_type": "code",
      "execution_count": null,
      "metadata": {
        "id": "KBttPVn6LsBX"
      },
      "outputs": [],
      "source": [
        "# reassign the variable x\n",
        "x=4"
      ]
    },
    {
      "cell_type": "code",
      "execution_count": null,
      "metadata": {
        "id": "OyW9h0J7LsBg",
        "outputId": "824632ce-4322-4c43-ff84-d5d11d6372c2"
      },
      "outputs": [
        {
          "name": "stdout",
          "output_type": "stream",
          "text": [
            "4\n"
          ]
        }
      ],
      "source": [
        "print(x)"
      ]
    },
    {
      "cell_type": "code",
      "execution_count": null,
      "metadata": {
        "id": "oOi1hE6CLsBg",
        "outputId": "9a0dc497-5bcf-46a7-ced3-5b178645fc3b"
      },
      "outputs": [
        {
          "name": "stdout",
          "output_type": "stream",
          "text": [
            "The value of x is 4 , isn't that cool!\n"
          ]
        }
      ],
      "source": [
        "print(\"The value of x is\", x,\", isn't that cool!\")    # You add some text  before and after the variable"
      ]
    },
    {
      "cell_type": "code",
      "execution_count": null,
      "metadata": {
        "id": "g1Xn7Of1LsBg"
      },
      "outputs": [],
      "source": [
        "g=h=j=2 # Assign multiple variables to the same value"
      ]
    },
    {
      "cell_type": "code",
      "execution_count": null,
      "metadata": {
        "id": "cb8BMLywLsBh",
        "outputId": "3c39c2d2-c830-42e1-a8dc-45a47ea278b2"
      },
      "outputs": [
        {
          "name": "stdout",
          "output_type": "stream",
          "text": [
            "2 2 2\n"
          ]
        }
      ],
      "source": [
        "print(g,h,j)"
      ]
    },
    {
      "cell_type": "code",
      "execution_count": null,
      "metadata": {
        "id": "puHQkCJULsBh",
        "outputId": "2f7dafa3-ca64-47a1-81e0-aa6be5770c43"
      },
      "outputs": [
        {
          "name": "stdout",
          "output_type": "stream",
          "text": [
            "2 2 3\n"
          ]
        }
      ],
      "source": [
        "j=3\n",
        "print(g,h,j)"
      ]
    },
    {
      "cell_type": "code",
      "execution_count": null,
      "metadata": {
        "id": "vagNiGFCLsBh",
        "outputId": "619752f6-29c4-46df-d004-97c30522287d"
      },
      "outputs": [
        {
          "name": "stdout",
          "output_type": "stream",
          "text": [
            "7\n",
            "7\n"
          ]
        }
      ],
      "source": [
        "x = 7\n",
        "y = x\n",
        "print(y)\n",
        "x = 8\n",
        "print(y)"
      ]
    },
    {
      "cell_type": "code",
      "execution_count": null,
      "metadata": {
        "id": "pto2BtX_LsBh"
      },
      "outputs": [],
      "source": [
        "y,z = 5, 3.4   # Assign multiple variables at once (y = 5 and z = 3.4)"
      ]
    },
    {
      "cell_type": "code",
      "execution_count": null,
      "metadata": {
        "id": "HL-Dhb3JLsBh",
        "outputId": "996c023c-0972-400b-f977-15c5998c6922"
      },
      "outputs": [
        {
          "name": "stdout",
          "output_type": "stream",
          "text": [
            "8 5 3.4\n"
          ]
        }
      ],
      "source": [
        "print(x,y,z)  # You can print multiple variables ( they will be separated by a space)"
      ]
    },
    {
      "cell_type": "code",
      "execution_count": null,
      "metadata": {
        "id": "fH_yP4chLsBh",
        "outputId": "9d044441-0ba3-4082-c722-907451981625"
      },
      "outputs": [
        {
          "name": "stdout",
          "output_type": "stream",
          "text": [
            "8; 5; 3.4\n"
          ]
        }
      ],
      "source": [
        "print(x,y,z,sep=\"; \") # Print the variables again making them more readable"
      ]
    },
    {
      "cell_type": "markdown",
      "metadata": {
        "id": "dCQtxY53LsBh"
      },
      "source": [
        "### Variable names\n",
        "\n",
        "Python has rules about what can be used as a variable name.\n",
        "\n",
        "- Letters and underscores are okay.\n",
        "- A variable name cannot start with a number but it may contain a number\n",
        "- Other characters are not okay (dash, backslash, plus symbol etc.)"
      ]
    },
    {
      "cell_type": "code",
      "execution_count": null,
      "metadata": {
        "id": "UQZSDSXULsBh"
      },
      "outputs": [],
      "source": [
        "x = 5  # okay\n",
        "CAPITAL = 34 # okay\n",
        "neutrino_1 = 2.59 #okay\n",
        "_galaxy5 = 3.2 # okay"
      ]
    },
    {
      "cell_type": "code",
      "execution_count": null,
      "metadata": {
        "id": "CnFk7ltNLsBh",
        "outputId": "6d710ba4-2bb3-4f89-8d27-838a8a0061d5"
      },
      "outputs": [
        {
          "ename": "SyntaxError",
          "evalue": "invalid decimal literal (1572090017.py, line 1)",
          "output_type": "error",
          "traceback": [
            "  \u001b[36mCell\u001b[39m\u001b[36m \u001b[39m\u001b[32mIn[26]\u001b[39m\u001b[32m, line 1\u001b[39m\n\u001b[31m    \u001b[39m\u001b[31m25pro = 5.3 # not okay\u001b[39m\n     ^\n\u001b[31mSyntaxError\u001b[39m\u001b[31m:\u001b[39m invalid decimal literal\n"
          ]
        }
      ],
      "source": [
        "25pro = 5.3 # not okay"
      ]
    },
    {
      "cell_type": "code",
      "execution_count": null,
      "metadata": {
        "id": "lnI7p2HLLsBh"
      },
      "outputs": [],
      "source": [
        "detector_minus_5 = 0.3 # okay\n",
        "detector-5 = 0.3 # not okay"
      ]
    },
    {
      "cell_type": "code",
      "execution_count": null,
      "metadata": {
        "id": "3u6ND6SSLsBh"
      },
      "outputs": [],
      "source": [
        "hydrogen_plus_helium = 5 # okay\n",
        "hydrogen+helium = 5 # not okay"
      ]
    },
    {
      "cell_type": "markdown",
      "metadata": {
        "id": "NaNXu1UZLsBh"
      },
      "source": [
        "**----Begin Exercise 01-2----**\n",
        "\n",
        "In the code cell below please do the following:\n",
        "\n",
        "1. Define a variable which stores Planck's constant (typically one uses the symbol h): $6.62 \\times 10^{-34} \\text{m}^2 \\text{kg/s}$\n",
        "    \n",
        "    - Hint: For scientific notation you can use the symbol \"e-34\" to denote $10^{-34}$\n",
        "<br>\n",
        "<br>\n",
        "2. Define a variable which stores the value of $\\pi$: 3.14159265\n",
        "\n",
        "3. Use the previously defined variables to define the reduced Planck's constant (Planck's constant divided by $2\\pi$) for which we often use the name \"h-bar\". Be careful, the common way we write this won't work as a variable in python!\n",
        "\n",
        "4. Print all 3 variables to the screen with text labels"
      ]
    },
    {
      "cell_type": "code",
      "execution_count": null,
      "metadata": {
        "id": "dNG2HL7oLsBh"
      },
      "outputs": [],
      "source": []
    },
    {
      "cell_type": "markdown",
      "metadata": {
        "id": "hBPaunZILsBh"
      },
      "source": [
        "**----End Exercise----**\n"
      ]
    },
    {
      "cell_type": "markdown",
      "metadata": {
        "collapsed": true,
        "jupyter": {
          "outputs_hidden": true
        },
        "id": "bbjfV-PaLsBh"
      },
      "source": [
        "### Variable types\n",
        "\n",
        "Every value in Python has a type. When you assign a value to a variable, the variable holds a reference to that value and its type. Common basic types include int, float, string or complex variable.\n",
        "\n",
        "* int = \"Integer\"\n",
        "    * Variable type used to store integer numbers (no decimals)\n",
        "* float = \"Floating point number\"\n",
        "    * Variable type used to store decimal numbers\n",
        "* str = \"String\"\n",
        "    * Variable type used to store text and manipulate text\n",
        "* complex = \"Complex number\"\n",
        "    * Variable type used to store complex numbers (both the real and imaginary part)\n",
        "\n",
        "\n",
        "Python is \"dynamically typed\". This means that you typically do not have to define the type (it figures it out for you). It also means that one variable name can be first defined as one type and later changed to contain a different type."
      ]
    },
    {
      "cell_type": "code",
      "execution_count": null,
      "metadata": {
        "id": "T5BJJhyMLsBi"
      },
      "outputs": [],
      "source": [
        "x = 5  #Python determines that this is an integer\n",
        "type(x)"
      ]
    },
    {
      "cell_type": "code",
      "execution_count": null,
      "metadata": {
        "id": "Xked5FCHLsBi"
      },
      "outputs": [],
      "source": [
        "y = 5.5 #Python determines that this is a floating point number\n",
        "type(y)"
      ]
    },
    {
      "cell_type": "code",
      "execution_count": null,
      "metadata": {
        "id": "aD554T2NLsBi"
      },
      "outputs": [],
      "source": [
        "z=\"hello\" #Python determines that this is a string\n",
        "type(z)"
      ]
    },
    {
      "cell_type": "code",
      "execution_count": null,
      "metadata": {
        "id": "3T2gCP65LsBi"
      },
      "outputs": [],
      "source": [
        "m = 8 + 2j #Python determines that this is a complex number (Python uses j instead of i for the imaginary component)\n",
        "type(m)"
      ]
    },
    {
      "cell_type": "code",
      "execution_count": null,
      "metadata": {
        "id": "eVllESUNLsBi"
      },
      "outputs": [],
      "source": [
        "k = complex(2,7) # Python also includes a funciton which can be uses to define complex numbers. Syntax: complex(real, imaginary)\n",
        "type(k)\n",
        "print(k)"
      ]
    },
    {
      "cell_type": "code",
      "execution_count": null,
      "metadata": {
        "id": "hP_GlcgzLsBi"
      },
      "outputs": [],
      "source": [
        "# You can print the real and imaginary part of complex number using the attributes \"real\" and \"imag\"\n",
        "print (\"The real part of complex number is : \",end=\"\")\n",
        "print (k.real)\n",
        "\n",
        "print (\"The imaginary part of complex number is : \",end=\"\")\n",
        "print (k.imag)"
      ]
    },
    {
      "cell_type": "code",
      "execution_count": null,
      "metadata": {
        "id": "3GIOc-f6LsBi"
      },
      "outputs": [],
      "source": [
        "print(x,y,z,k,sep=\", \") #you can print variables of multiple types at once"
      ]
    },
    {
      "cell_type": "markdown",
      "metadata": {
        "id": "k-cA4KP9LsBi"
      },
      "source": [
        "**----Begin Exercise 01-3----**\n",
        "\n",
        "Four variables are defined below. In the code cell below each variable definition use the type() function to determine the type of previosly defined variable."
      ]
    },
    {
      "cell_type": "code",
      "execution_count": null,
      "metadata": {
        "id": "D3-Kb-egLsBi"
      },
      "outputs": [],
      "source": [
        "# Determine the type of a\n",
        "a = \"27\""
      ]
    },
    {
      "cell_type": "code",
      "execution_count": null,
      "metadata": {
        "id": "hv9JgrZtLsBi"
      },
      "outputs": [],
      "source": []
    },
    {
      "cell_type": "code",
      "execution_count": null,
      "metadata": {
        "id": "qyQpTOt1LsBi"
      },
      "outputs": [],
      "source": [
        "# Determine the type of b\n",
        "b = -59.0"
      ]
    },
    {
      "cell_type": "code",
      "execution_count": null,
      "metadata": {
        "id": "52MmntflLsBi"
      },
      "outputs": [],
      "source": []
    },
    {
      "cell_type": "code",
      "execution_count": null,
      "metadata": {
        "id": "tQfHHoSqLsBi"
      },
      "outputs": [],
      "source": [
        "# Determine the type of c\n",
        "c = -59"
      ]
    },
    {
      "cell_type": "code",
      "execution_count": null,
      "metadata": {
        "id": "5kCkf_22LsBi"
      },
      "outputs": [],
      "source": []
    },
    {
      "cell_type": "code",
      "execution_count": null,
      "metadata": {
        "id": "mPXGB7RiLsBi"
      },
      "outputs": [],
      "source": [
        "# Determine the type of d after its final assignment\n",
        "d = 5.3e13\n",
        "d = \"whatisthis\"\n",
        "d = 32"
      ]
    },
    {
      "cell_type": "code",
      "execution_count": null,
      "metadata": {
        "id": "FihSITFiLsBi"
      },
      "outputs": [],
      "source": []
    },
    {
      "cell_type": "code",
      "execution_count": null,
      "metadata": {
        "id": "Q-w_A3nxLsBi"
      },
      "outputs": [],
      "source": [
        "# Determine the type of g\n",
        "example_float = 15.5\n",
        "\n",
        "example_int = 5\n",
        "g = example_float + example_int"
      ]
    },
    {
      "cell_type": "code",
      "execution_count": null,
      "metadata": {
        "id": "6ybSAHHrLsBi"
      },
      "outputs": [],
      "source": []
    },
    {
      "cell_type": "markdown",
      "metadata": {
        "id": "ml387qEILsBi"
      },
      "source": [
        "In the last example why was g assigned to be a float instead of an int?"
      ]
    },
    {
      "cell_type": "markdown",
      "metadata": {
        "collapsed": true,
        "jupyter": {
          "outputs_hidden": true
        },
        "id": "pIgfuevDLsBi"
      },
      "source": [
        "**----- End Exercise-----**"
      ]
    },
    {
      "cell_type": "markdown",
      "metadata": {
        "id": "Ao7syvZvLsBi"
      },
      "source": [
        "<p style=\"background-color: magenta;\"> <font color=white>----End Exercise----</font>   </p>\n"
      ]
    },
    {
      "cell_type": "markdown",
      "metadata": {
        "id": "T3MY3yvCLsBi"
      },
      "source": [
        "Python performs \"implicit conversion\" and automatically converts the int to a float when adding it to a float. If it were to instead convert the float to an int you would lose some information."
      ]
    },
    {
      "cell_type": "code",
      "execution_count": null,
      "metadata": {
        "id": "UFdvVTqMLsBi"
      },
      "outputs": [],
      "source": [
        "# You can add together an int and a float. Python automatically makes the result a float.\n",
        "print(x+y)\n",
        "type(x+y)"
      ]
    },
    {
      "cell_type": "code",
      "execution_count": null,
      "metadata": {
        "id": "C-__XUYlLsBi"
      },
      "outputs": [],
      "source": [
        "# You can add together an int and a complex type. Python automatically makes the result a complex type.\n",
        "print(x+k)"
      ]
    },
    {
      "cell_type": "code",
      "execution_count": null,
      "metadata": {
        "id": "mGHEP0FGLsBi"
      },
      "outputs": [],
      "source": [
        "# You can add together two complex numbers. Python properly adds the real and imaginary parts seperately.\n",
        "print(k)\n",
        "print(m)\n",
        "print(k+m)"
      ]
    },
    {
      "cell_type": "markdown",
      "metadata": {
        "id": "yT5Mx5oULsBj"
      },
      "source": [
        "### Converting between types\n",
        "\n",
        "Python has built-in functions which convert a variable from one type to another:\n"
      ]
    },
    {
      "cell_type": "code",
      "execution_count": null,
      "metadata": {
        "id": "_qoQzoWULsBj"
      },
      "outputs": [],
      "source": [
        "x = 5\n",
        "print(\"type(x) = \",type(x))\n",
        "print(\"x = \",x)\n",
        "\n",
        "y = float(x) # float() function converts a variable to be of float type\n",
        "print(\"type(y) = \",type(y))\n",
        "print(\"y = \",y)\n",
        "\n",
        "z = str(x) # str() function converts a variable to be of string type\n",
        "print(\"type(z) = \",type(z))\n",
        "print(\"z = \",z)\n",
        "\n",
        "k = int(y) # int() function converts a variable to be of int type (note information loss float->int)\n",
        "print(\"type(k) = \",type(k))\n",
        "print(\"k = \",k)\n",
        "\n",
        "j = int(z)\n",
        "print(\"type(k) = \",type(k))\n",
        "print(\"k = \",k)\n",
        "\n",
        "m = complex(x) # complex() function can also be used to convert a int or float or string to a complex type\n",
        "print(\"type(m) = \",type(m))\n",
        "print(\"m = \",m)\n",
        "\n",
        "\n",
        "n = complex(\"6+2j\") # complex() function can also be used to convert a int or float or string to a complex type\n",
        "print(\"type(n) = \",type(n))\n",
        "print(\"n = \",n)"
      ]
    },
    {
      "cell_type": "markdown",
      "metadata": {
        "id": "6UZAxsq_LsBj"
      },
      "source": [
        "**----Begin Exercise----**\n"
      ]
    },
    {
      "cell_type": "code",
      "execution_count": null,
      "metadata": {
        "id": "K8I1D74nLsBj"
      },
      "outputs": [],
      "source": [
        "#convert the following variables to integers\n",
        "#  and print out the converted value\n",
        "#  and the new type\n",
        "b_float = -59.3\n",
        "c_float = 23.5\n",
        "d_float = 100.99"
      ]
    },
    {
      "cell_type": "code",
      "execution_count": null,
      "metadata": {
        "id": "wJ-XazTsLsBj"
      },
      "outputs": [],
      "source": []
    },
    {
      "cell_type": "code",
      "execution_count": null,
      "metadata": {
        "id": "8co59hR7LsBj"
      },
      "outputs": [],
      "source": [
        "#convert the following variables to strings\n",
        "#  and define e_str and f_str to hold these values\n",
        "#  and print out the converted value\n",
        "#  and the new type\n",
        "e_int = 94\n",
        "f_float = -3.1"
      ]
    },
    {
      "cell_type": "code",
      "execution_count": null,
      "metadata": {
        "id": "y6E8-ZU5LsBj"
      },
      "outputs": [],
      "source": []
    },
    {
      "cell_type": "code",
      "execution_count": null,
      "metadata": {
        "id": "LtYkB4ybLsBj"
      },
      "outputs": [],
      "source": [
        "# See what happens when you try to add e_str and f_str. Add them together then print the result to the screen."
      ]
    },
    {
      "cell_type": "code",
      "execution_count": null,
      "metadata": {
        "id": "iUsTYaB3LsBj"
      },
      "outputs": [],
      "source": []
    },
    {
      "cell_type": "code",
      "execution_count": null,
      "metadata": {
        "id": "TBZ3vHbTLsBj"
      },
      "outputs": [],
      "source": [
        "#convert the following variables to floats (note if either causes an error message)\n",
        "h_int = 394\n",
        "k_str = \"hello\""
      ]
    },
    {
      "cell_type": "code",
      "execution_count": null,
      "metadata": {
        "id": "DsGeCvf_LsBj"
      },
      "outputs": [],
      "source": []
    },
    {
      "cell_type": "markdown",
      "source": [
        "**----End Exercise**----**"
      ],
      "metadata": {
        "id": "EY_5hMkNQCz_"
      }
    },
    {
      "cell_type": "markdown",
      "metadata": {
        "id": "FcVmExj6LsBj"
      },
      "source": [
        "### Requesting input\n",
        "\n",
        "You can use the built-in function input() to request input from"
      ]
    },
    {
      "cell_type": "code",
      "execution_count": null,
      "metadata": {
        "id": "ZBNCAp91LsBj"
      },
      "outputs": [],
      "source": [
        "x=input(\"Please enter the value of x: \")"
      ]
    },
    {
      "cell_type": "code",
      "execution_count": null,
      "metadata": {
        "id": "XGiP_hF5LsBj"
      },
      "outputs": [],
      "source": [
        "print(x)"
      ]
    },
    {
      "cell_type": "code",
      "execution_count": null,
      "metadata": {
        "id": "rDy_pDPnLsBj"
      },
      "outputs": [],
      "source": [
        "type(x)    # what type is this?"
      ]
    },
    {
      "cell_type": "markdown",
      "metadata": {
        "id": "x7BY3WPuLsBj"
      },
      "source": [
        "An input variable is always a string. It is easy to convert to a float:"
      ]
    },
    {
      "cell_type": "code",
      "execution_count": null,
      "metadata": {
        "id": "kr1nPswDLsBj"
      },
      "outputs": [],
      "source": [
        "y=float(x)"
      ]
    },
    {
      "cell_type": "code",
      "execution_count": null,
      "metadata": {
        "id": "an7qC-UoLsBj"
      },
      "outputs": [],
      "source": [
        "print(y)"
      ]
    },
    {
      "cell_type": "code",
      "execution_count": null,
      "metadata": {
        "id": "nVDYF9sjLsBj"
      },
      "outputs": [],
      "source": [
        "type(y)"
      ]
    },
    {
      "cell_type": "markdown",
      "metadata": {
        "id": "sDX_NL26LsBj"
      },
      "source": [
        "***----Begin Exercise----***"
      ]
    },
    {
      "cell_type": "markdown",
      "metadata": {
        "collapsed": true,
        "jupyter": {
          "outputs_hidden": true
        },
        "id": "T-eQE2J9LsBj"
      },
      "source": [
        "Do the following in one line:\n",
        "- define a variable\n",
        "- request the user to input a number\n",
        "- convert it to a float"
      ]
    },
    {
      "cell_type": "code",
      "execution_count": null,
      "metadata": {
        "collapsed": true,
        "jupyter": {
          "outputs_hidden": true
        },
        "id": "shXgRgJULsBj"
      },
      "outputs": [],
      "source": []
    },
    {
      "cell_type": "markdown",
      "metadata": {
        "collapsed": true,
        "jupyter": {
          "outputs_hidden": true
        },
        "id": "w_qjSN7vLsBj"
      },
      "source": [
        "***----End Exercise----***\n"
      ]
    },
    {
      "cell_type": "markdown",
      "metadata": {
        "id": "scUvbqqXLsBj"
      },
      "source": [
        "Here is an example solution (first with two lines, then with one):"
      ]
    },
    {
      "cell_type": "code",
      "execution_count": null,
      "metadata": {
        "id": "7ywcLhFvLsBj"
      },
      "outputs": [],
      "source": [
        "x=float(input(\"Enter the value of x: \"))"
      ]
    },
    {
      "cell_type": "code",
      "execution_count": null,
      "metadata": {
        "id": "PID8NXWMLsBk"
      },
      "outputs": [],
      "source": [
        "print(\"The value of x is\", x)"
      ]
    },
    {
      "cell_type": "code",
      "execution_count": null,
      "metadata": {
        "id": "HY9U9fppLsBk"
      },
      "outputs": [],
      "source": [
        "x=float(input(\"Enter the value of x: \"))  # you will get an error if you feed in a string"
      ]
    },
    {
      "cell_type": "markdown",
      "metadata": {
        "id": "eknKz3eCLsBk"
      },
      "source": [
        "### Arithmetic\n",
        "\n",
        "You can use Python as a calculator!"
      ]
    },
    {
      "cell_type": "code",
      "execution_count": null,
      "metadata": {
        "id": "VNMlEbSXLsBk"
      },
      "outputs": [],
      "source": [
        "x=10 # Assign the variable x to store the int 10"
      ]
    },
    {
      "cell_type": "code",
      "execution_count": null,
      "metadata": {
        "id": "asWm3EyoLsBk"
      },
      "outputs": [],
      "source": [
        "y=2.3822  # Assign the variable y to store a float"
      ]
    },
    {
      "cell_type": "code",
      "execution_count": null,
      "metadata": {
        "id": "yESu58wBLsBk"
      },
      "outputs": [],
      "source": [
        "x+y # addition"
      ]
    },
    {
      "cell_type": "code",
      "execution_count": null,
      "metadata": {
        "id": "Pq1kncdiLsBk"
      },
      "outputs": [],
      "source": [
        "x-y # subtraction"
      ]
    },
    {
      "cell_type": "code",
      "execution_count": null,
      "metadata": {
        "id": "gyVe2ufILsBk"
      },
      "outputs": [],
      "source": [
        "x*y # multiplication"
      ]
    },
    {
      "cell_type": "code",
      "execution_count": null,
      "metadata": {
        "id": "dcZl1346LsBk"
      },
      "outputs": [],
      "source": [
        "x/y # division"
      ]
    },
    {
      "cell_type": "code",
      "execution_count": null,
      "metadata": {
        "id": "JGEskb8tLsBk"
      },
      "outputs": [],
      "source": [
        "x**y  # raising x to the power of y"
      ]
    },
    {
      "cell_type": "code",
      "execution_count": null,
      "metadata": {
        "id": "6Ru87fgLLsBk"
      },
      "outputs": [],
      "source": [
        "x//y  # integer division aka floor division (rounds the result down to the nearest integer)"
      ]
    },
    {
      "cell_type": "code",
      "execution_count": null,
      "metadata": {
        "id": "-Bq7csAILsBk"
      },
      "outputs": [],
      "source": [
        "14//3"
      ]
    },
    {
      "cell_type": "code",
      "execution_count": null,
      "metadata": {
        "id": "cKBdz0vNLsBk"
      },
      "outputs": [],
      "source": [
        "-14//3"
      ]
    },
    {
      "cell_type": "code",
      "execution_count": null,
      "metadata": {
        "id": "MrtALlVYLsBk"
      },
      "outputs": [],
      "source": [
        "x%y  # modulo (gives the remainder after x is divided by y)"
      ]
    },
    {
      "cell_type": "code",
      "execution_count": null,
      "metadata": {
        "id": "6bybg1T_LsBk"
      },
      "outputs": [],
      "source": [
        "14%3  # 14/3 = 4 remainder 2"
      ]
    },
    {
      "cell_type": "markdown",
      "metadata": {
        "id": "TrujkouCLsBk"
      },
      "source": [
        "Why is modulo useful? You can use it to find if one number is divisible by a number or if a number is even or odd (by taking the modulo with 2)"
      ]
    },
    {
      "cell_type": "markdown",
      "metadata": {
        "id": "Znps5VdULsBk"
      },
      "source": [
        "***----Begin Exercise----***\n",
        "\n"
      ]
    },
    {
      "cell_type": "markdown",
      "source": [
        "1. Write code that asks a user for the mass (in kg) and velocity (in m/s) of an object. Then, calculate and print its kinetic energy using the formula $KE=\n",
        "\\frac{1}{2}mv^2$. The output should be a nicely formatted sentence."
      ],
      "metadata": {
        "id": "FxzDWuo0SrQ0"
      }
    },
    {
      "cell_type": "code",
      "source": [],
      "metadata": {
        "id": "FEY12du6SyTP"
      },
      "execution_count": null,
      "outputs": []
    },
    {
      "cell_type": "markdown",
      "source": [
        "2. Test if the following numbers are even or odd using the modulo operator\n",
        "\n",
        "4045\n",
        "\n",
        "-44\n",
        "\n",
        "Hint: An even number modulo 2 will have 0 remainder"
      ],
      "metadata": {
        "id": "VScpvC7fS1UY"
      }
    },
    {
      "cell_type": "code",
      "execution_count": null,
      "metadata": {
        "id": "EjaCA0utLsBl"
      },
      "outputs": [],
      "source": []
    },
    {
      "cell_type": "markdown",
      "metadata": {
        "id": "fn-_BisCLsBl"
      },
      "source": [
        "**----End Exercise----**\n"
      ]
    },
    {
      "cell_type": "markdown",
      "source": [
        "<br>\n",
        "<br>\n",
        "<br>\n",
        "<br>\n",
        "<br>\n",
        "<br>\n",
        "<br>\n",
        "<br>\n",
        "<br>\n"
      ],
      "metadata": {
        "id": "qjqpJJYbSLBi"
      }
    },
    {
      "cell_type": "markdown",
      "metadata": {
        "id": "f96_WxwJLsBl"
      },
      "source": [
        "\n",
        "\n",
        "\n",
        "Quick example: The modulo operator can be very useful for sampling some fraction of numbers"
      ]
    },
    {
      "cell_type": "code",
      "execution_count": null,
      "metadata": {
        "id": "531hbbUCLsBl"
      },
      "outputs": [],
      "source": [
        "4%2 # 4 is even"
      ]
    },
    {
      "cell_type": "code",
      "execution_count": null,
      "metadata": {
        "id": "-JBzYH6CLsBl"
      },
      "outputs": [],
      "source": [
        "5%2 # 5 is odd"
      ]
    },
    {
      "cell_type": "code",
      "execution_count": null,
      "metadata": {
        "id": "jnBtWE6MLsBl"
      },
      "outputs": [],
      "source": [
        "for x in range(0, 2000):    # We will get to for statements and if statements later\n",
        "    if x%100==0:\n",
        "        print(x)"
      ]
    },
    {
      "cell_type": "markdown",
      "metadata": {
        "id": "1yLCZhoALsBl"
      },
      "source": [
        "#### Order of operations"
      ]
    },
    {
      "cell_type": "markdown",
      "metadata": {
        "id": "1hmOp0tfLsBl"
      },
      "source": [
        "Python uses the standard order of operations\n",
        "PEMDAS\n",
        "(Parentheses\n",
        "Exponents\n",
        "Multiplication and Division\n",
        "Addition and Subtraction)"
      ]
    },
    {
      "cell_type": "code",
      "execution_count": null,
      "metadata": {
        "collapsed": true,
        "jupyter": {
          "outputs_hidden": true
        },
        "id": "E8fvb0X0LsBl"
      },
      "outputs": [],
      "source": []
    },
    {
      "cell_type": "markdown",
      "metadata": {
        "collapsed": true,
        "jupyter": {
          "outputs_hidden": true
        },
        "id": "EB_5rMQgLsBl"
      },
      "source": [
        "**----Begin Exercise----**\n",
        "\n",
        "calculate and print average velocity using the formula $v_{\\text{avg}}=\\frac{x_2-x_1}{t_2-t_1}$\n"
      ]
    },
    {
      "cell_type": "code",
      "execution_count": null,
      "metadata": {
        "id": "IeNNXKf1LsBl"
      },
      "outputs": [],
      "source": [
        "x1 = 1.5 # m\n",
        "x2 = 24.4 # m\n",
        "t1 = 13.3 # s\n",
        "t2 = 19.1 # s\n",
        "\n"
      ]
    },
    {
      "cell_type": "markdown",
      "metadata": {
        "id": "LC4hTJ4gLsBl"
      },
      "source": [
        "Calculate and print the following formula $k = g^{\\frac{h}{j}}$"
      ]
    },
    {
      "cell_type": "code",
      "execution_count": null,
      "metadata": {
        "id": "26lXD_biLsBl"
      },
      "outputs": [],
      "source": [
        "g = 3.3\n",
        "h = 12.4\n",
        "j = 4.2\n",
        "\n",
        "\n"
      ]
    },
    {
      "cell_type": "markdown",
      "metadata": {
        "id": "7rRea6pELsBl"
      },
      "source": [
        "**----End Exercise----**\n"
      ]
    },
    {
      "cell_type": "markdown",
      "metadata": {
        "id": "kvoexh8MLsBl"
      },
      "source": [
        "#### Arithmetic and type"
      ]
    },
    {
      "cell_type": "code",
      "execution_count": null,
      "metadata": {
        "id": "bBdHqlgdLsBl"
      },
      "outputs": [],
      "source": [
        "x,y = 1,2"
      ]
    },
    {
      "cell_type": "code",
      "execution_count": null,
      "metadata": {
        "id": "ShAs55SFLsBl"
      },
      "outputs": [],
      "source": [
        "type(x+y)"
      ]
    },
    {
      "cell_type": "code",
      "execution_count": null,
      "metadata": {
        "id": "uuVnBou6LsBl"
      },
      "outputs": [],
      "source": [
        "x,y = 1,2.5"
      ]
    },
    {
      "cell_type": "code",
      "execution_count": null,
      "metadata": {
        "id": "1jWITayyLsBl"
      },
      "outputs": [],
      "source": [
        "type(x+y)"
      ]
    },
    {
      "cell_type": "code",
      "execution_count": null,
      "metadata": {
        "id": "Lkei6r8dLsBl"
      },
      "outputs": [],
      "source": [
        "print(x+y)"
      ]
    },
    {
      "cell_type": "code",
      "execution_count": null,
      "metadata": {
        "id": "PghA8MMKLsBl"
      },
      "outputs": [],
      "source": [
        "x,y = 1.5,2.5"
      ]
    },
    {
      "cell_type": "code",
      "execution_count": null,
      "metadata": {
        "id": "gJPUj2NwLsBl"
      },
      "outputs": [],
      "source": [
        "type(x+y)"
      ]
    },
    {
      "cell_type": "markdown",
      "metadata": {
        "id": "NDxiN_XDLsBl"
      },
      "source": [
        "Division never gives an int"
      ]
    },
    {
      "cell_type": "code",
      "execution_count": null,
      "metadata": {
        "id": "1SklQKkCLsBl"
      },
      "outputs": [],
      "source": [
        "x,y = 4,2"
      ]
    },
    {
      "cell_type": "code",
      "execution_count": null,
      "metadata": {
        "id": "ZUbuxfj8LsBl"
      },
      "outputs": [],
      "source": [
        "type(x/y)"
      ]
    },
    {
      "cell_type": "code",
      "execution_count": null,
      "metadata": {
        "id": "Fyf7rOphLsBm"
      },
      "outputs": [],
      "source": [
        "x,y = 5,2"
      ]
    },
    {
      "cell_type": "code",
      "execution_count": null,
      "metadata": {
        "id": "fkDXfDkaLsBm"
      },
      "outputs": [],
      "source": [
        "type(x/y)"
      ]
    },
    {
      "cell_type": "code",
      "execution_count": null,
      "metadata": {
        "id": "ndQBAELNLsBm"
      },
      "outputs": [],
      "source": [
        "print(x/y)"
      ]
    },
    {
      "cell_type": "markdown",
      "metadata": {
        "id": "mkXmYDZALsBm"
      },
      "source": [
        "#### Some notes on precision"
      ]
    },
    {
      "cell_type": "code",
      "execution_count": null,
      "metadata": {
        "id": "EvCC8YvALsBm"
      },
      "outputs": [],
      "source": [
        "(1/50.0)*50.0"
      ]
    },
    {
      "cell_type": "code",
      "execution_count": null,
      "metadata": {
        "id": "Zd7NWGAuLsBm"
      },
      "outputs": [],
      "source": [
        "(1/51.0)*51.0"
      ]
    },
    {
      "cell_type": "code",
      "execution_count": null,
      "metadata": {
        "id": "JJ3C8-ywLsBm"
      },
      "outputs": [],
      "source": [
        "(1/59.3)*59.3"
      ]
    },
    {
      "cell_type": "code",
      "execution_count": null,
      "metadata": {
        "id": "_GVq9qhiLsBm"
      },
      "outputs": [],
      "source": [
        "(1/49.0)*49.0"
      ]
    },
    {
      "cell_type": "markdown",
      "metadata": {
        "id": "6BrNa2guLsBm"
      },
      "source": [
        "Why aren't we getting exactly 1? Computers store numbers in binary (base-2), and some decimal fractions cannot be represented perfectly. This can lead to very small rounding errors for floating-point numbers. We will learn more about this in a future notebook!"
      ]
    },
    {
      "cell_type": "markdown",
      "metadata": {
        "id": "_db4lH5yLsBm"
      },
      "source": [
        "#### Combine mathematical operations"
      ]
    },
    {
      "cell_type": "code",
      "execution_count": null,
      "metadata": {
        "id": "tJ5zsrEuLsBm"
      },
      "outputs": [],
      "source": [
        "x = 6\n",
        "y = 2\n",
        "\n",
        "x+2*y"
      ]
    },
    {
      "cell_type": "code",
      "execution_count": null,
      "metadata": {
        "id": "VJoXGciULsBm"
      },
      "outputs": [],
      "source": [
        "x-y/2"
      ]
    },
    {
      "cell_type": "code",
      "execution_count": null,
      "metadata": {
        "id": "HLyVv_WULsBm"
      },
      "outputs": [],
      "source": [
        "3*x**2"
      ]
    },
    {
      "cell_type": "code",
      "execution_count": null,
      "metadata": {
        "id": "l_d_cTAMLsBm"
      },
      "outputs": [],
      "source": [
        "x/2*y  #  x*y / 2"
      ]
    },
    {
      "cell_type": "code",
      "execution_count": null,
      "metadata": {
        "id": "vSjqNsgZLsBm"
      },
      "outputs": [],
      "source": [
        "2*(x+y)"
      ]
    },
    {
      "cell_type": "markdown",
      "metadata": {
        "id": "0f9lbnUuLsBm"
      },
      "source": [
        "python cannot rearrange an equation"
      ]
    },
    {
      "cell_type": "code",
      "execution_count": null,
      "metadata": {
        "id": "lpKQ4VJhLsBm"
      },
      "outputs": [],
      "source": [
        "2*x=y"
      ]
    },
    {
      "cell_type": "code",
      "execution_count": null,
      "metadata": {
        "id": "5UBWEJ0_LsBm"
      },
      "outputs": [],
      "source": [
        "x = 2*y # this is an assignment not an equation"
      ]
    },
    {
      "cell_type": "code",
      "execution_count": null,
      "metadata": {
        "id": "7clfP3okLsBm"
      },
      "outputs": [],
      "source": [
        "print(x)"
      ]
    },
    {
      "cell_type": "code",
      "execution_count": null,
      "metadata": {
        "id": "vdBAe8upLsBm"
      },
      "outputs": [],
      "source": [
        "# The following statement doesn't make sense as an equation but it does make sense in python as an assignment\n",
        "x = x + 1   # This statement takes the current value assigned to x (4), adds 1 to it, then reassigns x to be equal to the sum.\n"
      ]
    },
    {
      "cell_type": "code",
      "execution_count": null,
      "metadata": {
        "id": "Ntg3jzo3LsBm"
      },
      "outputs": [],
      "source": [
        "print(x)"
      ]
    },
    {
      "cell_type": "code",
      "execution_count": null,
      "metadata": {
        "id": "OjNMp3pQLsBm"
      },
      "outputs": [],
      "source": [
        "x = 0\n",
        "print(x)\n",
        "x = x**2 - 2    # this is not a quadratic equation x = x^2 -2 , it is an assignment\n",
        "print(x)"
      ]
    },
    {
      "cell_type": "markdown",
      "metadata": {
        "id": "WCfTOOsmLsBm"
      },
      "source": [
        "#### Variable modifiers"
      ]
    },
    {
      "cell_type": "code",
      "execution_count": null,
      "metadata": {
        "id": "O159czq6LsBm"
      },
      "outputs": [],
      "source": [
        "x=4\n",
        "print(x)\n",
        "x+=1         # this is the same assigning x = x + 1\n",
        "print(x)"
      ]
    },
    {
      "cell_type": "code",
      "execution_count": null,
      "metadata": {
        "id": "nU_7U2l7LsBm"
      },
      "outputs": [],
      "source": [
        "x=4\n",
        "print(x)\n",
        "x-=1         # this is the same assigning x = x - 1\n",
        "print(x)"
      ]
    },
    {
      "cell_type": "code",
      "execution_count": null,
      "metadata": {
        "id": "QwwpdWQuLsBm"
      },
      "outputs": [],
      "source": [
        "x=4\n",
        "print(x)\n",
        "\n",
        "x*=2.5      # this is the same assigning x = x * 2.5\n",
        "print(x)"
      ]
    },
    {
      "cell_type": "code",
      "execution_count": null,
      "metadata": {
        "id": "jPTgar3-LsBn"
      },
      "outputs": [],
      "source": [
        "x=4\n",
        "print(x)\n",
        "x/=2        # this is the same assigning x = x / 2\n",
        "print(x)"
      ]
    },
    {
      "cell_type": "markdown",
      "metadata": {
        "id": "1wp8PEi_LsBn"
      },
      "source": [
        "#### Multiple variable assignment"
      ]
    },
    {
      "cell_type": "code",
      "execution_count": null,
      "metadata": {
        "id": "goFjOv3YLsBn"
      },
      "outputs": [],
      "source": [
        "x,y = 1, 2.5\n",
        "print(x,y)"
      ]
    },
    {
      "cell_type": "code",
      "execution_count": null,
      "metadata": {
        "id": "b3V93El4LsBn"
      },
      "outputs": [],
      "source": [
        "z=4\n",
        "x,y = 2*z+1, (x+y)\n",
        "print(x,y)"
      ]
    },
    {
      "cell_type": "code",
      "execution_count": null,
      "metadata": {
        "id": "466ckQr3LsBn"
      },
      "outputs": [],
      "source": [
        "x,y = 3,4\n",
        "print(x,y)\n",
        "\n",
        "x,y = y,x   # swap variables ( more challanging in other languages)\n",
        "print(x,y)"
      ]
    },
    {
      "cell_type": "markdown",
      "metadata": {
        "id": "p-MeskXzLsBn"
      },
      "source": [
        "### Example Problem from Mark Newman \"Computational Physics\" Textbook\n",
        "\n",
        "#### Example 2.1"
      ]
    },
    {
      "cell_type": "markdown",
      "metadata": {
        "id": "I0HuIQeALsBn"
      },
      "source": [
        "Ball dropped from a tower. How far does it drop in a given ammount of time?"
      ]
    },
    {
      "cell_type": "code",
      "execution_count": null,
      "metadata": {
        "id": "qHdhLIndLsBn"
      },
      "outputs": [],
      "source": [
        "h=float(input(\"Enter the height of the tower: \"))\n",
        "t=float(input(\"Enter the time interval: \"))\n",
        "s= (1/2)*9.8*t**2    # 1/2 g t^2\n",
        "print(\"The ball has fallen\",s,\"meters\")\n",
        "print(\"The height of the ball is\",h-s,\"meters\")"
      ]
    },
    {
      "cell_type": "markdown",
      "metadata": {
        "id": "TPfp6y4pLsBn"
      },
      "source": [
        "Same code but using a variable to store the acceleration due to gravity. This makes the code easier to read and you only need to define it once and you can use it many times."
      ]
    },
    {
      "cell_type": "code",
      "execution_count": null,
      "metadata": {
        "id": "xJudkseOLsBn"
      },
      "outputs": [],
      "source": [
        "h=float(input(\"Enter the height of the tower in meters: \"))\n",
        "t=float(input(\"Enter the time interval in seconds: \"))\n",
        "g = 9.8  #Acceleration due to gravity in m/s^2\n",
        "s= g*t**2/2   # 1/2 g t^2\n",
        "print(\"The ball has fallen\",s,\"meters\")\n",
        "print(\"The height of the ball is\",h-s,\"meters\")"
      ]
    },
    {
      "cell_type": "code",
      "execution_count": null,
      "metadata": {
        "collapsed": true,
        "jupyter": {
          "outputs_hidden": true
        },
        "id": "k_AA74XGLsBn"
      },
      "outputs": [],
      "source": []
    }
  ],
  "metadata": {
    "kernelspec": {
      "display_name": "Python 3 (ipykernel)",
      "language": "python",
      "name": "python3"
    },
    "language_info": {
      "codemirror_mode": {
        "name": "ipython",
        "version": 3
      },
      "file_extension": ".py",
      "mimetype": "text/x-python",
      "name": "python",
      "nbconvert_exporter": "python",
      "pygments_lexer": "ipython3",
      "version": "3.13.1"
    },
    "colab": {
      "provenance": []
    }
  },
  "nbformat": 4,
  "nbformat_minor": 0
}