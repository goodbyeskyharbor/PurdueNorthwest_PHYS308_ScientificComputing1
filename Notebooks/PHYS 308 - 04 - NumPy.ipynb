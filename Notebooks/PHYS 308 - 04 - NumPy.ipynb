{
  "cells": [
    {
      "cell_type": "markdown",
      "metadata": {
        "id": "T7kt1SdkqOCz"
      },
      "source": [
        "# PHYS 308 - Notebook 04 - NumPy\n",
        "\n",
        "Interactive learning notebook developed by J. Dolen for PHYS 308 at Purdue University Northwest\n",
        "\n"
      ]
    },
    {
      "cell_type": "markdown",
      "source": [
        "## What is NumPy?\n",
        "\n",
        "NumPy (Numerical Python) is a python package designed for scientific computing which provides numerous important tools and the powerful NumPy array object. NumPy gives python many of the same tools available in MATLAB. NumPy is related to SciPy which we will try later.\n",
        "\n",
        "Please find further documentation on NumPy here: https://docs.scipy.org/doc/\n",
        "\n",
        "If you are a MATLAB user the following table could be helpful for learning NumPy:\n",
        "https://docs.scipy.org/doc/numpy/user/numpy-for-matlab-users.html\n",
        "\n"
      ],
      "metadata": {
        "id": "d-BDrpjt7jzX"
      }
    },
    {
      "cell_type": "markdown",
      "source": [
        "## Why Use NumPy for Physics?\n",
        "\n",
        "As a physics student, you'll often deal with large datasets from experiments or simulations. A standard Python list is often too slow for the complex mathematical operations you'll need. NumPy is the solution.\n",
        "\n",
        "* **Speed:** NumPy's core operations are written in a low-level language (C), making them orders of magnitude faster than equivalent Python code.\n",
        "* **Memory Efficiency:** NumPy arrays take up less memory than Python lists.\n",
        "* **Convenience:** NumPy provides a huge library of high-level mathematical functions that operate on entire arrays without needing to write `for` loops. This is called **vectorization**.\n",
        "\n"
      ],
      "metadata": {
        "id": "0yWCzqbG7mJp"
      }
    },
    {
      "cell_type": "markdown",
      "source": [
        "## Importing NumPy\n",
        "\n",
        "We can make our code more readable, avoid namespace collisions, and access the full NumPy library by importing the whole package and giving it the alias `np`:\n"
      ],
      "metadata": {
        "id": "oAj2S8o9-IqB"
      }
    },
    {
      "cell_type": "code",
      "source": [
        "import numpy as np"
      ],
      "metadata": {
        "id": "xw-jbxCr-ien"
      },
      "execution_count": null,
      "outputs": []
    },
    {
      "cell_type": "markdown",
      "source": [
        "The standard `import numpy as np` is best practice because it creates a dedicated `np` namespace, which explicitly tells the Python interpreter where to find each function. This prevents errors from conflicting libraries and makes your code's intent clear to anyone reading it. For example:\n"
      ],
      "metadata": {
        "id": "JctVvBP5-jXH"
      }
    },
    {
      "cell_type": "code",
      "source": [
        "a = np.array([np.pi/4, np.pi/2, 3*np.pi/4,2*np.pi]) # use numpy function array()\n",
        "b = np.sin(a) # use numpy funcion sin() to calculate the sine of every element in the array\n",
        "print(b)"
      ],
      "metadata": {
        "colab": {
          "base_uri": "https://localhost:8080/"
        },
        "id": "1yIQiZEp_PVa",
        "outputId": "a4b64e9f-ccf7-414c-818b-d2d819c038c8"
      },
      "execution_count": null,
      "outputs": [
        {
          "output_type": "stream",
          "name": "stdout",
          "text": [
            "[ 7.07106781e-01  1.00000000e+00  7.07106781e-01 -2.44929360e-16]\n"
          ]
        }
      ]
    },
    {
      "cell_type": "markdown",
      "source": [
        "## Data Types in NumPy\n",
        "\n",
        "NumPy has its own data types (`dtypes`) because Python's built-in types like `int` and `float` are inefficient for large-scale numerical work (built-in types are complete objects with significant overhead). NumPy's dtypes map directly to how data is stored in computer memory, which allows for massive performance gains by using optimized, low-level C and Fortran code. It offers multiple versions of these types, such as `int8` versus `int64`, to give you precise control over memory usage and the range of values each number can store, which is critical for optimizing scientific computations.\n",
        "\n",
        "Note: We will have a specific notebook dedicated to accuracy in Python\n",
        "\n",
        "You can look up more about NumPy datatypes here:\n",
        "https://numpy.org/doc/stable/user/basics.types.html\n",
        "\n",
        "We can also print some useful information about some common data types:"
      ],
      "metadata": {
        "id": "E9Oj82ZA1g0g"
      }
    },
    {
      "cell_type": "code",
      "source": [
        "# Create a list of common NumPy data types\n",
        "common_dtypes = [\n",
        "    np.bool_, np.int8, np.uint8, np.int16, np.uint16,\n",
        "    np.int32, np.uint32, np.int64, np.uint64,\n",
        "    np.float16, np.float32, np.float64,\n",
        "    np.complex64, np.complex128\n",
        "]\n",
        "\n",
        "# Create a nice table describing these data types\n",
        "print(\"-\" * 75)\n",
        "print(f\"{'NumPy Data Types ':^75}\")\n",
        "print(\"-\" * 75)\n",
        "print(f\"{'Data Type':<12} {'Description':<25} {'Range or Details'}\")\n",
        "print(\"-\" * 75)\n",
        "\n",
        "for dtype in common_dtypes:\n",
        "    # Get the dtype object from the class\n",
        "    dtype_obj = np.dtype(dtype)\n",
        "    name = dtype_obj.name\n",
        "\n",
        "    # Check the 'kind' of data: 'i' for signed int, 'u' for unsigned, 'f' for float, etc.\n",
        "    if dtype_obj.kind in 'iu':\n",
        "        info = np.iinfo(dtype_obj)\n",
        "        kind_desc = \"Unsigned Integer\" if dtype_obj.kind == 'u' else \"Integer\"\n",
        "        print(f\"{name:<12} {kind_desc:<25} ({info.min} to {info.max})\")\n",
        "    elif dtype_obj.kind == 'f':\n",
        "        info = np.finfo(dtype_obj)\n",
        "        kind_desc = \"Floating-Point\"\n",
        "        print(f\"{name:<12} {kind_desc:<25} (Precision: {info.precision} digits, Epsilon: {info.eps})\")\n",
        "    elif dtype_obj.kind == 'b':\n",
        "        kind_desc = \"Boolean\"\n",
        "        print(f\"{name:<12} {kind_desc:<25} (True or False)\")\n",
        "    elif dtype_obj.kind == 'c':\n",
        "        kind_desc = \"Complex Number\"\n",
        "        print(f\"{name:<12} {kind_desc:<25} (real and imaginary parts)\")"
      ],
      "metadata": {
        "colab": {
          "base_uri": "https://localhost:8080/"
        },
        "id": "azefshDa7jPL",
        "outputId": "ff2795c7-9c5c-46bc-a659-c7fb27e1b9bb"
      },
      "execution_count": null,
      "outputs": [
        {
          "output_type": "stream",
          "name": "stdout",
          "text": [
            "---------------------------------------------------------------------------\n",
            "                             NumPy Data Types                              \n",
            "---------------------------------------------------------------------------\n",
            "Data Type    Description               Range or Details\n",
            "---------------------------------------------------------------------------\n",
            "bool         Boolean                   (True or False)\n",
            "int8         Integer                   (-128 to 127)\n",
            "uint8        Unsigned Integer          (0 to 255)\n",
            "int16        Integer                   (-32768 to 32767)\n",
            "uint16       Unsigned Integer          (0 to 65535)\n",
            "int32        Integer                   (-2147483648 to 2147483647)\n",
            "uint32       Unsigned Integer          (0 to 4294967295)\n",
            "int64        Integer                   (-9223372036854775808 to 9223372036854775807)\n",
            "uint64       Unsigned Integer          (0 to 18446744073709551615)\n",
            "float16      Floating-Point            (Precision: 3 digits, Epsilon: 0.0009765625)\n",
            "float32      Floating-Point            (Precision: 6 digits, Epsilon: 1.1920928955078125e-07)\n",
            "float64      Floating-Point            (Precision: 15 digits, Epsilon: 2.220446049250313e-16)\n",
            "complex64    Complex Number            (real and imaginary parts)\n",
            "complex128   Complex Number            (real and imaginary parts)\n"
          ]
        }
      ]
    },
    {
      "cell_type": "markdown",
      "source": [
        "## NumPy arrays\n",
        "\n",
        "A NumPy array is a powerful data structure containing a grid of values where all elements must be the same data type. This uniformity is a key difference from Python lists, which can hold a mix of types (like an integer and a string). When you create an array, NumPy will automatically infer the most suitable data type from your input, but you can also explicitly specify it yourself for precise control over memory and performance. Because of this fixed type, mathematical operations on NumPy arrays are significantly faster and more memory-efficient than on standard Python lists.\n"
      ],
      "metadata": {
        "id": "xW1xZ57P7oIs"
      }
    },
    {
      "cell_type": "markdown",
      "source": [
        "### Creating NumPy Arrays\n",
        "\n",
        "\n",
        "There are many ways to create a NumPy array. The method you choose depends on whether you have existing data or want to create an array from scratch.\n",
        "\n",
        "\n",
        "https://docs.scipy.org/doc/numpy/reference/routines.array-creation.html\n"
      ],
      "metadata": {
        "id": "zyXagsll8EN1"
      }
    },
    {
      "cell_type": "markdown",
      "source": [
        "#### Create an array from a list\n",
        "\n",
        "The np.array() function is one method to create a NumPy array. Its main job is to convert existing data, most often a Python list, into a NumPy array. It is flexible, so it can also convert a tuple, string, or iterable like range to an NumPy array.\n",
        "\n",
        "The basic syntax is `np.array(object, dtype=None)`, where:\n",
        "\n",
        "  * `object`: (Required) This is the data you want to convert into an array. It's typically a Python list or a list of lists.\n",
        "\n",
        "  * `dtype`: (Optional) This is where you can explicitly set the data type for the elements in the array.\n",
        "\n",
        "NumPy arrays have many useful attributes that describe their properties. For example, you can check the data type of an array's elements by accessing its `.dtype` attribute."
      ],
      "metadata": {
        "id": "zH7y0dHx9BiA"
      }
    },
    {
      "cell_type": "markdown",
      "source": [
        "##### 1D Arrays"
      ],
      "metadata": {
        "id": "Pb9fMTCYNyBo"
      }
    },
    {
      "cell_type": "code",
      "source": [
        "my_list = [10, 20, 30, 40, 50] # a list of integeres\n",
        "my_array = np.array(my_list) # Convert the list to a NumPy array\n",
        "\n",
        "print(f\"The array:\\n{my_array}\")\n",
        "print(f\"The array's data type: {my_array.dtype}\")"
      ],
      "metadata": {
        "colab": {
          "base_uri": "https://localhost:8080/"
        },
        "id": "gpx63t5VxXfY",
        "outputId": "5fdf7e83-06c9-436e-f31f-92855356bbda"
      },
      "execution_count": null,
      "outputs": [
        {
          "output_type": "stream",
          "name": "stdout",
          "text": [
            "The array:\n",
            "[10 20 30 40 50]\n",
            "The array's data type: int64\n"
          ]
        }
      ]
    },
    {
      "cell_type": "code",
      "source": [
        "mixed_list = [1, 2, 3.14, 4, 5.0] # a list with integers and floats\n",
        "mixed_array = np.array(mixed_list) # NumPy upcasts everything to float64 to accommodate 3.14\n",
        "\n",
        "print(f\"The mixed-type array:\\n{mixed_array}\")\n",
        "print(f\"The array's data type: {mixed_array.dtype}\")"
      ],
      "metadata": {
        "colab": {
          "base_uri": "https://localhost:8080/"
        },
        "id": "qwCqZdgwxhUz",
        "outputId": "4fc9c693-c967-4cf2-fa02-e2859acacdeb"
      },
      "execution_count": null,
      "outputs": [
        {
          "output_type": "stream",
          "name": "stdout",
          "text": [
            "The mixed-type array:\n",
            "[1.   2.   3.14 4.   5.  ]\n",
            "The array's data type: float64\n"
          ]
        }
      ]
    },
    {
      "cell_type": "code",
      "execution_count": null,
      "metadata": {
        "id": "nGmVmHGDqOC0",
        "outputId": "6efeafc7-b177-497d-da54-8dac8665347d",
        "colab": {
          "base_uri": "https://localhost:8080/"
        }
      },
      "outputs": [
        {
          "output_type": "stream",
          "name": "stdout",
          "text": [
            "The array:\n",
            "[ 1.   1.5 -2.2]\n",
            "The array's data type: float64\n",
            "The array:\n",
            "[ 1.   1.5 -2.2]\n",
            "The array's data type: float64\n"
          ]
        }
      ],
      "source": [
        "# create a list with square brackets\n",
        "another_list = [ 1.0, 1.5, -2.2]\n",
        "\n",
        "#convert to an array, directly specifying float, which is an alias for float64\n",
        "my_array2 = np.array(another_list,float)  # specify float using a positional argument\n",
        "my_array3 = np.array(another_list,dtype=float) #specify float using a keyword argument\n",
        "print(f\"The array:\\n{my_array2}\")\n",
        "print(f\"The array's data type: {my_array2.dtype}\")\n",
        "print(f\"The array:\\n{my_array3}\")\n",
        "print(f\"The array's data type: {my_array3.dtype}\")"
      ]
    },
    {
      "cell_type": "code",
      "source": [
        "my_array = np.array([27,55.2,159.9]) # create an array from a list\n",
        "print(f\"The array:\\n{my_array}\")\n",
        "print(f\"The array's data type: {my_array.dtype}\")"
      ],
      "metadata": {
        "colab": {
          "base_uri": "https://localhost:8080/"
        },
        "id": "7nyQD_z0-Nlf",
        "outputId": "514e302d-33eb-4148-c1e4-d61433017d7b"
      },
      "execution_count": null,
      "outputs": [
        {
          "output_type": "stream",
          "name": "stdout",
          "text": [
            "The array:\n",
            "[ 27.   55.2 159.9]\n",
            "The array's data type: float64\n"
          ]
        }
      ]
    },
    {
      "cell_type": "markdown",
      "source": [
        "##### 2D arrays\n",
        "\n",
        "You can create a 2D array by combining\n",
        "lists (create list of lists).\n",
        "\n",
        "You can think of it as a standard table, grid, or matrix, with rows and columns.\n",
        "\n",
        "The dimensions of a 2D array are described by two axes:\n",
        "\n",
        "* Axis 0: This refers to the rows of the array.\n",
        "\n",
        "* Axis 1: This refers to the columns of the array."
      ],
      "metadata": {
        "id": "EHC67m5V6zFt"
      }
    },
    {
      "cell_type": "code",
      "source": [
        "a = np.array([[1,2,3],[4,5,6]],int)\n",
        "print(a)"
      ],
      "metadata": {
        "colab": {
          "base_uri": "https://localhost:8080/"
        },
        "id": "fKnH9LfV6qvE",
        "outputId": "8d32134f-fcfb-4409-98d6-78f78a57c902"
      },
      "execution_count": null,
      "outputs": [
        {
          "output_type": "stream",
          "name": "stdout",
          "text": [
            "[[1 2 3]\n",
            " [4 5 6]]\n"
          ]
        }
      ]
    },
    {
      "cell_type": "code",
      "source": [
        "a = np.array([\n",
        "    ['R1C1','R1C2','R1C3'],\n",
        "     ['R2C1','R2C2','R2C3'],\n",
        "      ['R3C1','R3C2','R3C3']],str)\n",
        "print(a)"
      ],
      "metadata": {
        "colab": {
          "base_uri": "https://localhost:8080/"
        },
        "id": "wyHnxj8v-efg",
        "outputId": "694e66ac-cfba-4074-d4fa-3c26a6d47beb"
      },
      "execution_count": null,
      "outputs": [
        {
          "output_type": "stream",
          "name": "stdout",
          "text": [
            "[['R1C1' 'R1C2' 'R1C3']\n",
            " ['R2C1' 'R2C2' 'R2C3']\n",
            " ['R3C1' 'R3C2' 'R3C3']]\n"
          ]
        }
      ]
    },
    {
      "cell_type": "code",
      "source": [
        "# Create a 2D array with a shape of (3, 4)\n",
        "# (Size of Axis 0 is 3, Size of Axis 1 is 4)\n",
        "array_2d = np.array([\n",
        "    [ 0,  1,  2,  3],   # Row at index 0 on Axis 0\n",
        "    [ 4,  5,  6,  7],   # Row at index 1 on Axis 0\n",
        "    [ 8,  9, 10, 11]    # Row at index 2 on Axis 0\n",
        "])\n",
        "\n",
        "print(f\"The 2D array:\\n{array_2d}\\n\")\n",
        "\n",
        "shape_tuple = array_2d.shape\n",
        "print(f\"Shape of the array: {shape_tuple}\")\n",
        "print(f\"Size of Axis 0 (rows): {shape_tuple[0]}\")\n",
        "print(f\"Size of Axis 1 (columns): {shape_tuple[1]}\")"
      ],
      "metadata": {
        "colab": {
          "base_uri": "https://localhost:8080/"
        },
        "id": "5TlybcLbNIfu",
        "outputId": "3135e76a-cf9d-493e-dea6-279a09ae0240"
      },
      "execution_count": null,
      "outputs": [
        {
          "output_type": "stream",
          "name": "stdout",
          "text": [
            "The 2D array:\n",
            "[[ 0  1  2  3]\n",
            " [ 4  5  6  7]\n",
            " [ 8  9 10 11]]\n",
            "\n",
            "Shape of the array: (3, 4)\n",
            "Size of Axis 0 (rows): 3\n",
            "Size of Axis 1 (columns): 4\n"
          ]
        }
      ]
    },
    {
      "cell_type": "markdown",
      "source": [
        "You access elements using the format [row_index, column_index]. Remember that indexing starts at 0."
      ],
      "metadata": {
        "id": "JTQpGH_kNRfx"
      }
    },
    {
      "cell_type": "code",
      "source": [
        "# Access a single element: the item in Row 1, Column 2\n",
        "element = array_2d[1, 2]\n",
        "print(f\"Element at [1, 2] is: {element}\\n\")\n",
        "\n",
        "# --- Slicing ---\n",
        "# The colon \":\" means \"select all elements along this axis\"\n",
        "\n",
        "# Access a full row (the first row, at index 0 on Axis 0)\n",
        "first_row = array_2d[0, :] # or more simply, array_2d[0]\n",
        "print(f\"The first row:\\n{first_row}\\n\")\n",
        "\n",
        "# Access a full column (the second column, at index 1 on Axis 1)\n",
        "second_col = array_2d[:, 1]\n",
        "print(f\"The second column:\\n{second_col}\")"
      ],
      "metadata": {
        "colab": {
          "base_uri": "https://localhost:8080/"
        },
        "id": "IbwIVkH_NU70",
        "outputId": "59d7df4c-517f-41cf-efd5-f908c3d1d109"
      },
      "execution_count": null,
      "outputs": [
        {
          "output_type": "stream",
          "name": "stdout",
          "text": [
            "Element at [1, 2] is: 6\n",
            "\n",
            "The first row:\n",
            "[0 1 2 3]\n",
            "\n",
            "The second column:\n",
            "[1 5 9]\n"
          ]
        }
      ]
    },
    {
      "cell_type": "markdown",
      "source": [
        "##### 3D arrays\n",
        "You can also create 3D  or N-D Numpy arrays.\n",
        "\n",
        "The easiest way to think of a 3D array is as a collection or stack of 2D arrays (matrices). The dimensions are described by three axes:\n",
        "\n",
        "* Axis 0: The \"depth\" or \"layers\" of the array. Moving along this axis takes you from one matrix to the next.\n",
        "\n",
        "* Axis 1: The rows within each layer.\n",
        "\n",
        "* Axis 2: The columns within each layer.\n",
        "\n"
      ],
      "metadata": {
        "id": "k1B61XvfLgWu"
      }
    },
    {
      "cell_type": "code",
      "source": [
        "# Create a 3D array. Shape (2, 3, 4) -> (Axis 0, Axis 1, Axis 2)\n",
        "array_3d = np.array([\n",
        "    # Layer at index 0 on Axis 0\n",
        "    [[ 0,  1,  2,  3],   # Row at index 0 on Axis 1\n",
        "     [ 4,  5,  6,  7],   # Row at index 1 on Axis 1\n",
        "     [ 8,  9, 10, 11]],  # Row at index 2 on Axis 1\n",
        "\n",
        "    # Layer at index 1 on Axis 0\n",
        "    [[12, 13, 14, 15],   # Row at index 0 on Axis 1\n",
        "     [16, 17, 18, 19],   # Row at index 1 on Axis 1\n",
        "     [20, 21, 22, 23]]   # Row at index 2 on Axis 1\n",
        "])\n",
        "\n",
        "print(f\"The 3D array:\\n{array_3d}\\n\")\n",
        "\n",
        "shape_tuple = array_3d.shape\n",
        "print(f\"Shape of the array: {shape_tuple}\")\n",
        "print(f\"Size of Axis 0 (depth): {shape_tuple[0]}\")\n",
        "print(f\"Size of Axis 1 (rows): {shape_tuple[1]}\")\n",
        "print(f\"Size of Axis 2 (columns): {shape_tuple[2]}\")"
      ],
      "metadata": {
        "colab": {
          "base_uri": "https://localhost:8080/"
        },
        "id": "9p2enT10Lr6D",
        "outputId": "37cd1933-ad67-43ee-a86e-1971efde147a"
      },
      "execution_count": null,
      "outputs": [
        {
          "output_type": "stream",
          "name": "stdout",
          "text": [
            "The 3D array:\n",
            "[[[ 0  1  2  3]\n",
            "  [ 4  5  6  7]\n",
            "  [ 8  9 10 11]]\n",
            "\n",
            " [[12 13 14 15]\n",
            "  [16 17 18 19]\n",
            "  [20 21 22 23]]]\n",
            "\n",
            "Shape of the array: (2, 3, 4)\n",
            "Size of Axis 0 (depth): 2\n",
            "Size of Axis 1 (rows): 3\n",
            "Size of Axis 2 (columns): 4\n"
          ]
        }
      ]
    },
    {
      "cell_type": "code",
      "source": [
        "# Access a single element: Layer 1, Row 0, Column 2\n",
        "element = array_3d[1, 0, 2]\n",
        "print(f\"Element at [1, 0, 2] is: {element}\\n\")\n",
        "\n",
        "# Access a whole 2D array (the first layer)\n",
        "first_layer = array_3d[0]\n",
        "print(f\"The first layer (a 2D array):\\n{first_layer}\")"
      ],
      "metadata": {
        "colab": {
          "base_uri": "https://localhost:8080/"
        },
        "id": "yRv2cGPvMXJl",
        "outputId": "59486b2c-c1ee-4b21-fef4-f0482ae75e79"
      },
      "execution_count": null,
      "outputs": [
        {
          "output_type": "stream",
          "name": "stdout",
          "text": [
            "Element at [1, 0, 2] is: 14\n",
            "\n",
            "The first layer (a 2D array):\n",
            "[[ 0  1  2  3]\n",
            " [ 4  5  6  7]\n",
            " [ 8  9 10 11]]\n"
          ]
        }
      ]
    },
    {
      "cell_type": "markdown",
      "source": [
        "#### Create an array with with initial placeholders\n",
        "\n",
        "Often, you need an array of a specific size but don't have the data yet. You can create arrays filled with initial placeholder values using NumPy functions like\n",
        "`zeros()`, `ones()`, `empty()`, and `full()` ."
      ],
      "metadata": {
        "id": "gNTKlaHhzmDP"
      }
    },
    {
      "cell_type": "code",
      "execution_count": null,
      "metadata": {
        "id": "AcqHHRRxqOC0",
        "outputId": "1c539896-3b70-4f65-922b-0a8e4746fb6e",
        "colab": {
          "base_uri": "https://localhost:8080/"
        }
      },
      "outputs": [
        {
          "output_type": "stream",
          "name": "stdout",
          "text": [
            "[0. 0. 0. 0.]\n"
          ]
        }
      ],
      "source": [
        "# Create a 1D array filled with zeros\n",
        "a = np.zeros(4,float)\n",
        "print(a)"
      ]
    },
    {
      "cell_type": "code",
      "execution_count": null,
      "metadata": {
        "id": "Kldb-Ks1qOC0",
        "outputId": "6b324c83-151a-4c10-cc1f-edaa9bcf7c06",
        "colab": {
          "base_uri": "https://localhost:8080/"
        }
      },
      "outputs": [
        {
          "output_type": "stream",
          "name": "stdout",
          "text": [
            "[[0. 0. 0. 0.]\n",
            " [0. 0. 0. 0.]\n",
            " [0. 0. 0. 0.]]\n"
          ]
        }
      ],
      "source": [
        "# Create a 2D array filled with zeros\n",
        "a = np.zeros([3,4],float)\n",
        "print(a)"
      ]
    },
    {
      "cell_type": "code",
      "execution_count": null,
      "metadata": {
        "id": "InL7nwKzqOC1",
        "outputId": "1cea1ff8-fd3b-4925-f086-f8d40ef2dffb",
        "colab": {
          "base_uri": "https://localhost:8080/"
        }
      },
      "outputs": [
        {
          "output_type": "stream",
          "name": "stdout",
          "text": [
            "[[ 0  1]\n",
            " [-1  0]]\n"
          ]
        }
      ],
      "source": [
        "# Create a 2D array filled with zeros then change two elements\n",
        "a = np.zeros([2,2],int)\n",
        "a[0,1]=1\n",
        "a[1,0]=-1\n",
        "print(a)"
      ]
    },
    {
      "cell_type": "code",
      "execution_count": null,
      "metadata": {
        "id": "pPG3IiGDqOC0",
        "outputId": "d6d4364b-bdeb-4329-d62c-2e7956f644c6",
        "colab": {
          "base_uri": "https://localhost:8080/"
        }
      },
      "outputs": [
        {
          "output_type": "stream",
          "name": "stdout",
          "text": [
            "[1. 1. 1. 1. 1. 1.]\n"
          ]
        }
      ],
      "source": [
        "# Create a 1D array filled with ones\n",
        "a = np.ones(6,float)\n",
        "print(a)"
      ]
    },
    {
      "cell_type": "code",
      "execution_count": null,
      "metadata": {
        "id": "Vrb8ZUsRqOC0",
        "outputId": "9099505e-d500-4a58-d19e-e1035efc1875",
        "colab": {
          "base_uri": "https://localhost:8080/"
        }
      },
      "outputs": [
        {
          "output_type": "stream",
          "name": "stdout",
          "text": [
            "[2.5e-323 3.0e-323 3.5e-323 4.0e-323 4.4e-323]\n"
          ]
        }
      ],
      "source": [
        "# Create a 1D array empty array\n",
        "#  Note: The empty() function allocates memory without\n",
        "#   initializing the entries to a particular value.\n",
        "#   They might appear as zeros,\n",
        "#   or they could be any arbitrary value depending\n",
        "#   on what was previously in that memory location.\n",
        "from numpy import empty\n",
        "a = empty(5,float)\n",
        "print(a)"
      ]
    },
    {
      "cell_type": "code",
      "source": [
        "# Create a 2x3 array filled with the number 99\n",
        "a = np.full((2, 3), 99)\n",
        "print(a)"
      ],
      "metadata": {
        "colab": {
          "base_uri": "https://localhost:8080/"
        },
        "id": "745wB_gk76oV",
        "outputId": "3b341499-bb5b-4a46-cf61-f405fee31b3c"
      },
      "execution_count": null,
      "outputs": [
        {
          "output_type": "stream",
          "name": "stdout",
          "text": [
            "[[99 99 99]\n",
            " [99 99 99]]\n"
          ]
        }
      ]
    },
    {
      "cell_type": "markdown",
      "source": [
        "There are also versions of these functions which allow you to copy the shape of an exisiting array and creat a new one with the same shape: `zeros_like()`, `ones_like()`, `empty_like()`, and `full_like()`."
      ],
      "metadata": {
        "id": "qEbPorbO8t8s"
      }
    },
    {
      "cell_type": "code",
      "source": [
        "# An existing array\n",
        "data_array = np.array([[1, 2, 3], [4, 5, 6]])\n",
        "\n",
        "# Create an array of zeros with the same shape (2x3) as data_array\n",
        "zeros_array = np.zeros_like(data_array)\n",
        "\n",
        "\n",
        "print('data_array')\n",
        "print(data_array)\n",
        "print('zeros_array')\n",
        "print(zeros_array)"
      ],
      "metadata": {
        "colab": {
          "base_uri": "https://localhost:8080/"
        },
        "id": "raHBp6s78-5d",
        "outputId": "69a89492-f52f-42cc-af2e-7d6c76a4cc0c"
      },
      "execution_count": null,
      "outputs": [
        {
          "output_type": "stream",
          "name": "stdout",
          "text": [
            "data_array\n",
            "[[1 2 3]\n",
            " [4 5 6]]\n",
            "zeros_array\n",
            "[[0 0 0]\n",
            " [0 0 0]]\n"
          ]
        }
      ]
    },
    {
      "cell_type": "markdown",
      "metadata": {
        "id": "nDaFs_kxqOC8"
      },
      "source": [
        "#### Creat an array from a numerical range\n",
        "\n",
        "NumPy can also create arrays that follow a numerical sequence, which is perfect for generating coordinates or time steps for simulations.\n",
        "\n"
      ]
    },
    {
      "cell_type": "markdown",
      "metadata": {
        "id": "nOtuMZ7zqOC8"
      },
      "source": [
        "##### arange()\n",
        "\n",
        "We have already learned the range function which we used to create for loops\n",
        "\n",
        "arange is similar but creates an array\n",
        "\n",
        "https://docs.scipy.org/doc/numpy/reference/generated/numpy.arange.html#numpy.arange"
      ]
    },
    {
      "cell_type": "code",
      "execution_count": null,
      "metadata": {
        "id": "JScsdKORqOC8",
        "outputId": "d7ad2cc9-b26e-41a1-ac06-2d60fbc7461c",
        "colab": {
          "base_uri": "https://localhost:8080/"
        }
      },
      "outputs": [
        {
          "output_type": "stream",
          "name": "stdout",
          "text": [
            "[0 1 2 3 4]\n"
          ]
        }
      ],
      "source": [
        "a1 = np.arange(5) # create an array of integers between [0,5) with step 1\n",
        "print(a1)"
      ]
    },
    {
      "cell_type": "code",
      "execution_count": null,
      "metadata": {
        "id": "t2d2B3_CqOC8",
        "outputId": "91a244ca-307b-482b-eac3-51bc9bddbadb",
        "colab": {
          "base_uri": "https://localhost:8080/"
        }
      },
      "outputs": [
        {
          "output_type": "stream",
          "name": "stdout",
          "text": [
            "[0. 1. 2. 3. 4.]\n"
          ]
        }
      ],
      "source": [
        "a2 = np.arange(5.0) # create an array of floats between [0,5) with step 1\n",
        "print(a2)"
      ]
    },
    {
      "cell_type": "code",
      "execution_count": null,
      "metadata": {
        "id": "Y7hGW4dkqOC8",
        "outputId": "3f771167-9c82-4463-f192-2a4328db4ff5",
        "colab": {
          "base_uri": "https://localhost:8080/"
        }
      },
      "outputs": [
        {
          "output_type": "stream",
          "name": "stdout",
          "text": [
            "[5 6 7 8 9]\n"
          ]
        }
      ],
      "source": [
        "a3 = np.arange(5, 10) # create an array of floats between [5,10) with step 1\n",
        "print(a3)"
      ]
    },
    {
      "cell_type": "code",
      "execution_count": null,
      "metadata": {
        "id": "gbdT74DtqOC8",
        "outputId": "1c3d4350-9030-48b7-cb7d-c80d524d3594",
        "colab": {
          "base_uri": "https://localhost:8080/"
        }
      },
      "outputs": [
        {
          "output_type": "stream",
          "name": "stdout",
          "text": [
            "[5 7 9]\n"
          ]
        }
      ],
      "source": [
        "a4 = np.arange(5,10,2) # start, stop, step\n",
        "print(a4)"
      ]
    },
    {
      "cell_type": "code",
      "execution_count": null,
      "metadata": {
        "id": "QTTEeGgAqOC8",
        "outputId": "7228315b-1bbc-4f38-d7c2-14244613a85e",
        "colab": {
          "base_uri": "https://localhost:8080/"
        }
      },
      "outputs": [
        {
          "output_type": "stream",
          "name": "stdout",
          "text": [
            "[5.  5.5 6.  6.5 7.  7.5 8.  8.5 9.  9.5]\n"
          ]
        }
      ],
      "source": [
        "a5 = np.arange(5,10,0.5) # start, stop, step\n",
        "print(a5)"
      ]
    },
    {
      "cell_type": "markdown",
      "source": [
        "You can also use reshape to make the array returned by arange() into a 2D array:"
      ],
      "metadata": {
        "id": "uFPkg6LLYwUd"
      }
    },
    {
      "cell_type": "code",
      "source": [
        "array_2d = np.arange(24).reshape(4, 6)\n",
        "print(array_2d)"
      ],
      "metadata": {
        "colab": {
          "base_uri": "https://localhost:8080/"
        },
        "id": "nQccjy44Yu9g",
        "outputId": "739d5ce2-6a9c-4c1a-e7e9-71fb5c9b05db"
      },
      "execution_count": null,
      "outputs": [
        {
          "output_type": "stream",
          "name": "stdout",
          "text": [
            "[[ 0  1  2  3  4  5]\n",
            " [ 6  7  8  9 10 11]\n",
            " [12 13 14 15 16 17]\n",
            " [18 19 20 21 22 23]]\n"
          ]
        }
      ]
    },
    {
      "cell_type": "markdown",
      "metadata": {
        "collapsed": true,
        "id": "3TBZuAoQqOC8"
      },
      "source": [
        "##### linspace()\n",
        "\n",
        "Numpy function which creates an array containing evenly spaced numbers over a specified interval.\n",
        "\n",
        "\n",
        "Make an array between some min value and max value with evenly spaced dividers based on a given number of points\n",
        "\n",
        "https://docs.scipy.org/doc/numpy/reference/generated/numpy.linspace.html"
      ]
    },
    {
      "cell_type": "code",
      "execution_count": null,
      "metadata": {
        "collapsed": true,
        "id": "PHsN2pXHqOC8"
      },
      "outputs": [],
      "source": [
        "x = np.linspace(start=0,stop=1,num=11)"
      ]
    },
    {
      "cell_type": "code",
      "execution_count": null,
      "metadata": {
        "id": "2zHan5PRqOC8",
        "outputId": "d4afdfce-c1e8-4378-cf52-6a7e88efd2cd",
        "colab": {
          "base_uri": "https://localhost:8080/"
        }
      },
      "outputs": [
        {
          "output_type": "stream",
          "name": "stdout",
          "text": [
            "[0.  0.1 0.2 0.3 0.4 0.5 0.6 0.7 0.8 0.9 1. ]\n"
          ]
        }
      ],
      "source": [
        "print(x)"
      ]
    },
    {
      "cell_type": "code",
      "execution_count": null,
      "metadata": {
        "collapsed": true,
        "id": "FQOaRpvkqOC8"
      },
      "outputs": [],
      "source": [
        "x = np.linspace(0,1,11)"
      ]
    },
    {
      "cell_type": "code",
      "execution_count": null,
      "metadata": {
        "id": "_489o0_sqOC8",
        "outputId": "f5ae2575-e297-43ed-8f60-1e833651d411",
        "colab": {
          "base_uri": "https://localhost:8080/",
          "height": 435
        }
      },
      "outputs": [
        {
          "output_type": "display_data",
          "data": {
            "text/plain": [
              "<Figure size 640x480 with 1 Axes>"
            ],
            "image/png": "[encoded data removed]"
          },
          "metadata": {}
        }
      ],
      "source": [
        "import matplotlib.pyplot as plt\n",
        "\n",
        "y11 = np.zeros(11)\n",
        "y10 = np.zeros(10)\n",
        "\n",
        "x1 = np.linspace(0, 10, 11, endpoint=True)\n",
        "x2 = np.linspace(0, 10, 10, endpoint=False)\n",
        "x3 = np.linspace(0, 10, 11, endpoint=False)\n",
        "\n",
        "plt.plot(x1, y11 + 1, 'ob')\n",
        "plt.plot(x2, y10    , 'og')\n",
        "plt.plot(x3, y11 - 1, 'or')\n",
        "\n",
        "plt.ylim([-1.5, 1.5])\n",
        "plt.grid()\n",
        "plt.show()"
      ]
    },
    {
      "cell_type": "code",
      "execution_count": null,
      "metadata": {
        "id": "DCp1gL8sqOC8",
        "outputId": "d6fc681c-3388-4143-affb-06cd49fd393b",
        "colab": {
          "base_uri": "https://localhost:8080/"
        }
      },
      "outputs": [
        {
          "output_type": "stream",
          "name": "stdout",
          "text": [
            "[ 0.  1.  2.  3.  4.  5.  6.  7.  8.  9. 10.]\n",
            "[0. 1. 2. 3. 4. 5. 6. 7. 8. 9.]\n",
            "[0.         0.90909091 1.81818182 2.72727273 3.63636364 4.54545455\n",
            " 5.45454545 6.36363636 7.27272727 8.18181818 9.09090909]\n"
          ]
        }
      ],
      "source": [
        "print(x1)\n",
        "print(x2)\n",
        "print(x3)"
      ]
    },
    {
      "cell_type": "markdown",
      "metadata": {
        "id": "aJbfW-O4qOC6"
      },
      "source": [
        "## Inspecting arrays\n",
        "\n",
        "Once you have an array, you'll want to know its properties. NumPy provides several useful attributes for getting metadata about an array's size, shape, and data type.\n"
      ]
    },
    {
      "cell_type": "code",
      "execution_count": null,
      "metadata": {
        "collapsed": true,
        "id": "9iOPcM7FqOC6",
        "colab": {
          "base_uri": "https://localhost:8080/"
        },
        "outputId": "d84f47cc-2405-446f-b824-34c4c4d2a77a"
      },
      "outputs": [
        {
          "output_type": "stream",
          "name": "stdout",
          "text": [
            "[[1 2 3]\n",
            " [4 5 6]]\n"
          ]
        }
      ],
      "source": [
        "data = np.array([[1, 2, 3], [4, 5, 6]], dtype=np.int32)\n",
        "print(data)"
      ]
    },
    {
      "cell_type": "code",
      "execution_count": null,
      "metadata": {
        "id": "UZjgRQlcqOC6",
        "outputId": "454db924-260e-4c39-f329-e3bfb39be079",
        "colab": {
          "base_uri": "https://localhost:8080/"
        }
      },
      "outputs": [
        {
          "output_type": "execute_result",
          "data": {
            "text/plain": [
              "numpy.ndarray"
            ]
          },
          "metadata": {},
          "execution_count": 40
        }
      ],
      "source": [
        "# ndarray stands for N-dimensional array.\n",
        "type(data)"
      ]
    },
    {
      "cell_type": "markdown",
      "source": [
        "Attribute `.ndim` provides the number of array dimensions (or axes). A 1D array has an .ndim of 1, a 2D array (a matrix) has an .ndim of 2, and so on."
      ],
      "metadata": {
        "id": "SYmlAYDO_idK"
      }
    },
    {
      "cell_type": "code",
      "execution_count": null,
      "metadata": {
        "id": "iaHR80ViqOC6",
        "outputId": "d3d687a5-997f-479f-d34e-5fbea1009556",
        "colab": {
          "base_uri": "https://localhost:8080/"
        }
      },
      "outputs": [
        {
          "output_type": "execute_result",
          "data": {
            "text/plain": [
              "2"
            ]
          },
          "metadata": {},
          "execution_count": 32
        }
      ],
      "source": [
        "data.ndim"
      ]
    },
    {
      "cell_type": "markdown",
      "source": [
        "Attribute `.shape` provides a tuple of integers indicating the size of the array in each dimension. For 2D arrays we can descibe the shape in terms of (rows, columns), but in general  we refer to each dimensions as an axis.\n",
        "\n"
      ],
      "metadata": {
        "id": "9YC3p2f6Agrb"
      }
    },
    {
      "cell_type": "code",
      "execution_count": null,
      "metadata": {
        "id": "RcWqkPqkqOC6",
        "outputId": "beba032a-88ea-4627-d50c-a7729fd5cf5d",
        "colab": {
          "base_uri": "https://localhost:8080/"
        }
      },
      "outputs": [
        {
          "output_type": "execute_result",
          "data": {
            "text/plain": [
              "(2, 3)"
            ]
          },
          "metadata": {},
          "execution_count": 39
        }
      ],
      "source": [
        "data.shape"
      ]
    },
    {
      "cell_type": "markdown",
      "source": [
        "Note: Shape (2,3) indicates:\n",
        "\n",
        "* Axis 0 contains 2 elements\n",
        "* Axis 1 contains 3 elements"
      ],
      "metadata": {
        "id": "RvAE7IT1Bg-C"
      }
    },
    {
      "cell_type": "markdown",
      "source": [
        "Attribute `.size` provides the total number of elements in the array. This is always equal to the product of the shape tuple's elements."
      ],
      "metadata": {
        "id": "ssWmEOK9Ax0B"
      }
    },
    {
      "cell_type": "code",
      "execution_count": null,
      "metadata": {
        "id": "gBZUf1BOqOC6",
        "outputId": "bd5c819c-436e-4cff-e86e-17fff32f8b91",
        "colab": {
          "base_uri": "https://localhost:8080/"
        }
      },
      "outputs": [
        {
          "output_type": "execute_result",
          "data": {
            "text/plain": [
              "6"
            ]
          },
          "metadata": {},
          "execution_count": 34
        }
      ],
      "source": [
        "data.size"
      ]
    },
    {
      "cell_type": "markdown",
      "source": [
        "Attribute `.dtype` describes the data type of the elements in the array."
      ],
      "metadata": {
        "id": "g8K6P_u9A5Br"
      }
    },
    {
      "cell_type": "code",
      "execution_count": null,
      "metadata": {
        "id": "D2s0hOShqOC6",
        "outputId": "3fe418a1-878e-4a67-86a8-5423eecd1df5",
        "colab": {
          "base_uri": "https://localhost:8080/"
        }
      },
      "outputs": [
        {
          "output_type": "execute_result",
          "data": {
            "text/plain": [
              "dtype('int64')"
            ]
          },
          "metadata": {},
          "execution_count": 35
        }
      ],
      "source": [
        "data.dtype"
      ]
    },
    {
      "cell_type": "markdown",
      "source": [
        "Attribute `.nbytes` provides the total memory in bytes consumed by the array's elements."
      ],
      "metadata": {
        "id": "1aCWtTqGCBZb"
      }
    },
    {
      "cell_type": "code",
      "execution_count": null,
      "metadata": {
        "id": "F_rYrP0rqOC6",
        "outputId": "1cec3299-6aae-47c3-edc2-9c01fad9bbd5",
        "colab": {
          "base_uri": "https://localhost:8080/"
        }
      },
      "outputs": [
        {
          "output_type": "execute_result",
          "data": {
            "text/plain": [
              "48"
            ]
          },
          "metadata": {},
          "execution_count": 36
        }
      ],
      "source": [
        "data.nbytes"
      ]
    },
    {
      "cell_type": "markdown",
      "source": [
        "Of course, we can access individual elements of an array with indexing just like lists and tuples:"
      ],
      "metadata": {
        "id": "TTjPWDJqCJ2J"
      }
    },
    {
      "cell_type": "code",
      "source": [
        "r = [ 1.0, 1.5, -2.2]\n",
        "a = np.array(r,float)\n",
        "print(f'Index 0 of the array contains {a[0]}')\n",
        "print(f'Index 1 of the array contains {a[1]}')\n",
        "print(f'Index 2 of the array contains {a[2]}')\n"
      ],
      "metadata": {
        "colab": {
          "base_uri": "https://localhost:8080/"
        },
        "id": "U2L9dbfD69Qw",
        "outputId": "6df50eef-724d-46bd-9f45-e4fe84204130"
      },
      "execution_count": null,
      "outputs": [
        {
          "output_type": "stream",
          "name": "stdout",
          "text": [
            "Index 0 of the array contains 1.0\n",
            "Index 1 of the array contains 1.5\n",
            "Index 2 of the array contains -2.2\n"
          ]
        }
      ]
    },
    {
      "cell_type": "markdown",
      "source": [
        "Warning: Be careful using the built-in function `len()` on arrays. While it works for 1D arrays, its behavior can be misleading for multi-dimensional arrays. The `len()` function only returns the size of the first dimension (Axis 0) of an array. It is much safer to use `.shape()` or `.size()`\n",
        "\n"
      ],
      "metadata": {
        "id": "0EsgBNtXQfh4"
      }
    },
    {
      "cell_type": "code",
      "source": [
        "array_1d = np.array([0.1, 0.2, 0.3])\n",
        "\n",
        "print(f\"len(array_1d) = {len(array_1d)}\")\n",
        "print(f\"array_1d.size = {array_1d.size}\")\n",
        "print(f\"array_1d.shape = {array_1d.shape}\")\n",
        "\n",
        "array_2d = np.array([[1, 2, 3, 4],\n",
        "                     [5, 6, 7, 8],\n",
        "                     [9, 10, 11, 12]])\n",
        "\n",
        "# len() only gives the size of the first dimension (the number of rows)\n",
        "print(f\"len(array_2d) = {len(array_2d)}\")\n",
        "print(f\"array_2d.size = {array_2d.size}\")\n",
        "print(f\"array_2d.shape = {array_2d.shape}\")"
      ],
      "metadata": {
        "colab": {
          "base_uri": "https://localhost:8080/"
        },
        "id": "-U6yok2YQxXJ",
        "outputId": "5db16606-3942-4f64-bd40-6b1cb5ec4f39"
      },
      "execution_count": null,
      "outputs": [
        {
          "output_type": "stream",
          "name": "stdout",
          "text": [
            "len(array_1d) = 3\n",
            "array_1d.size = 3\n",
            "array_1d.shape = (3,)\n",
            "len(array_2d) = 3\n",
            "array_2d.size = 12\n",
            "array_2d.shape = (3, 4)\n"
          ]
        }
      ]
    },
    {
      "cell_type": "markdown",
      "metadata": {
        "id": "s8SRbNLoqOC1"
      },
      "source": [
        "## Arithmetic with arrays"
      ]
    },
    {
      "cell_type": "markdown",
      "source": [
        "#### Basic Arithmetic\n",
        "\n",
        "Standard arithmetic operators like `+`, `-`, `*`, `/`, and `**` work on NumPy arrays. These operations are applied element-wise, meaning the operation is performed on each corresponding element in the arrays. This requires the arrays to have the same shape, or for one to be a scalar that can be broadcast."
      ],
      "metadata": {
        "id": "wO9Q8wKXDWtD"
      }
    },
    {
      "cell_type": "code",
      "execution_count": null,
      "metadata": {
        "id": "MYiBQYZMqOC1",
        "outputId": "73c65f1d-4721-40f4-9c11-2b9c40fa25a9",
        "colab": {
          "base_uri": "https://localhost:8080/"
        }
      },
      "outputs": [
        {
          "output_type": "stream",
          "name": "stdout",
          "text": [
            "a: [1 2 3 4]\n",
            "b: [2 4 6 8]\n",
            "a+b: [ 3  6  9 12]\n",
            "a*b: [ 2  8 18 32]\n",
            "b+1: [3 5 7 9]\n",
            "a**2: [ 1  4  9 16]\n"
          ]
        }
      ],
      "source": [
        "# Create an array\n",
        "a = np.array([1,2,3,4],int)\n",
        "\n",
        "# Multiply every element of a by 2 and create a new array\n",
        "b = 2*a\n",
        "\n",
        "print(f'a: {a}')\n",
        "print(f'b: {b}')\n",
        "print(f'a+b: {a+b}') # Add a+b element by element\n",
        "print(f'a*b: {a*b}') # Multiply a*b element by element\n",
        "print(f'b+1: {b+1}') # Add 1 to every element of b\n",
        "print(f'a**2: {a**2}') # Square every element of a"
      ]
    },
    {
      "cell_type": "markdown",
      "source": [
        "Note: This is very different than the behavior for lists"
      ],
      "metadata": {
        "id": "vLCGEuejDbTT"
      }
    },
    {
      "cell_type": "code",
      "source": [
        "mylist=[1,2,3]\n",
        "print(mylist*2)"
      ],
      "metadata": {
        "colab": {
          "base_uri": "https://localhost:8080/"
        },
        "id": "HLF4ITmSDMyB",
        "outputId": "331ebf65-6044-4652-9140-29322fe556e2"
      },
      "execution_count": null,
      "outputs": [
        {
          "output_type": "stream",
          "name": "stdout",
          "text": [
            "[1, 2, 3, 1, 2, 3]\n"
          ]
        }
      ]
    },
    {
      "cell_type": "markdown",
      "metadata": {
        "id": "lNUVKe_HqOC1"
      },
      "source": [
        "#### Element-wise vs. Matrix Multiplication\n",
        "\n",
        "Multiplication of arrays with `*` is also element by element - it is not the dot product or matrix multiplication.\n",
        "\n",
        "There is a dedicated function `np.dot()` which computes the dot product for 1D arrays, performs matrix multiplication for 2D arrays, and calculates the tensor product for N-D arrays.\n",
        "\n",
        "Starting Python 3.5, the `@` operator was added to perform  matrix multiplication and is now the preferred method. For example, for 2D arrays, `A @ B` and `np.dot(A, B)` give the exact same result but `A @ B` is prefered.\n",
        "\n",
        "To be more clear, `@` performs the dot product of the rows of the first matrix with the columns of the second. This is the standard definition of matrix multiplication in linear algebra."
      ]
    },
    {
      "cell_type": "code",
      "execution_count": null,
      "metadata": {
        "id": "MMkMErCKqOC1",
        "outputId": "eca67806-ef08-4271-bda0-2d1e90c59017",
        "colab": {
          "base_uri": "https://localhost:8080/"
        }
      },
      "outputs": [
        {
          "output_type": "stream",
          "name": "stdout",
          "text": [
            "[1 2 3 4]\n",
            "[2 4 6 8]\n",
            "[ 2  8 18 32]\n"
          ]
        }
      ],
      "source": [
        "a = np.array([1,2,3,4],int)\n",
        "b = np.array([2,4,6,8],int)\n",
        "print(a)\n",
        "print(b)\n",
        "print(a*b) #This is not a dot product. It is multiplying element by element"
      ]
    },
    {
      "cell_type": "code",
      "execution_count": null,
      "metadata": {
        "id": "SwgbQ8i-qOC1",
        "outputId": "fac458b3-db55-4d3c-d533-2b5548d71178",
        "colab": {
          "base_uri": "https://localhost:8080/"
        }
      },
      "outputs": [
        {
          "output_type": "stream",
          "name": "stdout",
          "text": [
            "60\n",
            "60\n"
          ]
        }
      ],
      "source": [
        "a = np.array([1,2,3,4],int)\n",
        "b = np.array([2,4,6,8],int)\n",
        "print(np.dot(a,b)) # This is a dot product\n",
        "print(a@b) # This is also a dot product\n"
      ]
    },
    {
      "cell_type": "markdown",
      "metadata": {
        "id": "wAvOgcTSqOC1"
      },
      "source": [
        "2D arrays are similar. Multiplication with `*` is element by element. If you want to calculate the matrix product use `np.dot` or `@`."
      ]
    },
    {
      "cell_type": "code",
      "execution_count": null,
      "metadata": {
        "id": "sAP2aw4JqOC1",
        "outputId": "736bebe6-aee0-4429-cd65-1b837a2eb172",
        "colab": {
          "base_uri": "https://localhost:8080/"
        }
      },
      "outputs": [
        {
          "output_type": "stream",
          "name": "stdout",
          "text": [
            "[[ 0  1]\n",
            " [-1  0]]\n"
          ]
        }
      ],
      "source": [
        "a=np.array([[0,1],[-1,0]],int)\n",
        "print(a)"
      ]
    },
    {
      "cell_type": "code",
      "execution_count": null,
      "metadata": {
        "id": "IyglrtXcqOC1",
        "outputId": "e0558ecf-2c2d-4a1e-c8b7-8956548dac4f",
        "colab": {
          "base_uri": "https://localhost:8080/"
        }
      },
      "outputs": [
        {
          "output_type": "stream",
          "name": "stdout",
          "text": [
            "[[2 4]\n",
            " [0 1]]\n"
          ]
        }
      ],
      "source": [
        "b=np.array([[2,4],[0,1]],int)\n",
        "print(b)"
      ]
    },
    {
      "cell_type": "code",
      "execution_count": null,
      "metadata": {
        "id": "tfZID6gQqOC1",
        "outputId": "b93db1ed-092b-49b8-9d1d-ca3a4418e0ce",
        "colab": {
          "base_uri": "https://localhost:8080/"
        }
      },
      "outputs": [
        {
          "output_type": "stream",
          "name": "stdout",
          "text": [
            "[[0 4]\n",
            " [0 0]]\n"
          ]
        }
      ],
      "source": [
        "print(a*b)"
      ]
    },
    {
      "cell_type": "code",
      "execution_count": null,
      "metadata": {
        "id": "VYt2mKR0qOC1",
        "outputId": "04fc579a-40be-4c1b-ee30-a67edb4cdeba",
        "colab": {
          "base_uri": "https://localhost:8080/"
        }
      },
      "outputs": [
        {
          "output_type": "stream",
          "name": "stdout",
          "text": [
            "a:\n",
            " [[ 0  1]\n",
            " [-1  0]]\n",
            "b:\n",
            " [[2 4]\n",
            " [0 1]]\n",
            "np.dot(a,b):\n",
            " [[ 0  1]\n",
            " [-2 -4]]\n",
            "a@b:\n",
            " [[ 0  1]\n",
            " [-2 -4]]\n"
          ]
        }
      ],
      "source": [
        "print(f'a:\\n {a}')\n",
        "print(f'b:\\n {b}')\n",
        "print(f'np.dot(a,b):\\n {np.dot(a,b)}')\n",
        "print(f'a@b:\\n {a@b}')"
      ]
    },
    {
      "cell_type": "code",
      "execution_count": null,
      "metadata": {
        "id": "u1MmmVWhqOC1",
        "outputId": "9606ca97-d1a8-4159-9fb0-f726747be3fe",
        "colab": {
          "base_uri": "https://localhost:8080/"
        }
      },
      "outputs": [
        {
          "output_type": "stream",
          "name": "stdout",
          "text": [
            "a:\n",
            " [[ 0  1]\n",
            " [-1  0]]\n",
            "c:\n",
            " [10  2]\n",
            "np.dot(a,c):\n",
            " [  2 -10]\n",
            "a@c:\n",
            " [  2 -10]\n"
          ]
        }
      ],
      "source": [
        "c=np.array([10,2])\n",
        "print(f'a:\\n {a}')\n",
        "print(f'c:\\n {c}')\n",
        "print(f'np.dot(a,c):\\n {np.dot(a,c)}')\n",
        "print(f'a@c:\\n {a@c}')"
      ]
    },
    {
      "cell_type": "markdown",
      "source": [
        "Remember the rule of matrix multiplication: to find the element in the i-th row and j-th column of the resulting matrix, you calculate the dot product of the i-th row of the first matrix and the j-th column of the second matrix. For this to work, the number of columns in the first matrix must equal the number of rows in the second matrix. For example:"
      ],
      "metadata": {
        "id": "dCk0cFaNK1TR"
      }
    },
    {
      "cell_type": "code",
      "source": [
        "A = np.array([[1, 2, 3],\n",
        "              [4, 5, 6]])\n",
        "\n",
        "B = np.array([[10, 11],\n",
        "              [20, 21],\n",
        "              [30, 31]])\n",
        "\n",
        "C = A @ B\n",
        "\n",
        "print(C)"
      ],
      "metadata": {
        "colab": {
          "base_uri": "https://localhost:8080/"
        },
        "id": "EFrC0My_Ko3t",
        "outputId": "fd1b5cd5-d083-4d38-b369-8970a80c7fcb"
      },
      "execution_count": null,
      "outputs": [
        {
          "output_type": "stream",
          "name": "stdout",
          "text": [
            "[[140 146]\n",
            " [320 335]]\n"
          ]
        }
      ]
    },
    {
      "cell_type": "markdown",
      "source": [
        "#### Universal Functions (ufuncs) for array math\n",
        "\n",
        "A key feature of NumPy is its library of Universal Functions, or ufuncs. A ufunc is a function that operates on a NumPy array in an element-by-element fashion and is implemented in fast, compiled C code.\n",
        "\n",
        "This includes a massive range of mathematical functions, such as trigonometric (np.sin, np.cos), exponential (np.exp), and logarithmic (np.log) functions:\n",
        "\n",
        "https://numpy.org/doc/stable/reference/routines.math.html"
      ],
      "metadata": {
        "id": "CGf5PHvhIDgL"
      }
    },
    {
      "cell_type": "markdown",
      "source": [
        "Using NumPy math functions on a whole array is way faster than trying to use `map` and `math` functions or using a loop:"
      ],
      "metadata": {
        "id": "9xs10YcmJUZ_"
      }
    },
    {
      "cell_type": "code",
      "source": [
        "import numpy as np\n",
        "import math\n",
        "\n",
        "a=np.array([1,2,3,4],float)\n",
        "print(f'a: {a}')\n",
        "print(f'np.sqrt(a): {np.sqrt(a)}  <-----Fast')\n",
        "print(f'np.array(list(map(math.sqrt,a)),float): {np.array(list(map(math.sqrt,a)),float)}  <-----Slow')\n"
      ],
      "metadata": {
        "colab": {
          "base_uri": "https://localhost:8080/"
        },
        "id": "dwcELXLFJDLg",
        "outputId": "1b0af484-7ca2-473e-bbb3-0acefdad2df3"
      },
      "execution_count": null,
      "outputs": [
        {
          "output_type": "stream",
          "name": "stdout",
          "text": [
            "a: [1. 2. 3. 4.]\n",
            "np.sqrt(a): [1.         1.41421356 1.73205081 2.        ]  <-----Fast\n",
            "np.array(list(map(math.sqrt,a)),float): [1.         1.41421356 1.73205081 2.        ]  <-----Slow\n"
          ]
        }
      ]
    },
    {
      "cell_type": "code",
      "execution_count": null,
      "metadata": {
        "id": "wuwAJR2OqOC2",
        "outputId": "e2a7d7f3-a79d-4bd0-b15e-dda3917e6aa2",
        "colab": {
          "base_uri": "https://localhost:8080/"
        }
      },
      "outputs": [
        {
          "output_type": "stream",
          "name": "stdout",
          "text": [
            "[1.0, 1.4142135623730951, 1.7320508075688772, 2.0]\n"
          ]
        }
      ],
      "source": [
        "# in most languages you would iterate over the entire array and perform the math for each index separately\n",
        "sqrt_a = []\n",
        "for i in a:\n",
        "    x = math.sqrt(i)\n",
        "    sqrt_a.append(x)\n",
        "print(sqrt_a)"
      ]
    },
    {
      "cell_type": "code",
      "execution_count": null,
      "metadata": {
        "id": "oDIQokEdqOC2",
        "outputId": "8360eee7-107a-480b-898d-7238468ae17b",
        "colab": {
          "base_uri": "https://localhost:8080/"
        }
      },
      "outputs": [
        {
          "output_type": "stream",
          "name": "stdout",
          "text": [
            "[ 1.00000000e+00  7.07106781e-01  6.12323400e-17 -7.07106781e-01\n",
            " -1.00000000e+00 -7.07106781e-01 -1.83697020e-16  7.07106781e-01\n",
            "  6.12323400e-17]\n",
            "[ 0.00000000e+00  7.07106781e-01  1.00000000e+00  7.07106781e-01\n",
            "  1.22464680e-16 -7.07106781e-01 -1.00000000e+00 -7.07106781e-01\n",
            "  1.00000000e+00]\n",
            "[ 0.00000000e+00  1.00000000e+00  1.63312394e+16 -1.00000000e+00\n",
            " -1.22464680e-16  1.00000000e+00  5.44374645e+15 -1.00000000e+00\n",
            "  1.63312394e+16]\n",
            "[  0.  45.  90. 135. 180. 225. 270. 315.  90.]\n",
            "[ 1.    0.71  0.   -0.71 -1.   -0.71 -0.    0.71  0.  ]\n"
          ]
        }
      ],
      "source": [
        "# Trig example\n",
        "myarray = np.array([0, np.pi/4, np.pi/2, 3*np.pi/4, np.pi, 5*np.pi/4, 3*np.pi/2, 7*np.pi/4, 2*np.pi/4])\n",
        "print(np.cos(myarray))\n",
        "print(np.sin(myarray))\n",
        "print(np.tan(myarray))\n",
        "print(np.degrees(myarray))\n",
        "print(np.round(np.cos(myarray),decimals=2))\n"
      ]
    },
    {
      "cell_type": "markdown",
      "metadata": {
        "id": "sM89LUlfqOC6"
      },
      "source": [
        "## Indexing, Slicing, and Subsetting\n",
        "\n",
        "Accessing and modifying the data within an array is fundamental to NumPy. NumPy provides a powerful and flexible set of tools for selecting data that go far beyond what is possible with standard Python lists. In this section, we will cover everything from accessing single elements to advanced techniques like boolean masking and fancy indexing.\n"
      ]
    },
    {
      "cell_type": "markdown",
      "source": [
        "### Indexing\n",
        "\n",
        "For 1D arrays indexing has the same notation for lists and arrays:"
      ],
      "metadata": {
        "id": "IOlImNq3aP-z"
      }
    },
    {
      "cell_type": "code",
      "execution_count": null,
      "metadata": {
        "collapsed": true,
        "id": "UHIMrgsjqOC6",
        "colab": {
          "base_uri": "https://localhost:8080/"
        },
        "outputId": "341cc866-d557-4d3d-e3d7-887f49bbedbc"
      },
      "outputs": [
        {
          "output_type": "stream",
          "name": "stdout",
          "text": [
            "list_1d: [0, 1, 2, 3, 4, 5, 6, 7, 8, 9, 10]\n",
            "array_1d: [ 0  1  2  3  4  5  6  7  8  9 10]\n",
            "list_1d[0] = 0\n",
            "array_1d[0] = 0\n",
            "list_1d[-1] = 10\n",
            "array_1d[-1] = 10\n"
          ]
        }
      ],
      "source": [
        "# Example 1 - Accessing elements of 1d arrays\n",
        "\n",
        "# use list() and range() to create a list of evenly spaced values within an interval\n",
        "list_1d = list(range(0,11))\n",
        "# use arange() to create a numpy array consiting of evenly spaced values within an interval\n",
        "array_1d = np.arange(0,11)\n",
        "\n",
        "print(f'list_1d: {list_1d}')\n",
        "print(f'array_1d: {array_1d}')\n",
        "\n",
        "print(f'list_1d[0] = {list_1d[0]}')\n",
        "print(f'array_1d[0] = {array_1d[0]}')\n",
        "\n",
        "print(f'list_1d[-1] = {list_1d[-1]}')\n",
        "print(f'array_1d[-1] = {array_1d[-1]}')\n",
        "\n"
      ]
    },
    {
      "cell_type": "markdown",
      "source": [
        "For 2D arrays, accessing one element of the array is different than with a list of lists. With arrays we use a comma notation `myarray[row index, column index]`"
      ],
      "metadata": {
        "id": "sWG7E1rsZu83"
      }
    },
    {
      "cell_type": "code",
      "source": [
        "array_2d = np.arange(12).reshape(3, 4)\n",
        "list_2d = array_2d.tolist()\n",
        "\n",
        "print(f'list_2d:\\n {list_2d}')\n",
        "print(f'array_2d:\\n {array_2d}')\n",
        "\n",
        "print(f'\\nlist_2d[0] = {list_2d[0]}')\n",
        "print(f'array_2d[0] = {array_2d[0]}')\n",
        "\n",
        "print(f'\\nlist_2d[0][1] = {list_2d[0][1]}')\n",
        "print(f'array_2d[0,1] = {array_2d[0,1]}')\n",
        "\n",
        "print(f'\\nlist_2d[1][2] = {list_2d[1][2]}')\n",
        "print(f'array_2d[1,2] = {array_2d[1,2]}')\n"
      ],
      "metadata": {
        "colab": {
          "base_uri": "https://localhost:8080/"
        },
        "id": "E333TMjuYBoV",
        "outputId": "e1db8dd0-f4d9-4915-907f-44e7609d2d23"
      },
      "execution_count": null,
      "outputs": [
        {
          "output_type": "stream",
          "name": "stdout",
          "text": [
            "list_2d:\n",
            " [[0, 1, 2, 3], [4, 5, 6, 7], [8, 9, 10, 11]]\n",
            "array_2d:\n",
            " [[ 0  1  2  3]\n",
            " [ 4  5  6  7]\n",
            " [ 8  9 10 11]]\n",
            "\n",
            "list_2d[0] = [0, 1, 2, 3]\n",
            "array_2d[0] = [0 1 2 3]\n",
            "\n",
            "list_2d[0][1] = 1\n",
            "array_2d[0,1] = 1\n",
            "\n",
            "list_2d[1][2] = 6\n",
            "array_2d[1,2] = 6\n"
          ]
        }
      ]
    },
    {
      "cell_type": "markdown",
      "metadata": {
        "id": "EJoDVhoYqOC7"
      },
      "source": [
        "### Slicing\n",
        "\n",
        "Slicing allows you to select a contiguous range of elements using the `start:stop:step` syntax\n"
      ]
    },
    {
      "cell_type": "code",
      "source": [
        "# A 1D array\n",
        "a1 = np.arange(10, 20)\n",
        "print('a1')\n",
        "print(a1)"
      ],
      "metadata": {
        "colab": {
          "base_uri": "https://localhost:8080/"
        },
        "id": "xfy1WdEmVVqi",
        "outputId": "bd7dedd2-0d35-4d43-9dca-c355395e6e9d"
      },
      "execution_count": null,
      "outputs": [
        {
          "output_type": "stream",
          "name": "stdout",
          "text": [
            "a1\n",
            "[10 11 12 13 14 15 16 17 18 19]\n"
          ]
        }
      ]
    },
    {
      "cell_type": "markdown",
      "source": [
        "\n",
        "1D array slicing works just like a python list:"
      ],
      "metadata": {
        "id": "mPZmEGcOagJq"
      }
    },
    {
      "cell_type": "code",
      "source": [
        "# Get elements from index 2 up to (but not including) index 7\n",
        "print(f\"a1[2:7] = {a1[2:7]}\")\n",
        "\n",
        "# Get every second element from the beginning up to index 8\n",
        "print(f\"a1[:8:2] = {a1[:8:2]}\")\n",
        "\n",
        "# Get all elements from index 5 to the end\n",
        "print(f\"a1[5:] = {a1[5:]}\")\n",
        "\n",
        "# Select all elements of the array except for the last element\n",
        "print(f\"a1[:-1] = {a1[:-1]}\")\n",
        "\n",
        "# Select the whole array\n",
        "print(f\"a1[0:] = {a1[0:]}\")\n",
        "print(f\"a1[:] = {a1[:]}\")\n",
        "\n",
        "# Select every other element starting with index 0\n",
        "print(f\"a1[0::2]  = {a1[0::2]}\")\n",
        "\n",
        "# Select every other element starting with index 1\n",
        "print(f\"a1[1::2] = {a1[1::2]}\")\n",
        "\n",
        "# Reverse the array\n",
        "print(f\"a1[::-1] = {a1[::-1]}\")"
      ],
      "metadata": {
        "colab": {
          "base_uri": "https://localhost:8080/"
        },
        "id": "9358c2bQatCN",
        "outputId": "16552760-9e05-402d-866f-c1eb38e597ff"
      },
      "execution_count": null,
      "outputs": [
        {
          "output_type": "stream",
          "name": "stdout",
          "text": [
            "a1[2:7] = [12 13 14 15 16]\n",
            "a1[:8:2] = [10 12 14 16]\n",
            "a1[5:] = [15 16 17 18 19]\n",
            "a1[:-1] = [10 11 12 13 14 15 16 17 18]\n",
            "a1[0:] = [10 11 12 13 14 15 16 17 18 19]\n",
            "a1[:] = [10 11 12 13 14 15 16 17 18 19]\n",
            "a1[0::2]  = [10 12 14 16 18]\n",
            "a1[1::2] = [11 13 15 17 19]\n",
            "a1[::-1] = [19 18 17 16 15 14 13 12 11 10]\n"
          ]
        }
      ]
    },
    {
      "cell_type": "markdown",
      "metadata": {
        "collapsed": true,
        "id": "mXYbg-R9qOC7"
      },
      "source": [
        "### Multidimensional array slicing\n",
        "\n",
        "Here we use a comma (unlike lists) to provide a separate slice for each dimension `[row_slice, column_slice]`."
      ]
    },
    {
      "cell_type": "code",
      "execution_count": null,
      "metadata": {
        "collapsed": true,
        "id": "kzfRXO0SqOC7"
      },
      "outputs": [],
      "source": [
        "A = np.array([[ 0,  1,  2,  3,  4,  5],\n",
        "              [10, 11, 12, 13, 14, 15],\n",
        "              [20, 21, 22, 23, 24, 25],\n",
        "              [30, 31, 32, 33, 34, 35],\n",
        "              [40, 41, 42, 43, 44, 45],\n",
        "              [50, 51, 52, 53, 54, 55]])"
      ]
    },
    {
      "cell_type": "code",
      "execution_count": null,
      "metadata": {
        "id": "Ts0iT_zsqOC7",
        "outputId": "01dc7641-caba-497d-d534-917519e02216",
        "colab": {
          "base_uri": "https://localhost:8080/"
        }
      },
      "outputs": [
        {
          "output_type": "execute_result",
          "data": {
            "text/plain": [
              "array([[ 0,  1,  2,  3,  4,  5],\n",
              "       [10, 11, 12, 13, 14, 15],\n",
              "       [20, 21, 22, 23, 24, 25],\n",
              "       [30, 31, 32, 33, 34, 35],\n",
              "       [40, 41, 42, 43, 44, 45],\n",
              "       [50, 51, 52, 53, 54, 55]])"
            ]
          },
          "metadata": {},
          "execution_count": 55
        }
      ],
      "source": [
        "A"
      ]
    },
    {
      "cell_type": "code",
      "execution_count": null,
      "metadata": {
        "id": "4S60tCPNqOC7",
        "outputId": "cefd4400-8556-4b72-f479-d6ec395b5835",
        "colab": {
          "base_uri": "https://localhost:8080/"
        }
      },
      "outputs": [
        {
          "output_type": "execute_result",
          "data": {
            "text/plain": [
              "array([ 0, 10, 20, 30, 40, 50])"
            ]
          },
          "metadata": {},
          "execution_count": 56
        }
      ],
      "source": [
        "A[:,0] # The 1st column   # [row, column] # [all rows, column 0]"
      ]
    },
    {
      "cell_type": "code",
      "execution_count": null,
      "metadata": {
        "id": "26EK9nNNqOC7",
        "outputId": "8b080b63-5d95-4c6b-f59a-fd2d407f23f2",
        "colab": {
          "base_uri": "https://localhost:8080/"
        }
      },
      "outputs": [
        {
          "output_type": "execute_result",
          "data": {
            "text/plain": [
              "array([ 1, 11, 21, 31, 41, 51])"
            ]
          },
          "metadata": {},
          "execution_count": 57
        }
      ],
      "source": [
        "A[:,1] # The 2nd column"
      ]
    },
    {
      "cell_type": "code",
      "execution_count": null,
      "metadata": {
        "id": "a6a6tjAkqOC7",
        "outputId": "d7841e8e-05b3-4f63-a73a-0a6f06ea8f8c",
        "colab": {
          "base_uri": "https://localhost:8080/"
        }
      },
      "outputs": [
        {
          "output_type": "execute_result",
          "data": {
            "text/plain": [
              "array([ 1, 11, 21])"
            ]
          },
          "metadata": {},
          "execution_count": 58
        }
      ],
      "source": [
        "A[0:3,1] # The first 3 rows of the 2nd column"
      ]
    },
    {
      "cell_type": "code",
      "execution_count": null,
      "metadata": {
        "id": "qUBlqAtpqOC7",
        "outputId": "5a3a8fd7-014f-4c78-8b07-7a94d299d0a8",
        "colab": {
          "base_uri": "https://localhost:8080/"
        }
      },
      "outputs": [
        {
          "output_type": "execute_result",
          "data": {
            "text/plain": [
              "array([20, 21, 22, 23, 24, 25])"
            ]
          },
          "metadata": {},
          "execution_count": 59
        }
      ],
      "source": [
        "A[2,:] # The third row"
      ]
    },
    {
      "cell_type": "code",
      "execution_count": null,
      "metadata": {
        "id": "Ll78T3XuqOC7",
        "outputId": "3d5ea9cc-3009-4980-cf99-f72afcdbc835",
        "colab": {
          "base_uri": "https://localhost:8080/"
        }
      },
      "outputs": [
        {
          "output_type": "execute_result",
          "data": {
            "text/plain": [
              "array([[ 0,  1,  2],\n",
              "       [10, 11, 12],\n",
              "       [20, 21, 22]])"
            ]
          },
          "metadata": {},
          "execution_count": 60
        }
      ],
      "source": [
        "A[:3,:3] # subarray - top left # [row 1-3, column 1-3]"
      ]
    },
    {
      "cell_type": "code",
      "execution_count": null,
      "metadata": {
        "id": "x1Bd4bVNqOC8",
        "outputId": "42f05238-df63-4c42-f6fe-067017b6e5a7",
        "colab": {
          "base_uri": "https://localhost:8080/"
        }
      },
      "outputs": [
        {
          "output_type": "execute_result",
          "data": {
            "text/plain": [
              "array([[30, 31, 32],\n",
              "       [40, 41, 42],\n",
              "       [50, 51, 52]])"
            ]
          },
          "metadata": {},
          "execution_count": 61
        }
      ],
      "source": [
        "A[3:,:3] # subarray - bottomleft # [row 4-end, column 0-3]"
      ]
    },
    {
      "cell_type": "code",
      "execution_count": null,
      "metadata": {
        "id": "zMRRh9MQqOC8",
        "outputId": "210b3ede-2b80-4d4b-d26e-8c19753d8d25",
        "colab": {
          "base_uri": "https://localhost:8080/"
        }
      },
      "outputs": [
        {
          "output_type": "execute_result",
          "data": {
            "text/plain": [
              "array([[ 0,  2,  4],\n",
              "       [20, 22, 24],\n",
              "       [40, 42, 44]])"
            ]
          },
          "metadata": {},
          "execution_count": 62
        }
      ],
      "source": [
        "A[::2, ::2] # subarray - every second element starting from index 0-0"
      ]
    },
    {
      "cell_type": "code",
      "execution_count": null,
      "metadata": {
        "id": "hlCZAlUEqOC8",
        "outputId": "b880dfba-6126-400e-8376-691d8968d344",
        "colab": {
          "base_uri": "https://localhost:8080/"
        }
      },
      "outputs": [
        {
          "output_type": "execute_result",
          "data": {
            "text/plain": [
              "array([[-3,  0],\n",
              "       [ 0,  3],\n",
              "       [ 0,  3]])"
            ]
          },
          "metadata": {},
          "execution_count": 90
        }
      ],
      "source": [
        "# every second row starting from index 1,\n",
        "#    and every third column starting from index 1.\n",
        "A[1::2,1::3]"
      ]
    },
    {
      "cell_type": "markdown",
      "source": [
        "Note: Slicing a NumPy array creates a view, which is a window into the original data. Modifying the view will modify the original array. Slicing a Python list creates a copy, and modifying the copy will not affect the original."
      ],
      "metadata": {
        "id": "ULvkqdYccKYx"
      }
    },
    {
      "cell_type": "code",
      "source": [
        "# A 2D array\n",
        "a2 = np.array([[10, 20, 30, 40],\n",
        "               [50, 60, 70, 80],\n",
        "               [90, 100, 110, 120]])\n"
      ],
      "metadata": {
        "id": "-mJ_uuuwcDL2"
      },
      "execution_count": null,
      "outputs": []
    },
    {
      "cell_type": "code",
      "source": [
        "# --- NumPy View ---\n",
        "print(\"--- NumPy (View) ---\")\n",
        "# Create a slice of the first row\n",
        "a2_slice = a2[0, :]\n",
        "print(f\"Original first row of a2: {a2[0]}\")\n",
        "\n",
        "# Modify the slice\n",
        "a2_slice[0] = 999\n",
        "print(f\"Modified slice: {a2_slice}\")\n",
        "print(f\"The original array a2 has also been changed:\\n{a2}\\n\")\n",
        "\n",
        "\n",
        "# --- Python List Copy ---\n",
        "print(\"--- Python List (Copy) ---\")\n",
        "my_list = [[1, 2], [3, 4]]\n",
        "# Create a slice of the first row\n",
        "list_slice = my_list[0][:] # Note: a full slice [:] is needed to create the copy\n",
        "print(f\"Original first row of my_list: {my_list[0]}\")\n",
        "\n",
        "# Modify the slice\n",
        "list_slice[0] = 999\n",
        "print(f\"Modified slice: {list_slice}\")\n",
        "print(f\"The original list is unchanged: {my_list}\")"
      ],
      "metadata": {
        "colab": {
          "base_uri": "https://localhost:8080/"
        },
        "id": "GwyjFPn2cO0X",
        "outputId": "63377e67-d728-4d3b-fd8c-563fd8fedd65"
      },
      "execution_count": null,
      "outputs": [
        {
          "output_type": "stream",
          "name": "stdout",
          "text": [
            "--- NumPy (View) ---\n",
            "Original first row of a2: [10 20 30 40]\n",
            "Modified slice: [999  20  30  40]\n",
            "The original array a2 has also been changed:\n",
            "[[999  20  30  40]\n",
            " [ 50  60  70  80]\n",
            " [ 90 100 110 120]]\n",
            "\n",
            "--- Python List (Copy) ---\n",
            "Original first row of my_list: [1, 2]\n",
            "Modified slice: [999, 2]\n",
            "The original list is unchanged: [[1, 2], [3, 4]]\n"
          ]
        }
      ]
    },
    {
      "cell_type": "markdown",
      "source": [
        "If you don't want to modify the original you can make a copy with copy()"
      ],
      "metadata": {
        "id": "ab2nq9bLcCPc"
      }
    },
    {
      "cell_type": "code",
      "source": [
        "a = np.arange(10)\n",
        "\n",
        "# my_view is a view that shares data with 'a'\n",
        "my_view = a[0:5]\n",
        "\n",
        "# my_copy is a new, independent array\n",
        "my_copy = a[0:5].copy()\n",
        "\n",
        "# Modifying the copy does not affect the original\n",
        "my_copy[0] = 99\n",
        "print(f\"The original array is unchanged: {a}\")\n",
        "\n",
        "# Modifying the view DOES affect the original\n",
        "my_view[0] = 99\n",
        "print(f\"The original array is now changed: {a}\")"
      ],
      "metadata": {
        "colab": {
          "base_uri": "https://localhost:8080/"
        },
        "id": "1G7QfwmO7U5Z",
        "outputId": "97dcee1b-e1ae-4f55-fecc-3f16b2205b69"
      },
      "execution_count": null,
      "outputs": [
        {
          "output_type": "stream",
          "name": "stdout",
          "text": [
            "The original array is unchanged: [0 1 2 3 4 5 6 7 8 9]\n",
            "The original array is now changed: [99  1  2  3  4  5  6  7  8  9]\n"
          ]
        }
      ]
    },
    {
      "cell_type": "markdown",
      "source": [
        "### Subsetting with Conditions and Lists\n",
        "\n",
        "Beyond basic slicing, NumPy offers more advanced ways to select data based on conditions or specific index lists.\n",
        "\n"
      ],
      "metadata": {
        "id": "jrg_u--B7xPd"
      }
    },
    {
      "cell_type": "markdown",
      "source": [
        "#### Boolean Indexing (Masking)\n",
        "\n",
        "A common task in data analysis is to select a subset of data that matches a certain condition. NumPy makes this easy with a technique called boolean indexing or masking. The process involves two main steps:\n",
        "\n",
        "*Step 1: Create a Boolean Mask*\n",
        "\n",
        "First, you create a boolean array, called a mask, by applying a condition directly to your array. NumPy performs the comparison for each element and returns a new array of True or False values.\n",
        "\n",
        "`boolean_array = original_array>5`\n",
        "\n",
        "*Step 2: Use the Mask to Select Data*\n",
        "\n",
        "Next, you use this mask inside the square brackets of the original array. This creates a new array containing only the elements that correspond to a True position in your mask.\n",
        "\n",
        "`selected_array = original_array[boolean_array]`\n",
        "\n",
        "In the termenology of NumPy, your boolean array is a \"mask\"."
      ],
      "metadata": {
        "id": "dSU1t58L7_su"
      }
    },
    {
      "cell_type": "code",
      "source": [
        "original_array = np.array([15,2,6,34,22,7])\n",
        "boolean_array = original_array>10\n",
        "selected_array = original_array[boolean_array]\n",
        "print(f'original_array: {original_array}')\n",
        "print(f'boolean_array: {boolean_array}')\n",
        "print(f'selected_array: {selected_array}')"
      ],
      "metadata": {
        "colab": {
          "base_uri": "https://localhost:8080/"
        },
        "id": "RCHzENzC94MW",
        "outputId": "594b3634-16e4-4fb4-86c8-f06a7f73fb77"
      },
      "execution_count": null,
      "outputs": [
        {
          "output_type": "stream",
          "name": "stdout",
          "text": [
            "original_array: [15  2  6 34 22  7]\n",
            "boolean_array: [ True False False  True  True False]\n",
            "selected_array: [15 34 22]\n"
          ]
        }
      ]
    },
    {
      "cell_type": "markdown",
      "source": [
        "While it is helpful to think of boolean masking as a two step process, one often accomplishes it in one line:"
      ],
      "metadata": {
        "id": "vQsNsXax_pLf"
      }
    },
    {
      "cell_type": "code",
      "source": [
        "selected_array = original_array[original_array>10]\n",
        "print(f'selected_array: {selected_array}')"
      ],
      "metadata": {
        "colab": {
          "base_uri": "https://localhost:8080/"
        },
        "id": "Fm_usEfK_o0C",
        "outputId": "8e30d7c6-10fc-4582-e4dd-c7ab96989816"
      },
      "execution_count": null,
      "outputs": [
        {
          "output_type": "stream",
          "name": "stdout",
          "text": [
            "selected_array: [15 34 22]\n"
          ]
        }
      ]
    },
    {
      "cell_type": "code",
      "source": [
        "# A 2D array\n",
        "a2 = np.array([[10, 20, 30, 40],\n",
        "               [50, 60, 70, 80],\n",
        "               [90, 100, 110, 120]])\n"
      ],
      "metadata": {
        "id": "4bPBI9SF79nY"
      },
      "execution_count": null,
      "outputs": []
    },
    {
      "cell_type": "code",
      "source": [
        "# Another example\n",
        "\n",
        "# Create a boolean mask for all values greater than 60\n",
        "mask = a2 > 60\n",
        "print(f\"The boolean mask:\\n{mask}\\n\")\n",
        "\n",
        "# Use the mask to select only the values that meet the condition\n",
        "high_values = a2[mask]\n",
        "print(f\"Values greater than 60: {high_values}\")"
      ],
      "metadata": {
        "colab": {
          "base_uri": "https://localhost:8080/"
        },
        "id": "JsxSwBVz7w7T",
        "outputId": "cace2980-45ca-4181-c9aa-33507653684a"
      },
      "execution_count": null,
      "outputs": [
        {
          "output_type": "stream",
          "name": "stdout",
          "text": [
            "The boolean mask:\n",
            "[[False False False False]\n",
            " [False False  True  True]\n",
            " [ True  True  True  True]]\n",
            "\n",
            "Values greater than 60: [ 70  80  90 100 110 120]\n"
          ]
        }
      ]
    },
    {
      "cell_type": "code",
      "source": [
        "# Another example\n",
        "a2 = np.array([[10, 20, 30, 40],\n",
        "               [50, 60, 70, 80],\n",
        "               [90, 100, 110, 120]])\n",
        "\n",
        "# mask \"by-hand\"\n",
        "mask = np.array([[True, False, True, False],\n",
        "                 [False, True, False, False],\n",
        "                 [False, False, True, False]])\n",
        "\n",
        "# Using the mask always creates a 1D array of the selected values\n",
        "selected_values = a2[mask]\n",
        "\n",
        "print(f\"The shape of a2 is: {a2.shape}\")\n",
        "print(f\"The selected values are: {selected_values}\")\n",
        "print(f\"The shape of selected_values is: {selected_values.shape}\")"
      ],
      "metadata": {
        "colab": {
          "base_uri": "https://localhost:8080/"
        },
        "id": "VNcsf3uJBrPp",
        "outputId": "6fbf73ff-56c9-4548-ae64-e8afd464a36e"
      },
      "execution_count": null,
      "outputs": [
        {
          "output_type": "stream",
          "name": "stdout",
          "text": [
            "The shape of a2 is: (3, 4)\n",
            "The selected values are: [ 10  30  60 110]\n",
            "The shape of selected_values is: (4,)\n"
          ]
        }
      ]
    },
    {
      "cell_type": "code",
      "source": [
        "# One last Example\n",
        "#  Using a mask from one array to select from another\n",
        "\n",
        "# A 2D array of temperature readings\n",
        "temps = np.array([[25, 105, 30],\n",
        "                  [28,  98, 29],\n",
        "                  [110, 35, 27]])\n",
        "\n",
        "# A 2D array of pressure readings at the same locations\n",
        "pressures = np.array([[1.0, 1.9, 1.1],\n",
        "                      [1.1, 1.8, 1.0],\n",
        "                      [2.1, 1.2, 1.0]])\n",
        "\n",
        "# Create the boolean mask\n",
        "high_temp_mask = (temps > 100)\n",
        "print(f\"The boolean mask for high temperatures:\\n{high_temp_mask}\\n\")\n",
        "\n",
        "# Here we are using the high temperature mask on the pressure data\n",
        "#  so we can check the pressures when temperature is high\n",
        "pressure_values_from_masking = pressures[high_temp_mask]\n",
        "print(f\"Result from Boolean Masking (the values):\\n{pressure_values_from_masking}\\n\")\n"
      ],
      "metadata": {
        "colab": {
          "base_uri": "https://localhost:8080/"
        },
        "id": "S8R5i2y1FRM6",
        "outputId": "26c66b0c-8137-49b7-bb28-b4eb5488a99a"
      },
      "execution_count": null,
      "outputs": [
        {
          "output_type": "stream",
          "name": "stdout",
          "text": [
            "The boolean mask for high temperatures:\n",
            "[[False  True False]\n",
            " [False False False]\n",
            " [ True False False]]\n",
            "\n",
            "Result from Boolean Masking (the values):\n",
            "[1.9 2.1]\n",
            "\n"
          ]
        }
      ]
    },
    {
      "cell_type": "markdown",
      "source": [
        "####  Finding Indices with np.where()\n",
        "\n",
        "Sometimes you don't want the values that satisfy a condition, but rather their locations or indices. This is useful when you need to know the position of specific data points. The np.where() function is the primary tool for this task.\n",
        "\n",
        "When given a single argument—a boolean array (or mask)—np.where() returns a tuple of arrays containing the indices of all the True elements."
      ],
      "metadata": {
        "id": "I1lfZntX8GmI"
      }
    },
    {
      "cell_type": "code",
      "source": [
        "original_array = np.array([1, 15, 4, 20, 9, 30])\n",
        "\n",
        "# Create a mask ( a boolean array)\n",
        "mask = original_array > 10\n",
        "print(f\"The boolean mask is: {mask}\\n\")\n",
        "\n",
        "# np.where() returns the indices where the mask is True\n",
        "indices = np.where(mask)\n",
        "\n",
        "# For a 1D array, the result is a tuple with one array of indices\n",
        "print(f\"The indices of elements > 10 are: {indices[0]}\")"
      ],
      "metadata": {
        "colab": {
          "base_uri": "https://localhost:8080/"
        },
        "id": "y1P_SujLA14V",
        "outputId": "d08858b0-0a74-4b86-ad32-da9c40690cd5"
      },
      "execution_count": null,
      "outputs": [
        {
          "output_type": "stream",
          "name": "stdout",
          "text": [
            "The boolean mask is: [False  True False  True False  True]\n",
            "\n",
            "The indices of elements > 10 are: [1 3 5]\n"
          ]
        }
      ]
    },
    {
      "cell_type": "code",
      "source": [
        "# A 2D array\n",
        "a2 = np.array([[10, 20, 30, 40],\n",
        "               [50, 60, 70, 80],\n",
        "               [90, 100, 110, 120]])"
      ],
      "metadata": {
        "id": "xFMZj9dQ8T2T"
      },
      "execution_count": null,
      "outputs": []
    },
    {
      "cell_type": "code",
      "source": [
        "# Use np.where to find the indices of all values greater than 60\n",
        "indices = np.where(a2 > 60)\n",
        "print(f\"Indices of values > 60: {indices}\\n\")\n",
        "\n",
        "# The result is a tuple of (row_indices, col_indices)\n",
        "# This means the values are at coordinates (1, 2), (1, 3), (2, 0), etc.\n",
        "\n",
        "# np.where can also be used to choose between two values based on a condition\n",
        "# np.where(condition, value_if_true, value_if_false)\n",
        "capped_a2 = np.where(a2 > 100, 100, a2) # Cap all values at 100\n",
        "print(f\"Array with values capped at 100:\\n{capped_a2}\")"
      ],
      "metadata": {
        "colab": {
          "base_uri": "https://localhost:8080/"
        },
        "id": "1GKfkqEV8Iyw",
        "outputId": "441fe752-a6a0-49f5-b09c-66a2d0c77ec3"
      },
      "execution_count": null,
      "outputs": [
        {
          "output_type": "stream",
          "name": "stdout",
          "text": [
            "Indices of values > 60: (array([1, 1, 2, 2, 2, 2]), array([2, 3, 0, 1, 2, 3]))\n",
            "\n",
            "Array with values capped at 100:\n",
            "[[ 10  20  30  40]\n",
            " [ 50  60  70  80]\n",
            " [ 90 100 100 100]]\n"
          ]
        }
      ]
    },
    {
      "cell_type": "markdown",
      "source": [
        "#### Selecting Elements by Index List (Fancy Indexing)\n",
        "\n",
        "Finally, NumPy allows you to select elements using a list or another array of integer indices. This powerful technique is called fancy indexing. It allows you to select any number of elements in any order, even picking the same element multiple times.\n",
        "\n",
        "Unlike basic slicing which creates a view, fancy indexing always creates a copy of the data."
      ],
      "metadata": {
        "id": "-zVw1fEY8Nqd"
      }
    },
    {
      "cell_type": "code",
      "source": [
        "# An array of 10 sensor readings\n",
        "sensor_data = np.array([10, 20, 30, 40, 50, 60, 70, 80, 90, 100])\n",
        "\n",
        "# An array of the specific indices we want to retrieve\n",
        "indices_to_get = np.array([0, 4, 8, 2, 2]) # Note: we are selecting index 2 twice\n",
        "\n",
        "# Use the list of indices to select the elements\n",
        "selected_data = sensor_data[indices_to_get]\n",
        "\n",
        "print(f\"The original data is: {sensor_data}\")\n",
        "print(f\"The selected data is: {selected_data}\")"
      ],
      "metadata": {
        "colab": {
          "base_uri": "https://localhost:8080/"
        },
        "id": "-t8Xc0fjBVu0",
        "outputId": "be13b776-f27a-4e4c-9327-67c0f4892a1b"
      },
      "execution_count": null,
      "outputs": [
        {
          "output_type": "stream",
          "name": "stdout",
          "text": [
            "The original data is: [ 10  20  30  40  50  60  70  80  90 100]\n",
            "The selected data is: [10 50 90 30 30]\n"
          ]
        }
      ]
    },
    {
      "cell_type": "code",
      "source": [
        "# A 1D array\n",
        "a1 = np.arange(10, 20)\n",
        "# A 2D array\n",
        "a2 = np.array([[10, 20, 30, 40],\n",
        "               [50, 60, 70, 80],\n",
        "               [90, 100, 110, 120]])"
      ],
      "metadata": {
        "id": "47qEd5q_8evs"
      },
      "execution_count": null,
      "outputs": []
    },
    {
      "cell_type": "code",
      "source": [
        "# Select the elements at indices 8, 2, and 5 from our 1D array\n",
        "selected_elements = a1[[8, 2, 5]]\n",
        "print(f\"Selected elements from a1: {selected_elements}\\n\")\n",
        "\n",
        "\n",
        "# You can also use fancy indexing on 2D arrays\n",
        "# Get the rows at index 2, 0, and then 2 again\n",
        "selected_rows = a2[[2, 0, 2]]\n",
        "print(f\"Selected rows from a2:\\n{selected_rows}\")"
      ],
      "metadata": {
        "colab": {
          "base_uri": "https://localhost:8080/"
        },
        "id": "tcKDVkN98NDq",
        "outputId": "97c680d0-2dc7-4948-8ee6-a2a993e2cd95"
      },
      "execution_count": null,
      "outputs": [
        {
          "output_type": "stream",
          "name": "stdout",
          "text": [
            "Selected elements from a1: [18 12 15]\n",
            "\n",
            "Selected rows from a2:\n",
            "[[ 90 100 110 120]\n",
            " [ 10  20  30  40]\n",
            " [ 90 100 110 120]]\n"
          ]
        }
      ]
    },
    {
      "cell_type": "markdown",
      "source": [
        "It's a common pattern to first use `np.where()` to find the indices of elements that satisfy a condition, and then use those indices with fancy indexing to create a subset of an array.\n",
        "\n",
        "However, if your only goal is to create a subset from that same array, the more direct and readable method is to use boolean masking."
      ],
      "metadata": {
        "id": "1GLWJRMFCaUA"
      }
    },
    {
      "cell_type": "code",
      "source": [
        "# If you only care about the values\n",
        "#   Use boolean masking (more direct)\n",
        "\n",
        "data = np.array([10, 50, 20, 80, 40])\n",
        "subset = data[data > 30] # The condition is used directly as the index\n",
        "print(f\"Subset using boolean mask: {subset}\")"
      ],
      "metadata": {
        "colab": {
          "base_uri": "https://localhost:8080/"
        },
        "id": "8j39eEtyC-fA",
        "outputId": "3a2a3399-eaec-427f-c9e0-e3cb186dccda"
      },
      "execution_count": null,
      "outputs": [
        {
          "output_type": "stream",
          "name": "stdout",
          "text": [
            "Subset using boolean mask: [50 80 40]\n"
          ]
        }
      ]
    },
    {
      "cell_type": "code",
      "source": [
        "# If you also want the indeces in addtion to the values\n",
        "#   then use np.where() + Fancy Indexing\n",
        "\n",
        "# Get the indices\n",
        "indices = np.where(data > 30)\n",
        "# Step 2: Use the indices to get the values\n",
        "subset = data[indices]\n",
        "print(f\"Subset using np.where and fancy indexing: {subset}\")"
      ],
      "metadata": {
        "colab": {
          "base_uri": "https://localhost:8080/"
        },
        "id": "Hr7aVlXsDIVu",
        "outputId": "71623ce0-7d4e-4c57-8c0b-8490c1580f73"
      },
      "execution_count": null,
      "outputs": [
        {
          "output_type": "stream",
          "name": "stdout",
          "text": [
            "Subset using np.where and fancy indexing: [50 80 40]\n"
          ]
        }
      ]
    },
    {
      "cell_type": "markdown",
      "source": [
        "Example: Here is a case where np.where() + fancy indexing can be used together to select from multiple arrays and give specific coordinates of an issue\n",
        "\n",
        "Imagine you are monitoring a small server farm. You have data from a grid of sensors arranged in racks (rows) and server positions (columns). You are collecting temperature, CPU load, and you also have a map of the server IDs.\n",
        "\n",
        "Your goal is to identify any servers that are overheating (temperature > 90°C) and find out which specific servers they are and what their CPU load is."
      ],
      "metadata": {
        "id": "oeisNfnFFExr"
      }
    },
    {
      "cell_type": "code",
      "source": [
        "import numpy as np\n",
        "\n",
        "# Data for a 3x4 server rack\n",
        "# Each row is a rack, each column is a server position\n",
        "\n",
        "# Array 1: Temperature readings (°C)\n",
        "temperatures = np.array([\n",
        "    [82, 85, 86, 81],\n",
        "    [91, 95, 89, 88], # A hotspot in this rack\n",
        "    [79, 81, 83, 80]\n",
        "])\n",
        "\n",
        "# Array 2: CPU load (%) at the same locations\n",
        "cpu_loads = np.array([\n",
        "    [70, 75, 72, 68],\n",
        "    [92, 98, 85, 81], # Note the high CPU load corresponds to the hotspot\n",
        "    [65, 68, 71, 66]\n",
        "])\n",
        "\n",
        "# Array 3: A map of server IDs (strings)\n",
        "server_ids = np.array([\n",
        "    ['R0-S0', 'R0-S1', 'R0-S2', 'R0-S3'],\n",
        "    ['R1-S0', 'R1-S1', 'R1-S2', 'R1-S3'],\n",
        "    ['R2-S0', 'R2-S1', 'R2-S2', 'R2-S3']\n",
        "])"
      ],
      "metadata": {
        "id": "81TnpD9gE4bv"
      },
      "execution_count": null,
      "outputs": []
    },
    {
      "cell_type": "code",
      "source": [
        "# Step 1: Use np.where() to find the indices (the \"where\") of overheating servers.\n",
        "hotspot_indices = np.where(temperatures > 90)\n",
        "\n",
        "print(f\"The raw indices of the hot spots are: {hotspot_indices}\\n\")\n",
        "\n",
        "# Step 2: Use these indices with fancy indexing to look up data in the other arrays.\n",
        "hot_server_ids = server_ids[hotspot_indices]\n",
        "hot_server_loads = cpu_loads[hotspot_indices]\n",
        "hot_server_temps = temperatures[hotspot_indices]\n",
        "\n",
        "# Step 3: Report the findings in a readable way.\n",
        "print(\"--- Overheating Server Alert ---\")\n",
        "for i in range(len(hot_server_ids)):\n",
        "    server = hot_server_ids[i]\n",
        "    temp = hot_server_temps[i]\n",
        "    load = hot_server_loads[i]\n",
        "    print(f\" > Alert for Server '{server}': Temperature is {temp}°C with CPU load at {load}%.\")\n"
      ],
      "metadata": {
        "colab": {
          "base_uri": "https://localhost:8080/"
        },
        "id": "r45MHrNZE8gg",
        "outputId": "9fc2aad5-d6bb-4af7-f1b7-dcc65b7e4f51"
      },
      "execution_count": null,
      "outputs": [
        {
          "output_type": "stream",
          "name": "stdout",
          "text": [
            "The raw indices of the hot spots are: (array([1, 1]), array([0, 1]))\n",
            "\n",
            "--- Overheating Server Alert ---\n",
            " > Alert for Server 'R1-S0': Temperature is 91°C with CPU load at 92%.\n",
            " > Alert for Server 'R1-S1': Temperature is 95°C with CPU load at 98%.\n"
          ]
        }
      ]
    },
    {
      "cell_type": "markdown",
      "source": [
        "We used one type of data (temperature) to find locations of interest. We then used those exact same locations to cross-reference and retrieve critical, related information (server IDs and CPU loads) from other datasets. Extracting explicit indices with np.where() makes this possible."
      ],
      "metadata": {
        "id": "nSbVdQrQE9p1"
      }
    },
    {
      "cell_type": "markdown",
      "source": [
        "### Exercises - Indexing, slicing, and masking"
      ],
      "metadata": {
        "id": "Ecg7rHbEH4A8"
      }
    },
    {
      "cell_type": "markdown",
      "source": [
        "*Exercise 1*\n",
        "\n",
        "The following 5x5 array, heat_map, represents temperature readings on a metal plate. The center of the plate is the hottest.\n",
        "\n",
        "1. Select and print all the data from the third row (at index 2).\n",
        "\n",
        "2. Select and print all the data from the last column.\n",
        "\n",
        "3. Select and print the 2x2 sub-array from the top-left corner of the heat map.\n",
        "\n",
        "4. Select and print the central 3x3 \"hot core\" of the heat map, excluding the cooler outer border."
      ],
      "metadata": {
        "id": "y0-cKVg1H1cJ"
      }
    },
    {
      "cell_type": "code",
      "source": [
        "import numpy as np\n",
        "\n",
        "heat_map = np.array([\n",
        "    [10, 12, 15, 13, 11],\n",
        "    [13, 40, 45, 42, 14],\n",
        "    [16, 48, 50, 46, 17],\n",
        "    [14, 41, 44, 43, 15],\n",
        "    [11, 13, 16, 14, 12]\n",
        "])"
      ],
      "metadata": {
        "id": "VhAgRW1gH8au"
      },
      "execution_count": null,
      "outputs": []
    },
    {
      "cell_type": "code",
      "source": [],
      "metadata": {
        "id": "y76pZf9gH9Rq"
      },
      "execution_count": null,
      "outputs": []
    },
    {
      "cell_type": "markdown",
      "source": [
        "*Exercise 2*\n",
        "\n",
        "You are analyzing the trajectory of a projectile thrown vertically into the air. The following NumPy array, velocities, contains the vertical velocity (in m/s) of the projectile recorded at one-second intervals. A positive velocity means the projectile is moving upward, and a negative velocity means it is moving downward.\n",
        "\n",
        "1. Create a boolean mask to identify all the time steps where the projectile was moving upward (velocity > 0).\n",
        "\n",
        "2. Use this mask to create a new array called upward_velocities that contains only the positive velocity values.\n",
        "\n",
        "3. In a single line of code, find and print all the velocities where the projectile's speed (the absolute value of its velocity) was greater than 20 m/s."
      ],
      "metadata": {
        "id": "A5t5CrmyHVc-"
      }
    },
    {
      "cell_type": "code",
      "source": [
        "import numpy as np\n",
        "\n",
        "# Vertical velocity (m/s) of a projectile over time\n",
        "velocities = np.array([29.4, 19.6, 9.8, 0.0, -9.8, -19.6, -29.4, -39.2])"
      ],
      "metadata": {
        "id": "jpZA0h1fHkK4"
      },
      "execution_count": null,
      "outputs": []
    },
    {
      "cell_type": "code",
      "source": [],
      "metadata": {
        "id": "VfkPvpWzHhb5"
      },
      "execution_count": null,
      "outputs": []
    },
    {
      "cell_type": "markdown",
      "metadata": {
        "id": "nmglYQu1qOC2"
      },
      "source": [
        "## Statistical Analysis\n",
        "\n",
        "Statistical analysis allows you to summarize and describe the data in a NumPy array. NumPy provides a wide range of fast and efficient aggregation functions which takes many values from an array and returns a single value that summarizes them, such as the sum, mean, or standard deviation.\n"
      ]
    },
    {
      "cell_type": "markdown",
      "source": [
        "#### Quick performance discussion\n",
        "\n",
        "Lets start with calculating the sum of the elements of an array. This is probably the most fundamental aggregation and it will serve as a good example of NumPy calculation speed."
      ],
      "metadata": {
        "id": "Ldl_Z_0ITwB2"
      }
    },
    {
      "cell_type": "markdown",
      "source": [
        "There are several ways you might think to sum the elements of an array, but they have dramatically different performance characteristics. Let's compare the NumPy methods (`np.sum()` and `.sum()`) against Python's built-in `sum()` function and a standard `for` loop."
      ],
      "metadata": {
        "id": "r5jc5rOWRhKb"
      }
    },
    {
      "cell_type": "code",
      "source": [
        "import numpy as np\n",
        "import time\n",
        "\n",
        "# Let's create a large array representing 1 million energy readings from a particle detector\n",
        "energy_readings = np.random.rand(1_000_000) * 100 # Simulate energies from 0-100 GeV\n",
        "print(\"--- Comparing Summation Methods on 1,000,000 elements ---\\n\")\n",
        "\n",
        "# --- Method 1: The NumPy Array Method (.sum()) ---\n",
        "start_time = time.time()\n",
        "sum_method = energy_readings.sum()\n",
        "end_time = time.time()\n",
        "duration_method = (end_time - start_time) * 1000 # Convert to milliseconds\n",
        "print(f\"Result from .sum() method: {sum_method:.2f}\")\n",
        "print(f\"Duration: {duration_method:.4f} ms\\n\")\n",
        "\n",
        "\n",
        "# --- Method 2: The NumPy Function (np.sum()) ---\n",
        "start_time = time.time()\n",
        "sum_function = np.sum(energy_readings)\n",
        "end_time = time.time()\n",
        "duration_function = (end_time - start_time) * 1000 # Convert to milliseconds\n",
        "print(f\"Result from np.sum() function: {sum_function:.2f}\")\n",
        "print(f\"Duration: {duration_function:.4f} ms\\n\")\n",
        "\n",
        "\n",
        "# --- Method 3: Python's Built-in sum() ---\n",
        "# WARNING: This is very slow for NumPy arrays.\n",
        "start_time = time.time()\n",
        "sum_builtin = sum(energy_readings)\n",
        "end_time = time.time()\n",
        "duration_builtin = (end_time - start_time) * 1000 # Convert to milliseconds\n",
        "print(f\"Result from built-in sum(): {sum_builtin:.2f}\")\n",
        "print(f\"Duration: {duration_builtin:.4f} ms\\n\")\n",
        "\n",
        "\n",
        "# --- Method 4: A Python for loop ---\n",
        "# WARNING: This is the slowest method of all.\n",
        "start_time = time.time()\n",
        "total = 0\n",
        "for x in energy_readings:\n",
        "    total += x\n",
        "end_time = time.time()\n",
        "duration_loop = (end_time - start_time) * 1000 # Convert to milliseconds\n",
        "print(f\"Result from for loop: {total:.2f}\")\n",
        "print(f\"Duration: {duration_loop:.4f} ms\")"
      ],
      "metadata": {
        "colab": {
          "base_uri": "https://localhost:8080/"
        },
        "id": "ktBMtFb9SYak",
        "outputId": "9300f585-213f-421d-9256-8e9aec259b41"
      },
      "execution_count": null,
      "outputs": [
        {
          "output_type": "stream",
          "name": "stdout",
          "text": [
            "--- Comparing Summation Methods on 1,000,000 elements ---\n",
            "\n",
            "Result from .sum() method: 49981198.44\n",
            "Duration: 1.7054 ms\n",
            "\n",
            "Result from np.sum() function: 49981198.44\n",
            "Duration: 1.4734 ms\n",
            "\n",
            "Result from built-in sum(): 49981198.44\n",
            "Duration: 234.8886 ms\n",
            "\n",
            "Result from for loop: 49981198.44\n",
            "Duration: 460.2263 ms\n"
          ]
        }
      ]
    },
    {
      "cell_type": "markdown",
      "source": [
        "As you can see, the numpy versions are much faster.\n",
        "\n",
        "`np.sum()`  and `.sum()` are equilvalent ways to use NumPy to calculate the sum of the elements of an array.  These functions use a pre-compiled, highly optimized C loop that operates directly on the array's data in memory. The entire calculation happens at the machine-code level, bypassing the Python interpreter entirely, which makes it incredibly fast.\n",
        "\n",
        "The built-in `sum()` we learned about in a previous notebook works great for lists but it is not designed for NumPy. It iterates through the array and pulls out each element one-by-one, converting it from a simple NumPy number into a full-featured Python number object. This \"unboxing\" process has a huge overhead for every single element, making it dramatically slower.\n",
        "\n",
        "The `for` loop is the slowest because every step of the loop (checking the condition, accessing the element, performing the addition) is handled by the slow Python interpreter.\n",
        "\n"
      ],
      "metadata": {
        "id": "-CUZW1MHSq0s"
      }
    },
    {
      "cell_type": "markdown",
      "source": [
        "### Basic Aggregation Functions\n",
        "\n",
        "NumPy provides many  essential aggregation functions that are very efficient:\n",
        "\n",
        "`.sum()` or `np.sum()`: Calculates the sum of all the elements of an array.\n",
        "\n",
        "`.mean()` or `np.mean()`: Calculates the average of the elements.\n",
        "\n",
        "`.std()` or `np.std()`: Calculates the standard deviation, a measure of how spread out the data is.\n",
        "\n",
        "`.min()` or  `np.min()`: Finds the minimum value in the array.\n",
        "\n",
        "`.max()` or `np.max()`: Finds the maximum value in the array.\n",
        "\n",
        "`.prod()` or `np.prod()`: Calculates the product of all elements in the array.\n",
        "\n",
        "\n",
        "There are also tools then allow us to return the indeces instead of the values:\n",
        "\n",
        "`.argmax()` or `np.argmax()`: returns the index of the maximum\n",
        "\n",
        "`.argmin()` or `np.argmin()`: returns the index of the minimum\n",
        "\n",
        "While argmax() and argmin() are great for finding the location of a single extreme value, there are times when we want to find all of the indices that satisfy a condition (e.g., all stars brighter than a certain magnitude). We already learned that we can use 'np.where()` to accomplish this!\n",
        "\n",
        "\n"
      ],
      "metadata": {
        "id": "jbaenqJATyUs"
      }
    },
    {
      "cell_type": "code",
      "source": [
        "# Example with using the aggregate method\n",
        "#  Here the function that belongs to the array object itself and is called on that object.\n",
        "\n",
        "# Simulate 50 radial velocity measurements of a star in km/s\n",
        "# A positive value means it's moving away from us (redshifted).\n",
        "star_velocities = np.random.normal(loc=25, scale=5, size=50) # Average velocity 25 km/s, std dev 5 km/s\n",
        "\n",
        "print(f\"Mean velocity:      {star_velocities.mean():.2f} km/s\")\n",
        "print(f\"Standard deviation: {star_velocities.std():.2f} km/s\")\n",
        "print(f\"Fastest recorded velocity (max): {star_velocities.max():.2f} km/s\")\n",
        "print(f\"Slowest recorded velocity (min): {star_velocities.min():.2f} km/s\")"
      ],
      "metadata": {
        "colab": {
          "base_uri": "https://localhost:8080/"
        },
        "id": "e7hrdMMsUjNU",
        "outputId": "a6ce6309-6dbb-463f-8f41-8c5d8d051480"
      },
      "execution_count": null,
      "outputs": [
        {
          "output_type": "stream",
          "name": "stdout",
          "text": [
            "Mean velocity:      24.75 km/s\n",
            "Standard deviation: 5.51 km/s\n",
            "Fastest recorded velocity (max): 38.35 km/s\n",
            "Slowest recorded velocity (min): 10.40 km/s\n"
          ]
        }
      ]
    },
    {
      "cell_type": "code",
      "source": [
        "# Example using the aggegate functions\n",
        "#   Use a general function from the NumPy library that takes an array as an argument.\n",
        "\n",
        "# Simulate 50 radial velocity measurements of a star in km/s\n",
        "# A positive value means it's moving away from us (redshifted).\n",
        "star_velocities = np.random.normal(loc=25, scale=5, size=50) # Average velocity 25 km/s, std dev 5 km/s\n",
        "\n",
        "print(f\"Mean velocity:      {np.mean(star_velocities):.2f} km/s\")\n",
        "print(f\"Standard deviation: {np.std(star_velocities):.2f} km/s\")\n",
        "print(f\"Fastest recorded velocity (max): {np.max(star_velocities):.2f} km/s\")\n",
        "print(f\"Slowest recorded velocity (min): {np.min(star_velocities):.2f} km/s\")"
      ],
      "metadata": {
        "colab": {
          "base_uri": "https://localhost:8080/"
        },
        "id": "dFOcext0Uk1B",
        "outputId": "825e5145-3dee-457d-f88e-f0460c3506a5"
      },
      "execution_count": null,
      "outputs": [
        {
          "output_type": "stream",
          "name": "stdout",
          "text": [
            "Mean velocity:      25.14 km/s\n",
            "Standard deviation: 4.26 km/s\n",
            "Fastest recorded velocity (max): 33.26 km/s\n",
            "Slowest recorded velocity (min): 13.96 km/s\n"
          ]
        }
      ]
    },
    {
      "cell_type": "code",
      "source": [
        "# The aggregate functions are more general than the methods\n",
        "new_list = [1.5,2.3,5.1]\n",
        "print(np.max(new_list)) # This works on lists and arrays\n",
        "# print(new_list.max()) # this does not work on lists"
      ],
      "metadata": {
        "colab": {
          "base_uri": "https://localhost:8080/"
        },
        "id": "XdS6WZluVyrv",
        "outputId": "f6d9b64f-8f63-4aa1-89e8-801acd2a482a"
      },
      "execution_count": null,
      "outputs": [
        {
          "output_type": "stream",
          "name": "stdout",
          "text": [
            "5.1\n"
          ]
        }
      ]
    },
    {
      "cell_type": "code",
      "source": [
        "# Let's simulate the brightness of several stars observed by a telescope\n",
        "star_brightness = np.array([10.2, 11.5, 9.8, 13.1, 10.9])\n",
        "\n",
        "# Find the max and min value\n",
        "brightest_value = star_brightness.max()\n",
        "dimmest_value = star_brightness.min()\n",
        "\n",
        "print(f\"The brightest star has a value of: {brightest_value}\")\n",
        "print(f\"The dimmest star has a value of: {dimmest_value}\\n\")\n",
        "\n",
        "\n",
        "# Find the max and min index location using the methods argmax() argmin()\n",
        "brightest_star_index = star_brightness.argmax()\n",
        "dimmest_star_index = star_brightness.argmin()\n",
        "\n",
        "print(f\"The brightest star is at index: {brightest_star_index}\")\n",
        "print(f\"The dimmest star is at index: {dimmest_star_index}\")\n",
        "\n",
        "# Alternate use np.argmax() and np.argmin() as a function\n",
        "print(f\"The brightest star is at index: {np.argmax(star_brightness)}\")\n",
        "print(f\"The dimmest star is at index: {np.argmin(star_brightness)}\")\n",
        "\n",
        "\n"
      ],
      "metadata": {
        "colab": {
          "base_uri": "https://localhost:8080/"
        },
        "id": "257PXR2LOFvg",
        "outputId": "ec750690-1c86-4202-92a2-e94d1c79db5d"
      },
      "execution_count": null,
      "outputs": [
        {
          "output_type": "stream",
          "name": "stdout",
          "text": [
            "The brightest star has a value of: 13.1\n",
            "The dimmest star has a value of: 9.8\n",
            "\n",
            "The brightest star is at index: 3\n",
            "The dimmest star is at index: 2\n",
            "The brightest star is at index: 3\n",
            "The dimmest star is at index: 2\n"
          ]
        }
      ]
    },
    {
      "cell_type": "code",
      "source": [
        "# Use np.where() to find the indices of all stars with brightness > 11.0\n",
        "bright_stars_indices = np.where(star_brightness > 11.0)\n",
        "\n",
        "print(f\"The indices of stars brighter than 11.0 are: {bright_stars_indices[0]}\")\n",
        "\n",
        "# You can then use these indices to select the values themselves\n",
        "bright_star_values = star_brightness[bright_stars_indices]\n",
        "print(f\"The values of those bright stars are: {bright_star_values}\")"
      ],
      "metadata": {
        "colab": {
          "base_uri": "https://localhost:8080/",
          "height": 284
        },
        "id": "GdaRf63wOKZt",
        "outputId": "cc138535-c4ff-4a55-f31c-9c9eccf2cdf0"
      },
      "execution_count": null,
      "outputs": [
        {
          "output_type": "error",
          "ename": "NameError",
          "evalue": "name 'star_brightness' is not defined",
          "traceback": [
            "\u001b[0;31m---------------------------------------------------------------------------\u001b[0m",
            "\u001b[0;31mNameError\u001b[0m                                 Traceback (most recent call last)",
            "\u001b[0;32m/tmp/ipython-input-1889331848.py\u001b[0m in \u001b[0;36m<cell line: 0>\u001b[0;34m()\u001b[0m\n\u001b[1;32m      1\u001b[0m \u001b[0;31m# Use np.where() to find the indices of all stars with brightness > 11.0\u001b[0m\u001b[0;34m\u001b[0m\u001b[0;34m\u001b[0m\u001b[0m\n\u001b[0;32m----> 2\u001b[0;31m \u001b[0mbright_stars_indices\u001b[0m \u001b[0;34m=\u001b[0m \u001b[0mnp\u001b[0m\u001b[0;34m.\u001b[0m\u001b[0mwhere\u001b[0m\u001b[0;34m(\u001b[0m\u001b[0mstar_brightness\u001b[0m \u001b[0;34m>\u001b[0m \u001b[0;36m11.0\u001b[0m\u001b[0;34m)\u001b[0m\u001b[0;34m\u001b[0m\u001b[0;34m\u001b[0m\u001b[0m\n\u001b[0m\u001b[1;32m      3\u001b[0m \u001b[0;34m\u001b[0m\u001b[0m\n\u001b[1;32m      4\u001b[0m \u001b[0mprint\u001b[0m\u001b[0;34m(\u001b[0m\u001b[0;34mf\"The indices of stars brighter than 11.0 are: {bright_stars_indices[0]}\"\u001b[0m\u001b[0;34m)\u001b[0m\u001b[0;34m\u001b[0m\u001b[0;34m\u001b[0m\u001b[0m\n\u001b[1;32m      5\u001b[0m \u001b[0;34m\u001b[0m\u001b[0m\n",
            "\u001b[0;31mNameError\u001b[0m: name 'star_brightness' is not defined"
          ]
        }
      ]
    },
    {
      "cell_type": "markdown",
      "source": [
        "### Aggregating Along Axes\n",
        "\n",
        "The `axis` parameter  allows you to perform an aggregation along a specific dimension of a multi-dimensional array.\n",
        "\n",
        "Think of the `axis` parameter as specifying the direction the operation \"travels\".\n",
        "\n",
        "\n",
        "* axis=0: You squish the array vertically.\n",
        "  * The calculation moves vertically, down the rows (axis 0) for each column.\n",
        "  * You are left with a summary for each column.\n",
        "\n",
        "* axis=1: You squish the array horizontally.\n",
        "  * The calculation moves horizontally, across the columns (axis 1) for each row.\n",
        "  * You are left with a summary for each row."
      ],
      "metadata": {
        "id": "KzijY3vFurfN"
      }
    },
    {
      "cell_type": "code",
      "source": [
        "# Imagine a 2D array of temperature readings from a lab.\n",
        "# Each row is a different sensor,\n",
        "# Each column is a time step (t=0, t=1, t=2).\n",
        "lab_temps = np.array([[25.1, 25.3, 25.5],  # Sensor 1\n",
        "                      [24.9, 25.0, 25.2],  # Sensor 2\n",
        "                      [24.9, 25.0, 25.2]]) # Sensor 3\n",
        "\n",
        "# Calculate the overall average temperature (default axis=None)\n",
        "overall_mean = lab_temps.mean()\n",
        "print(f\"Overall mean temperature: {overall_mean:.2f}°C\\n\")\n",
        "\n",
        "# Calculate the average temperature for each SENSOR\n",
        "#  (across the columns, axis=1)\n",
        "sensor_means = lab_temps.mean(axis=1)\n",
        "print(f\"Average for each sensor: {sensor_means}\\n\")\n",
        "print(f\"   Check mean Sensor 1: {lab_temps[0].mean()}\")\n",
        "print(f\"   Check mean Sensor 2: {lab_temps[1].mean()}\")\n",
        "print(f\"   Check mean Sensor 3: {lab_temps[2].mean()}\\n\")\n",
        "\n",
        "# Calculate the average temperature at each TIME STEP\n",
        "#  (down the rows, axis=0)\n",
        "timestep_means = lab_temps.mean(axis=0)\n",
        "print(f\"Average at each time step: {timestep_means}\")\n",
        "print(f\"   Check mean Time Step 1: {lab_temps[:, 0].mean():.2f}\")\n",
        "print(f\"   Check mean Time Step 2: {lab_temps[:, 1].mean():.2f}\")\n",
        "print(f\"   Check mean Time Step 3: {lab_temps[:, 2].mean():.2f}\\n\")"
      ],
      "metadata": {
        "colab": {
          "base_uri": "https://localhost:8080/"
        },
        "id": "ct9DiDp9u2Bc",
        "outputId": "b477747b-a052-4cde-ac64-c218d3123b30"
      },
      "execution_count": null,
      "outputs": [
        {
          "output_type": "stream",
          "name": "stdout",
          "text": [
            "Overall mean temperature: 25.12°C\n",
            "\n",
            "Average for each sensor: [25.3        25.03333333 25.03333333]\n",
            "\n",
            "   Check mean Sensor 1: 25.3\n",
            "   Check mean Sensor 2: 25.03333333333333\n",
            "   Check mean Sensor 3: 25.03333333333333\n",
            "\n",
            "Average at each time step: [24.96666667 25.1        25.3       ]\n",
            "   Check mean Time Step 1: 24.97\n",
            "   Check mean Time Step 2: 25.10\n",
            "   Check mean Time Step 3: 25.30\n",
            "\n"
          ]
        }
      ]
    },
    {
      "cell_type": "markdown",
      "source": [
        "### Exercises - Statistical Analysis\n",
        "\n"
      ],
      "metadata": {
        "id": "rFFJHPdkzXJW"
      }
    },
    {
      "cell_type": "markdown",
      "source": [
        "Exercise: Analyzing Weekly Weather Data\n",
        "\n",
        "You are given a 2D NumPy array containing the average daily temperature (in Celsius) for four different cities over a seven-day week.\n",
        "\n",
        "Each row represents a different city, and each column represents a day of the week, from Monday to Sunday.\n",
        "\n",
        "1. Overall Weekly Statistics: Calculate the mean, minimum, and maximum temperature recorded across all cities for the entire week.\n",
        "\n",
        "2. City Averages: Calculate the average weekly temperature for each city. Your result should be a 1D array with four values.\n",
        "\n",
        "3. Daily Averages: Calculate the average temperature for each day of the week across all the cities. Your result should be a 1D array with seven values.\n",
        "\n",
        "4. Hottest Day: On which day of the week (Monday=0, Sunday=6) was the average temperature across all cities the highest?"
      ],
      "metadata": {
        "id": "dgPwGd-A3NQl"
      }
    },
    {
      "cell_type": "code",
      "source": [
        "import numpy as np\n",
        "\n",
        "# Data: Temperatures for 4 cities over 7 days\n",
        "# Rows: City A, City B, City C, City D\n",
        "# Columns: Mon, Tue, Wed, Thu, Fri, Sat, Sun\n",
        "temps = np.array([\n",
        "    [15.1, 16.3, 15.8, 17.2, 16.9, 18.1, 17.5], # City A\n",
        "    [12.5, 13.1, 13.8, 14.5, 15.2, 15.9, 14.8], # City B\n",
        "    [18.2, 18.5, 19.1, 19.8, 20.3, 20.1, 19.5], # City C\n",
        "    [14.8, 15.2, 14.9, 15.9, 16.1, 16.8, 16.3]  # City D\n",
        "])"
      ],
      "metadata": {
        "id": "95nTcoTL3fd9"
      },
      "execution_count": null,
      "outputs": []
    },
    {
      "cell_type": "code",
      "source": [
        "\n"
      ],
      "metadata": {
        "id": "IdMlw6mJ2XgH"
      },
      "execution_count": null,
      "outputs": []
    },
    {
      "cell_type": "markdown",
      "source": [
        "## Manipulating Arrays"
      ],
      "metadata": {
        "id": "PCuZ6Y7xPLA0"
      }
    },
    {
      "cell_type": "markdown",
      "metadata": {
        "id": "nkZjZGOCqOC8"
      },
      "source": [
        "### Reshape"
      ]
    },
    {
      "cell_type": "code",
      "execution_count": null,
      "metadata": {
        "id": "S2JKPkxoqOC8",
        "outputId": "07fbd35b-290e-4ddc-a318-884c0a13aecc",
        "colab": {
          "base_uri": "https://localhost:8080/"
        }
      },
      "outputs": [
        {
          "output_type": "stream",
          "name": "stdout",
          "text": [
            "[ 0  1  2  3  4  5  6  7  8  9 10 11 12 13 14 15 16 17 18 19]\n",
            "[[ 0  1  2  3  4]\n",
            " [ 5  6  7  8  9]\n",
            " [10 11 12 13 14]\n",
            " [15 16 17 18 19]]\n",
            "(4, 5)\n",
            "2\n"
          ]
        }
      ],
      "source": [
        "a = np.arange(20)\n",
        "print(a)\n",
        "\n",
        "a = a.reshape(4, 5)\n",
        "print(a)\n",
        "\n",
        "print(a.shape)\n",
        "print(a.ndim)"
      ]
    },
    {
      "cell_type": "markdown",
      "source": [
        "## Linear Algebra with NumPy\n",
        "\n",
        "Linear algebra is a language of physics, describing everything from classical mechanics to quantum states. NumPy's `linalg` module provides a highly optimized and easy-to-use set of linear algebra functions."
      ],
      "metadata": {
        "id": "x8NWAUPxLy_f"
      }
    },
    {
      "cell_type": "markdown",
      "source": [
        "### Vectors, Matrices, and Multiplication\n",
        "\n",
        "First, let's define a 2D position vector and a rotation matrix. In physics, a rotation matrix is used to change the basis of a vector.\n",
        "\n",
        "Crucially, the * operator performs element-wise multiplication, while the @ operator performs the matrix product.\n"
      ],
      "metadata": {
        "id": "ddtCmxS2MFDy"
      }
    },
    {
      "cell_type": "code",
      "source": [
        "\n",
        "# A position vector for a particle at (x=2, y=1)\n",
        "r_vec = np.array([2, 1])\n",
        "\n",
        "# A rotation matrix for a 30-degree counter-clockwise rotation\n",
        "theta = np.deg2rad(30) # Convert 30 degrees to radians\n",
        "c, s = np.cos(theta), np.sin(theta)\n",
        "rot_matrix = np.array([[c, -s],\n",
        "                       [s,  c]])\n",
        "\n",
        "# Apply the rotation to the vector using matrix multiplication\n",
        "rotated_vec = rot_matrix @ r_vec\n",
        "\n",
        "print(f\"Original vector:\\n{r_vec}\")\n",
        "print(f\"\\nRotation matrix:\\n{rot_matrix}\")\n",
        "print(f\"\\nRotated vector:\\n{rotated_vec}\")"
      ],
      "metadata": {
        "colab": {
          "base_uri": "https://localhost:8080/"
        },
        "id": "70A937c-MMHC",
        "outputId": "13222bd6-de62-479b-abb5-33bbb7120a90"
      },
      "execution_count": null,
      "outputs": [
        {
          "output_type": "stream",
          "name": "stdout",
          "text": [
            "Original vector:\n",
            "[2 1]\n",
            "\n",
            "Rotation matrix:\n",
            "[[ 0.8660254 -0.5      ]\n",
            " [ 0.5        0.8660254]]\n",
            "\n",
            "Rotated vector:\n",
            "[1.23205081 1.8660254 ]\n"
          ]
        }
      ]
    },
    {
      "cell_type": "markdown",
      "metadata": {
        "id": "wrGQSNKyqOC8"
      },
      "source": [
        "## Iterating over an array"
      ]
    },
    {
      "cell_type": "code",
      "execution_count": null,
      "metadata": {
        "id": "81-TSJYZqOC8",
        "outputId": "0a140e37-7c6a-48d6-e6ad-6a510b986105",
        "colab": {
          "base_uri": "https://localhost:8080/"
        }
      },
      "outputs": [
        {
          "output_type": "stream",
          "name": "stdout",
          "text": [
            "a:\n",
            "[[ 0  1  2  3  4]\n",
            " [ 5  6  7  8  9]\n",
            " [10 11 12 13 14]\n",
            " [15 16 17 18 19]]\n",
            "\n",
            "Loop:\n",
            "[0 1 2 3 4]\n",
            "0\n",
            "1\n",
            "2\n",
            "3\n",
            "4\n",
            "[5 6 7 8 9]\n",
            "5\n",
            "6\n",
            "7\n",
            "8\n",
            "9\n",
            "[10 11 12 13 14]\n",
            "10\n",
            "11\n",
            "12\n",
            "13\n",
            "14\n",
            "[15 16 17 18 19]\n",
            "15\n",
            "16\n",
            "17\n",
            "18\n",
            "19\n"
          ]
        }
      ],
      "source": [
        "a = np.arange(20)\n",
        "a = a.reshape(4, 5)\n",
        "\n",
        "print(\"a:\")\n",
        "print(a)\n",
        "\n",
        "print(\"\\nLoop:\")\n",
        "for i in a: # Iterate over rows:\n",
        "    print(i) # Each entry is an array\n",
        "    for j in i: # Iterate within a row\n",
        "        print(j)"
      ]
    },
    {
      "cell_type": "code",
      "execution_count": null,
      "metadata": {
        "id": "Js9c3KyeqOC8",
        "outputId": "186b6810-7bdd-4ca0-9fd1-8ae002759105",
        "colab": {
          "base_uri": "https://localhost:8080/"
        }
      },
      "outputs": [
        {
          "output_type": "stream",
          "name": "stdout",
          "text": [
            "0 1 2 3 4 5 6 7 8 9 10 11 12 13 14 15 16 17 18 19 "
          ]
        }
      ],
      "source": [
        "# Iterate over every element\n",
        "\n",
        "# Use nditer https://numpy.org/doc/stable/reference/generated/numpy.nditer.html\n",
        "\n",
        "for i in np.nditer(a):\n",
        "    print(i, sep=\", \",end=\" \")"
      ]
    },
    {
      "cell_type": "code",
      "execution_count": null,
      "metadata": {
        "id": "EZ-OA77CqOC8",
        "outputId": "841059ea-6866-49f3-e47d-9a483fae6c57",
        "colab": {
          "base_uri": "https://localhost:8080/"
        }
      },
      "outputs": [
        {
          "output_type": "stream",
          "name": "stdout",
          "text": [
            "0 1 2 3 4 5 6 7 8 9 10 11 12 13 14 "
          ]
        }
      ],
      "source": [
        "# Good practice to use nditer for any array\n",
        "\n",
        "x = np.arange(15)\n",
        "for i in np.nditer(x):\n",
        "    print(i, sep=\", \",end=\" \")"
      ]
    },
    {
      "cell_type": "code",
      "execution_count": null,
      "metadata": {
        "id": "i40XwX5tqOC9",
        "outputId": "04a86d06-7370-45be-fdee-8c511943d6ab",
        "colab": {
          "base_uri": "https://localhost:8080/"
        }
      },
      "outputs": [
        {
          "output_type": "stream",
          "name": "stdout",
          "text": [
            "0 2 4 6 8 10 12 14 16 18 "
          ]
        }
      ],
      "source": [
        "# nditer creates a iterator object which you can predefine\n",
        "\n",
        "x = np.arange(0,20,2)\n",
        "it = np.nditer(x)\n",
        "for value in it:\n",
        "    print(value, sep=\", \",end=\" \")"
      ]
    },
    {
      "cell_type": "code",
      "execution_count": null,
      "metadata": {
        "id": "XYG8ka-sqOC9",
        "outputId": "0c23a04c-76d4-41af-8112-366e07c3e249",
        "colab": {
          "base_uri": "https://localhost:8080/"
        }
      },
      "outputs": [
        {
          "output_type": "stream",
          "name": "stdout",
          "text": [
            "value 0 index 0\n",
            "value 2 index 1\n",
            "value 4 index 2\n",
            "value 6 index 3\n",
            "value 8 index 4\n",
            "value 10 index 5\n",
            "value 12 index 6\n",
            "value 14 index 7\n",
            "value 16 index 8\n",
            "value 18 index 9\n"
          ]
        }
      ],
      "source": [
        "# This allows you to access both the array value at a given index and the index\n",
        "\n",
        "x = np.arange(0,20,2)\n",
        "it = np.nditer(x, flags=['f_index']) # track the index\n",
        "for value in it:\n",
        "    print(\"value\",value,\"index\",it.index )"
      ]
    },
    {
      "cell_type": "markdown",
      "metadata": {
        "collapsed": true,
        "id": "GRfunQ5CqOC9"
      },
      "source": [
        "## Indexing with booleans (one more example)\n",
        "\n",
        "Skip this if you understand already\n"
      ]
    },
    {
      "cell_type": "code",
      "execution_count": null,
      "metadata": {
        "id": "IWEG05CNqOC9",
        "outputId": "bd71f894-7d90-412b-b36d-5887701fadd5",
        "colab": {
          "base_uri": "https://localhost:8080/"
        }
      },
      "outputs": [
        {
          "output_type": "stream",
          "name": "stdout",
          "text": [
            "array a: [5 3 2 6 8 1 9 4 3 0 3 5 1 7 9 4 2 2 6 8 9]\n",
            "len a: 21\n"
          ]
        }
      ],
      "source": [
        "import numpy as np\n",
        "a = np.array([5,3,2,6,8,1,9,4,3,0,3,5,1,7,9,4,2,2,6,8,9])\n",
        "print(\"array a:\",a)\n",
        "print(\"len a:\", len(a))"
      ]
    },
    {
      "cell_type": "code",
      "execution_count": null,
      "metadata": {
        "id": "jA2oAv_OqOC9"
      },
      "outputs": [],
      "source": [
        "# Create an array of booleans which tells us if a given\n",
        "#  element of array a is greater or equal to 5\n",
        "b = a>=5"
      ]
    },
    {
      "cell_type": "code",
      "execution_count": null,
      "metadata": {
        "id": "FQ2antb8qOC9",
        "outputId": "f6545901-8224-4f28-80c2-0ff4e570b6e5",
        "colab": {
          "base_uri": "https://localhost:8080/"
        }
      },
      "outputs": [
        {
          "output_type": "stream",
          "name": "stdout",
          "text": [
            "array b: [ True False False  True  True False  True False False False False  True\n",
            " False  True  True False False False  True  True  True]\n",
            "len b: 21\n"
          ]
        }
      ],
      "source": [
        "print(\"array b:\",b)\n",
        "print(\"len b:\", len(b))"
      ]
    },
    {
      "cell_type": "code",
      "execution_count": null,
      "metadata": {
        "id": "vGEoMdUFqOC9",
        "outputId": "c0f5273c-85ec-4323-aa88-035cb5486813",
        "colab": {
          "base_uri": "https://localhost:8080/"
        }
      },
      "outputs": [
        {
          "output_type": "stream",
          "name": "stdout",
          "text": [
            "array c: [5 6 8 9 5 7 9 6 8 9]\n",
            "len c: 10\n"
          ]
        }
      ],
      "source": [
        "# Create an array which only contains the elements of a\n",
        "#  which passed our selection above (and therefore are True in b)\n",
        "c = a[b]\n",
        "print(\"array c:\",c)\n",
        "print(\"len c:\", len(c))"
      ]
    },
    {
      "cell_type": "code",
      "execution_count": null,
      "metadata": {
        "id": "1hB4sPLaqOC9",
        "outputId": "07f9d444-0b8b-4f8a-8e0e-1b98eac7cc81",
        "colab": {
          "base_uri": "https://localhost:8080/"
        }
      },
      "outputs": [
        {
          "output_type": "stream",
          "name": "stdout",
          "text": [
            "[5 6 8 9 5 7 9 6 8 9]\n"
          ]
        }
      ],
      "source": [
        "# There are of course other ways of doing this, instead of the numpy way above\n",
        "d = []\n",
        "for i in np.nditer(a):\n",
        "    if float(i)>=5:\n",
        "        d.append(int(i))\n",
        "da = np.array(d,int)\n",
        "print(da)"
      ]
    },
    {
      "cell_type": "markdown",
      "metadata": {
        "id": "uiPka6_AqOC9"
      },
      "source": [
        "## Importing Data with Numpy\n",
        "\n",
        "https://numpy.org/doc/stable/reference/generated/numpy.loadtxt.html\n",
        "\n",
        "We will learn more about this later, but for now know that one can import data to numpy arrays using \"loadtxt\". You have a few options: Feed loadtxt the name of a local file within the directory where your notebook is located, feed loadtxt the path and filename to a file on your computer, or give it a url to web-based data."
      ]
    },
    {
      "cell_type": "code",
      "execution_count": null,
      "metadata": {
        "id": "G_VgH0hJqOC9",
        "outputId": "c9c320b5-c0a9-4a02-b1df-392d7eec0c8b",
        "colab": {
          "base_uri": "https://localhost:8080/"
        }
      },
      "outputs": [
        {
          "output_type": "stream",
          "name": "stdout",
          "text": [
            "[5.4874e+14 6.9310e+14 7.4307e+14 8.2193e+14 9.6074e+14 1.1840e+15]\n",
            "[0.5309  1.0842  1.2734  1.6598  2.19856 3.10891]\n",
            "[[5.48740e+14 5.30900e-01]\n",
            " [6.93100e+14 1.08420e+00]\n",
            " [7.43070e+14 1.27340e+00]\n",
            " [8.21930e+14 1.65980e+00]\n",
            " [9.60740e+14 2.19856e+00]\n",
            " [1.18400e+15 3.10891e+00]]\n"
          ]
        }
      ],
      "source": [
        "url = 'https://raw.githubusercontent.com/jdolen/PurdueNorthwest_PHYS308_ScientificComputing1/master/Data/millikan.txt'\n",
        "data = np.loadtxt(url,float)\n",
        "x = data[:,0]\n",
        "y = data[:,1]\n",
        "print(x)\n",
        "print(y)\n",
        "print(data)"
      ]
    },
    {
      "cell_type": "markdown",
      "metadata": {
        "id": "341yCnV-qOC9"
      },
      "source": [
        "## Final Exercises"
      ]
    },
    {
      "cell_type": "code",
      "execution_count": null,
      "metadata": {
        "id": "jNZWXlbJqOC9"
      },
      "outputs": [],
      "source": [
        "A = np.array([[ 4, -1,  4,  0,  0,  0],\n",
        "              [ 5, -3,  3,  0,  0,  0],\n",
        "              [ 3,  2, -3,  0,  0,  0],\n",
        "              [ 0,  0,  0,  2,  3, -3],\n",
        "              [ 0,  0,  0, -5,  4,  3],\n",
        "              [ 0,  0,  0,  1,  3,  4]])"
      ]
    },
    {
      "cell_type": "markdown",
      "metadata": {
        "id": "SgYw_P2DqOC9"
      },
      "source": [
        "1. Create array Asquared which contains A with every element squared\n",
        "\n",
        "2. Create subarray B which is a 3x3 array containting the top left of A. Createa subarray C which is a 3x3 array containting the bottom right of A. Use matrix multipliation to find B times C.\n",
        "\n",
        "3. Use numpy fabs to take the absolute value of each element of A.\n",
        "\n",
        "4. Turn every 0 in array A into a 9. Hint: Index with Booleans then change all True elements to 9."
      ]
    },
    {
      "cell_type": "code",
      "execution_count": null,
      "metadata": {
        "id": "AHth5M3yqOC9"
      },
      "outputs": [],
      "source": []
    },
    {
      "cell_type": "code",
      "execution_count": null,
      "metadata": {
        "id": "2XJ1_lN7qOC9"
      },
      "outputs": [],
      "source": []
    },
    {
      "cell_type": "code",
      "execution_count": null,
      "metadata": {
        "id": "kOmggNPZqOC9"
      },
      "outputs": [],
      "source": []
    }
  ],
  "metadata": {
    "kernelspec": {
      "display_name": "Python 3",
      "language": "python",
      "name": "python3"
    },
    "language_info": {
      "codemirror_mode": {
        "name": "ipython",
        "version": 3
      },
      "file_extension": ".py",
      "mimetype": "text/x-python",
      "name": "python",
      "nbconvert_exporter": "python",
      "pygments_lexer": "ipython3",
      "version": "3.8.8"
    },
    "colab": {
      "provenance": [],
      "toc_visible": true
    }
  },
  "nbformat": 4,
  "nbformat_minor": 0
}